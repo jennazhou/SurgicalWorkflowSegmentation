{
 "cells": [
  {
   "cell_type": "code",
   "execution_count": 1,
   "id": "274a57f4",
   "metadata": {},
   "outputs": [],
   "source": [
    "import pickle\n",
    "import os\n",
    "import glob\n",
    "import numpy as np\n",
    "import json\n",
    "from scipy.stats import norm"
   ]
  },
  {
   "cell_type": "code",
   "execution_count": 2,
   "id": "d291b8cd",
   "metadata": {},
   "outputs": [],
   "source": [
    "from sklearn.metrics import accuracy_score, precision_score, recall_score, f1_score, multilabel_confusion_matrix\n",
    "import matplotlib.pyplot as plt\n",
    "from matplotlib.pyplot import figure\n",
    "from collections import defaultdict"
   ]
  },
  {
   "cell_type": "code",
   "execution_count": 3,
   "id": "6677a579",
   "metadata": {},
   "outputs": [],
   "source": [
    "path = \"/home/jenna/sacro_results/results/\""
   ]
  },
  {
   "cell_type": "code",
   "execution_count": 4,
   "id": "53fd9860",
   "metadata": {},
   "outputs": [
    {
     "data": {
      "text/plain": [
       "['cf7cf863-929a-4b89-962b-7913869167e4',\n",
       " 'a90983a1-2329-4019-96e8-949493c3fc24',\n",
       " '315ac662-9e95-4dec-80f0-48e244f9f8e1',\n",
       " 'b71b28f1-7f63-4593-bdb2-9e60dd1ac71e',\n",
       " '96c75293-2026-48af-ad99-37281cb9bb3e',\n",
       " '436c714b-b588-4894-b68c-1e0f773e5df1',\n",
       " '5238ac7b-ad85-488f-b013-9ee4e2064e60',\n",
       " 'e8d7e0c4-b293-43ce-832f-c37fb8fd3b23',\n",
       " 'e6a9f8f7-8024-42d5-aad5-ef726d353f3b',\n",
       " '26d9e19b-59ed-4bbb-906a-9953b5d2c825',\n",
       " 'a3347182-4364-43f8-8992-2409b1b66d31',\n",
       " 'f63b25f4-8df4-4336-8c02-9456eb3c09b0',\n",
       " 'slinwin_processor.py',\n",
       " 'e8d3eabc-edd1-414f-9d95-277df742655a',\n",
       " 'b6701cb1-3a9b-456e-ad73-c6e06eea03ec']"
      ]
     },
     "execution_count": 4,
     "metadata": {},
     "output_type": "execute_result"
    }
   ],
   "source": [
    "os.listdir(path)"
   ]
  },
  {
   "cell_type": "code",
   "execution_count": 5,
   "id": "e7477233",
   "metadata": {},
   "outputs": [],
   "source": [
    "# load pred and true labels. may use mode_ave for comparison\n",
    "def getLabels(video):\n",
    "    example_path = path + video\n",
    "    pred_labels = pickle.load(open(example_path + \"/seq_pred.pickle\", 'rb'))\n",
    "#     mode_ave_pred_labels = pickle.load(open(example_path + \"/seq_mode_av.pickle\", 'rb'))\n",
    "    true_labels = pickle.load(open(example_path + \"/seq_true.pickle\", 'rb'))\n",
    "    return (pred_labels, true_labels)"
   ]
  },
  {
   "cell_type": "code",
   "execution_count": 6,
   "id": "9bd6dad4",
   "metadata": {},
   "outputs": [
    {
     "data": {
      "text/plain": [
       "['vanilla_pki_output.pickle',\n",
       " 'epdp_output.pickle',\n",
       " 'eptp_output.pickle',\n",
       " 'fepp_output.pickle']"
      ]
     },
     "execution_count": 6,
     "metadata": {},
     "output_type": "execute_result"
    }
   ],
   "source": [
    "# load vanilla and extended PKI models results\n",
    "pki_res_path = \"./jenna_model_outputs/\"\n",
    "os.listdir(pki_res_path)"
   ]
  },
  {
   "cell_type": "code",
   "execution_count": 7,
   "id": "b6d2dff2",
   "metadata": {},
   "outputs": [],
   "source": [
    "# vanilla pki results\n",
    "pki_output = pickle.load(open(pki_res_path + \"vanilla_pki_output.pickle\", 'rb'))\n",
    "# extended pki with duration prior results (transition probability)\n",
    "epdp_output = pickle.load(open(pki_res_path + \"epdp_output.pickle\", 'rb'))\n",
    "# extended pki with transition timestamps prior results (phase entry probability)\n",
    "eptp_output = pickle.load(open(pki_res_path + \"eptp_output.pickle\", 'rb'))\n",
    "# fully extended pki with priors\n",
    "fepp_output = pickle.load(open(pki_res_path + \"fepp_output.pickle\", 'rb'))"
   ]
  },
  {
   "cell_type": "code",
   "execution_count": 8,
   "id": "67256833",
   "metadata": {},
   "outputs": [],
   "source": [
    "pki_outputs = {\"vanilla\":pki_output,\n",
    "               \"epdp\":epdp_output, \n",
    "               \"eptp\":eptp_output, \n",
    "               \"fepp\":fepp_output}"
   ]
  },
  {
   "cell_type": "code",
   "execution_count": 9,
   "id": "8cb2bddb",
   "metadata": {},
   "outputs": [],
   "source": [
    "## get all pred labels and all true labels by video name\n",
    "pred_label_dict = {}\n",
    "true_label_dict = {}\n",
    "for video in os.listdir(path):\n",
    "    if video == \"slinwin_processor.py\":\n",
    "        continue\n",
    "    pred_labels, true_labels = getLabels(video)\n",
    "    pred_label_dict[video] = pred_labels\n",
    "    true_label_dict[video] = true_labels"
   ]
  },
  {
   "cell_type": "code",
   "execution_count": 10,
   "id": "67a3c4b4",
   "metadata": {},
   "outputs": [
    {
     "name": "stdout",
     "output_type": "stream",
     "text": [
      "14\n",
      "14\n"
     ]
    }
   ],
   "source": [
    "print(len(pred_label_dict))\n",
    "print(len(true_label_dict))"
   ]
  },
  {
   "cell_type": "code",
   "execution_count": 11,
   "id": "a9b8e4d2",
   "metadata": {},
   "outputs": [
    {
     "name": "stdout",
     "output_type": "stream",
     "text": [
      "14\n",
      "['cf7cf863-929a-4b89-962b-7913869167e4', 'a90983a1-2329-4019-96e8-949493c3fc24', '315ac662-9e95-4dec-80f0-48e244f9f8e1', 'b71b28f1-7f63-4593-bdb2-9e60dd1ac71e', '96c75293-2026-48af-ad99-37281cb9bb3e', '436c714b-b588-4894-b68c-1e0f773e5df1', '5238ac7b-ad85-488f-b013-9ee4e2064e60', 'e8d7e0c4-b293-43ce-832f-c37fb8fd3b23', 'e6a9f8f7-8024-42d5-aad5-ef726d353f3b', '26d9e19b-59ed-4bbb-906a-9953b5d2c825', 'a3347182-4364-43f8-8992-2409b1b66d31', 'f63b25f4-8df4-4336-8c02-9456eb3c09b0', 'e8d3eabc-edd1-414f-9d95-277df742655a', 'b6701cb1-3a9b-456e-ad73-c6e06eea03ec']\n"
     ]
    }
   ],
   "source": [
    "video_names = []\n",
    "for video in os.listdir(path):\n",
    "    if video == \"slinwin_processor.py\":\n",
    "        continue\n",
    "    video_names.append(video)\n",
    "\n",
    "print(len(video_names))    \n",
    "print(video_names)\n"
   ]
  },
  {
   "cell_type": "code",
   "execution_count": 12,
   "id": "1534709b",
   "metadata": {},
   "outputs": [],
   "source": [
    "test_folds = {\n",
    "    1:[\"e8d7e0c4-b293-43ce-832f-c37fb8fd3b23\", \"f63b25f4-8df4-4336-8c02-9456eb3c09b0\"],\n",
    "    2:[\"cf7cf863-929a-4b89-962b-7913869167e4\", \"b6701cb1-3a9b-456e-ad73-c6e06eea03ec\"],\n",
    "    3:[\"315ac662-9e95-4dec-80f0-48e244f9f8e1\", \"a90983a1-2329-4019-96e8-949493c3fc24\"],\n",
    "    4:[\"e6a9f8f7-8024-42d5-aad5-ef726d353f3b\", \"96c75293-2026-48af-ad99-37281cb9bb3e\"],\n",
    "    5:[\"b71b28f1-7f63-4593-bdb2-9e60dd1ac71e\", \"a3347182-4364-43f8-8992-2409b1b66d31\"],\n",
    "    6:[\"5238ac7b-ad85-488f-b013-9ee4e2064e60\", \"436c714b-b588-4894-b68c-1e0f773e5df1\"],\n",
    "    7:[\"e8d3eabc-edd1-414f-9d95-277df742655a\", \"26d9e19b-59ed-4bbb-906a-9953b5d2c825\"]\n",
    "}"
   ]
  },
  {
   "cell_type": "markdown",
   "id": "5ed7bea1",
   "metadata": {},
   "source": [
    "## Evaluation:\n",
    "**video comparison**: get accuracy and f1 scores (average of per phase) for each video and compare the trend   \n",
    "**per-phase evaluation**: all metrics are done per phase basis. final score reported for the metrics is the average score for that phase across all videos"
   ]
  },
  {
   "cell_type": "code",
   "execution_count": 13,
   "id": "95c10564",
   "metadata": {
    "scrolled": false
   },
   "outputs": [
    {
     "name": "stdout",
     "output_type": "stream",
     "text": [
      "Test fold 1:\n",
      "PKI acc: 0.7925130077590141\n",
      "EPDP acc: 0.7595381104518485\n",
      "EPTP acc: 0.8495572797809219\n",
      "FEPP acc: 0.8349465997261525\n",
      "\n",
      "Test fold 2:\n",
      "PKI acc: 0.7807715322001036\n",
      "EPDP acc: 0.8307849036420465\n",
      "EPTP acc: 0.8021093449664878\n",
      "FEPP acc: 0.8064980193551622\n",
      "\n",
      "Test fold 3:\n",
      "PKI acc: 0.7419087185918442\n",
      "EPDP acc: 0.78419707674911\n",
      "EPTP acc: 0.8164828375105929\n",
      "FEPP acc: 0.8291359592392517\n",
      "\n",
      "Test fold 4:\n",
      "PKI acc: 0.6678062601225565\n",
      "EPDP acc: 0.7041154535686049\n",
      "EPTP acc: 0.773223327196515\n",
      "FEPP acc: 0.78269399467133\n",
      "\n",
      "Test fold 5:\n",
      "PKI acc: 0.7645499817373564\n",
      "EPDP acc: 0.7959816016715286\n",
      "EPTP acc: 0.8286443225107469\n",
      "FEPP acc: 0.8323016481607497\n",
      "\n",
      "Test fold 6:\n",
      "PKI acc: 0.7772156445376874\n",
      "EPDP acc: 0.8265606935531435\n",
      "EPTP acc: 0.793803195315904\n",
      "FEPP acc: 0.8098708465434078\n",
      "\n",
      "Test fold 7:\n",
      "PKI acc: 0.8027526493886772\n",
      "EPDP acc: 0.8703939558894618\n",
      "EPTP acc: 0.7887899451353886\n",
      "FEPP acc: 0.8071064284813958\n",
      "\n",
      "[0.7925130077590141, 0.7807715322001036, 0.7419087185918442, 0.6678062601225565, 0.7645499817373564, 0.7772156445376874, 0.8027526493886772]\n",
      "Model Vanilla PKI has average acc of 76.10739706196055 +/- 4.2177055795815726\n",
      "[0.7595381104518485, 0.8307849036420465, 0.78419707674911, 0.7041154535686049, 0.7959816016715286, 0.8265606935531435, 0.8703939558894618]\n",
      "Model EPDP has average acc of 79.59388279322492 +/- 5.012830479117043\n",
      "[0.8495572797809219, 0.8021093449664878, 0.8164828375105929, 0.773223327196515, 0.8286443225107469, 0.793803195315904, 0.7887899451353886]\n",
      "Model EPTP has average acc of 80.75157503452226 +/- 2.401845975196059\n",
      "[0.8349465997261525, 0.8064980193551622, 0.8291359592392517, 0.78269399467133, 0.8323016481607497, 0.8098708465434078, 0.8071064284813958]\n",
      "Model FEPP has average acc of 81.46504994539214 +/- 1.732365228972631\n"
     ]
    }
   ],
   "source": [
    "# get accuracy across all folds\n",
    "num = len(test_folds)\n",
    "ave_pki_acc = 0\n",
    "ave_epdp_acc = 0\n",
    "ave_eptp_acc = 0\n",
    "ave_fepp_acc = 0\n",
    "\n",
    "#list to store accuracy for each video for plotting later\n",
    "pki_acc_list = []\n",
    "epdp_acc_list = []\n",
    "eptp_acc_list = []\n",
    "fepp_acc_list = []\n",
    "\n",
    "for fold_num in test_folds:\n",
    "    per_fold_ave_acc_pki = 0\n",
    "    per_fold_ave_acc_epdp = 0\n",
    "    per_fold_ave_acc_eptp = 0\n",
    "    per_fold_ave_acc_fepp = 0\n",
    "    for video in test_folds[fold_num]:\n",
    "        true_labels = true_label_dict[video]\n",
    "        pki_acc =  accuracy_score(true_labels, pki_output[video])\n",
    "        epdp_acc = accuracy_score(true_labels, epdp_output[video])\n",
    "        eptp_acc = accuracy_score(true_labels, eptp_output[video])\n",
    "        fepp_acc = accuracy_score(true_labels, fepp_output[video])\n",
    "        \n",
    "        per_fold_ave_acc_pki += pki_acc\n",
    "        per_fold_ave_acc_epdp += epdp_acc\n",
    "        per_fold_ave_acc_eptp += eptp_acc\n",
    "        per_fold_ave_acc_fepp += fepp_acc\n",
    "        \n",
    "    # get per fold average\n",
    "    per_fold_ave_acc_pki /= 2\n",
    "    per_fold_ave_acc_epdp /= 2\n",
    "    per_fold_ave_acc_eptp /= 2\n",
    "    per_fold_ave_acc_fepp /= 2\n",
    "    \n",
    "    pki_acc_list.append(per_fold_ave_acc_pki)\n",
    "    epdp_acc_list.append(per_fold_ave_acc_epdp)\n",
    "    eptp_acc_list.append(per_fold_ave_acc_eptp)    \n",
    "    fepp_acc_list.append(per_fold_ave_acc_fepp)\n",
    "    \n",
    "    \n",
    "    ave_pki_acc += per_fold_ave_acc_pki\n",
    "    ave_epdp_acc += per_fold_ave_acc_epdp\n",
    "    ave_eptp_acc += per_fold_ave_acc_eptp\n",
    "    ave_fepp_acc += per_fold_ave_acc_fepp\n",
    "    \n",
    "    print(\"Test fold {}:\".format(fold_num))\n",
    "    print(\"PKI acc: {}\".format(per_fold_ave_acc_pki))\n",
    "    print(\"EPDP acc: {}\".format(per_fold_ave_acc_epdp))\n",
    "    print(\"EPTP acc: {}\".format(per_fold_ave_acc_eptp))\n",
    "    print(\"FEPP acc: {}\".format(per_fold_ave_acc_fepp))\n",
    "    print()\n",
    "    \n",
    "acc_list = [pki_acc_list, epdp_acc_list, eptp_acc_list, fepp_acc_list]\n",
    "models = [\"Vanilla PKI\", \"EPDP\", \"EPTP\", \"FEPP\"]\n",
    "for i in range(4):\n",
    "    print(acc_list[i])\n",
    "    mu, sig = norm.fit(acc_list[i])\n",
    "    print(\"Model {} has average acc of {} +/- {}\".format(models[i], mu*100, sig*100))"
   ]
  },
  {
   "cell_type": "code",
   "execution_count": 14,
   "id": "a5145bc8",
   "metadata": {},
   "outputs": [],
   "source": [
    "from matplotlib import rcParams\n",
    "\n",
    "# figure size in inches\n",
    "rcParams['font.size'] = 20\n",
    "rcParams['legend.fontsize']= 20\n",
    "rcParams['xtick.labelsize']= 20\n",
    "rcParams['ytick.labelsize']= 20"
   ]
  },
  {
   "cell_type": "code",
   "execution_count": 15,
   "id": "a1b959a7",
   "metadata": {},
   "outputs": [],
   "source": [
    "from math import log10, floor\n",
    "def round_to_1(x):\n",
    "    return round(x, -int(floor(log10(abs(x)))))\n"
   ]
  },
  {
   "cell_type": "code",
   "execution_count": 16,
   "id": "c3307f9e",
   "metadata": {
    "scrolled": false
   },
   "outputs": [
    {
     "data": {
      "text/plain": [
       "<Figure size 1080x576 with 0 Axes>"
      ]
     },
     "metadata": {},
     "output_type": "display_data"
    },
    {
     "data": {
      "image/png": "[encoded data removed]",
      "text/plain": [
       "<Figure size 1800x720 with 1 Axes>"
      ]
     },
     "metadata": {
      "needs_background": "light"
     },
     "output_type": "display_data"
    }
   ],
   "source": [
    "# plot for the accuracies across videos\n",
    "##############\n",
    "num = len(test_folds)\n",
    "figure(figsize=(15, 8))\n",
    "x = list(range(1, num+1, 1))\n",
    "plt.figure(figsize=(25, 10))\n",
    "plt.rc('font', size=25)\n",
    "labels = [\"fold{}\".format(i) for i in range(1,8)]\n",
    "plt.xticks(x, labels=labels)  # Set label locations.\n",
    "plt.ylim(ymin=0.5)\n",
    "plt.plot(x, pki_acc_list, '--o',label=\"Vanilla PKI\")\n",
    "plt.plot(x, epdp_acc_list,'--o', label=\"EPDP\")\n",
    "plt.plot(x, eptp_acc_list,'--o', label=\"EPTP\")\n",
    "plt.plot(x, fepp_acc_list,'-o', label=\"FEPP\")\n",
    "for i in range(len(x)):\n",
    "    plt.text(i,pki_acc_list[i], round_to_1(pki_acc_list[i]))\n",
    "    plt.text(i,epdp_acc_list[i],round_to_1(epdp_acc_list[i]))\n",
    "    plt.text(i,eptp_acc_list[i],round_to_1(eptp_acc_list[i]))\n",
    "    plt.text(i,fepp_acc_list[i], round_to_1(fepp_acc_list[i]))\n",
    "plt.legend()\n",
    "plt.show()"
   ]
  },
  {
   "cell_type": "code",
   "execution_count": 17,
   "id": "10057686",
   "metadata": {
    "scrolled": true
   },
   "outputs": [
    {
     "name": "stdout",
     "output_type": "stream",
     "text": [
      "cf7cf863-929a-4b89-962b-7913869167e4:\n",
      "label list:[1, 0, 2, 0, 3, 0, 4, 0, 3, 0, 5]\n",
      "label freq:[169, 8, 593, 12, 455, 1, 24, 6, 344, 9, 192]\n",
      "a90983a1-2329-4019-96e8-949493c3fc24:\n",
      "label list:[1, 0, 2, 0, 3, 0, 4, 0, 5]\n",
      "label freq:[41, 16, 334, 106, 476, 4, 7, 22, 120]\n",
      "315ac662-9e95-4dec-80f0-48e244f9f8e1:\n",
      "label list:[1, 2, 0, 3, 0, 4, 0, 3, 0, 5]\n",
      "label freq:[84, 231, 23, 544, 24, 26, 39, 192, 7, 184]\n",
      "b71b28f1-7f63-4593-bdb2-9e60dd1ac71e:\n",
      "label list:[1, 0, 2, 0, 3, 0, 4, 0, 3, 0, 5]\n",
      "label freq:[47, 3, 846, 1, 394, 3, 23, 10, 143, 2, 109]\n",
      "96c75293-2026-48af-ad99-37281cb9bb3e:\n",
      "label list:[2, 1, 2, 0, 3, 0, 4, 0, 3, 0, 5]\n",
      "label freq:[146, 101, 254, 17, 550, 1, 73, 14, 190, 15, 266]\n",
      "436c714b-b588-4894-b68c-1e0f773e5df1:\n",
      "label list:[1, 0, 2, 0, 3, 0, 4, 0, 3, 0, 5]\n",
      "label freq:[153, 45, 348, 39, 346, 2, 51, 17, 221, 10, 131]\n",
      "5238ac7b-ad85-488f-b013-9ee4e2064e60:\n",
      "label list:[1, 0, 2, 0, 3, 0, 4, 0, 5]\n",
      "label freq:[54, 1, 728, 28, 379, 14, 21, 62, 151]\n",
      "e8d7e0c4-b293-43ce-832f-c37fb8fd3b23:\n",
      "label list:[1, 0, 2, 0, 3, 0, 4, 0, 3, 0, 5]\n",
      "label freq:[125, 1, 257, 22, 247, 2, 32, 3, 48, 5, 133]\n",
      "e6a9f8f7-8024-42d5-aad5-ef726d353f3b:\n",
      "label list:[1, 2, 0, 3, 4, 0, 5]\n",
      "label freq:[67, 649, 70, 606, 42, 57, 241]\n",
      "26d9e19b-59ed-4bbb-906a-9953b5d2c825:\n",
      "label list:[1, 0, 2, 0, 3, 0, 4, 0, 3, 0, 5]\n",
      "label freq:[69, 1, 334, 43, 428, 2, 6, 5, 193, 14, 207]\n",
      "a3347182-4364-43f8-8992-2409b1b66d31:\n",
      "label list:[2, 0, 1, 0, 2, 0, 3, 0, 4, 0, 3, 0, 5]\n",
      "label freq:[52, 2, 7, 1, 85, 20, 455, 1, 15, 6, 46, 20, 213]\n",
      "f63b25f4-8df4-4336-8c02-9456eb3c09b0:\n",
      "label list:[1, 0, 2, 0, 3, 0, 4, 0, 3, 0, 5]\n",
      "label freq:[202, 4, 450, 23, 434, 8, 23, 3, 301, 10, 107]\n",
      "e8d3eabc-edd1-414f-9d95-277df742655a:\n",
      "label list:[2, 0, 1, 0, 2, 0, 3, 0, 4, 0, 3]\n",
      "label freq:[152, 1, 68, 2, 316, 69, 418, 1, 9, 19, 54]\n",
      "b6701cb1-3a9b-456e-ad73-c6e06eea03ec:\n",
      "label list:[1, 2, 0, 3, 4, 0, 3, 0, 5]\n",
      "label freq:[137, 741, 30, 218, 93, 9, 253, 50, 119]\n"
     ]
    }
   ],
   "source": [
    "# Now, you need to loop through every video and document the label list and label freq\n",
    "# Put above code into function\n",
    "def get_label_list_and_freq(full_path):\n",
    "#     pred_labels = pickle.load(open(full_path + \"/seq_pred.pickle\", 'rb'))\n",
    "    true_labels = pickle.load(open(full_path + \"/seq_true.pickle\", 'rb'))\n",
    "    # scan through the true labels to see whether there are early phases repeating in the later stage\n",
    "    labels_list = []\n",
    "    labels_freq = []\n",
    "    for current_label in true_labels:\n",
    "        #if list is empty or current label is not the same as the previous label, \n",
    "        #then append the current label and frequency\n",
    "        if (not labels_list) or (current_label != labels_list[-1]):\n",
    "            labels_list.append(current_label)\n",
    "            labels_freq.append(1)\n",
    "            continue\n",
    "        # for the other cases, simply update frequency\n",
    "        labels_freq[-1] += 1\n",
    "    return (labels_list, labels_freq)\n",
    "\n",
    "\n",
    "# Loop through the subdirectory and extract the label lists and frequencies\n",
    "data_dict = {}\n",
    "for subdir in video_names:\n",
    "    full_path = path + subdir\n",
    "    labels_list, labels_freq = get_label_list_and_freq(full_path)\n",
    "    # store the list and corresponding frequency into a dictionary\n",
    "    labels_dict = {}\n",
    "    labels_dict[\"label list\"] = labels_list\n",
    "    labels_dict[\"label freq\"] = labels_freq\n",
    "    # store the label dictionary into the data dictionary under the corresponding subdirectory\n",
    "    data_dict[subdir] = labels_dict\n",
    "    \n",
    "for vid in data_dict:\n",
    "    print(\"{}:\".format(vid))\n",
    "    print(\"label list:{}\\nlabel freq:{}\".format(data_dict[vid][\"label list\"], data_dict[vid][\"label freq\"]))"
   ]
  },
  {
   "cell_type": "code",
   "execution_count": 18,
   "id": "30f64ac1",
   "metadata": {},
   "outputs": [
    {
     "name": "stdout",
     "output_type": "stream",
     "text": [
      "(array([4, 5, 6]),)\n"
     ]
    },
    {
     "data": {
      "text/plain": [
       "array([1, 1, 1, 1, 5, 5, 2, 2, 2, 2, 2])"
      ]
     },
     "execution_count": 18,
     "metadata": {},
     "output_type": "execute_result"
    }
   ],
   "source": [
    "a = np.asarray([1,1,1,1,0,0,0,2,2,2,2,2,2,2])\n",
    "zero_pos = np.where(a==0)\n",
    "print(zero_pos)\n",
    "b = np.asarray([1,1,1,1,5,5,5,5,5,2,2,2,2,2])\n",
    "np.delete(b,zero_pos)"
   ]
  },
  {
   "cell_type": "code",
   "execution_count": 19,
   "id": "712893b2",
   "metadata": {
    "scrolled": false
   },
   "outputs": [
    {
     "ename": "NameError",
     "evalue": "name 'pki_outout_dict_no_zero' is not defined",
     "output_type": "error",
     "traceback": [
      "\u001b[0;31m---------------------------------------------------------------------------\u001b[0m",
      "\u001b[0;31mNameError\u001b[0m                                 Traceback (most recent call last)",
      "\u001b[0;32m<ipython-input-19-d6e55761553d>\u001b[0m in \u001b[0;36m<module>\u001b[0;34m\u001b[0m\n\u001b[1;32m     30\u001b[0m \u001b[0;31m#     print(\"True labels AFTER removing zero:{}\".format(true_label_no_zero))\u001b[0m\u001b[0;34m\u001b[0m\u001b[0;34m\u001b[0m\u001b[0;34m\u001b[0m\u001b[0m\n\u001b[1;32m     31\u001b[0m \u001b[0;34m\u001b[0m\u001b[0m\n\u001b[0;32m---> 32\u001b[0;31m     \u001b[0;32mfor\u001b[0m \u001b[0mmodel\u001b[0m \u001b[0;32min\u001b[0m \u001b[0mpki_outout_dict_no_zero\u001b[0m\u001b[0;34m:\u001b[0m\u001b[0;34m\u001b[0m\u001b[0;34m\u001b[0m\u001b[0m\n\u001b[0m\u001b[1;32m     33\u001b[0m         \u001b[0mmodel_output\u001b[0m \u001b[0;34m=\u001b[0m \u001b[0mnp\u001b[0m\u001b[0;34m.\u001b[0m\u001b[0masarray\u001b[0m\u001b[0;34m(\u001b[0m\u001b[0mpki_outputs\u001b[0m\u001b[0;34m[\u001b[0m\u001b[0mmodel\u001b[0m\u001b[0;34m]\u001b[0m\u001b[0;34m[\u001b[0m\u001b[0mvideo\u001b[0m\u001b[0;34m]\u001b[0m\u001b[0;34m)\u001b[0m\u001b[0;34m\u001b[0m\u001b[0;34m\u001b[0m\u001b[0m\n\u001b[1;32m     34\u001b[0m         \u001b[0mmodel_output_no_zero\u001b[0m \u001b[0;34m=\u001b[0m \u001b[0mnp\u001b[0m\u001b[0;34m.\u001b[0m\u001b[0mdelete\u001b[0m\u001b[0;34m(\u001b[0m\u001b[0mmodel_output\u001b[0m\u001b[0;34m,\u001b[0m\u001b[0mzero_pos\u001b[0m\u001b[0;34m)\u001b[0m\u001b[0;34m\u001b[0m\u001b[0;34m\u001b[0m\u001b[0m\n",
      "\u001b[0;31mNameError\u001b[0m: name 'pki_outout_dict_no_zero' is not defined"
     ]
    }
   ],
   "source": [
    "### remove zeros in true_labels and the predictions on the corresponding positions\n",
    "true_label_no_zero = {}\n",
    "'''\n",
    "pki_outputs = {\"vanilla\":pki_output,\n",
    "               \"epdp\":epdp_output, \n",
    "               \"eptp\":eptp_output, \n",
    "               \"fepp\":fepp_output}\n",
    "'''\n",
    "pki_output_no_zero = {}\n",
    "fepp_output_no_zero = {}\n",
    "eptp_output_no_zero = {}\n",
    "epdp_output_no_zero = {}\n",
    "pki_output_dict_no_zero = {\"vanilla\":pki_output_no_zero,\n",
    "                           \"epdp\":epdp_output_no_zero, \n",
    "                           \"eptp\":eptp_output_no_zero, \n",
    "                           \"fepp\":fepp_output_no_zero}\n",
    "    \n",
    "for video in true_label_dict:\n",
    "#     print(\"Video:\"+video)\n",
    "    true_label = np.asarray(true_label_dict[video])\n",
    "    # get positions of zeros in ground truth\n",
    "#     print(\"position of zeros:{}\".format(zero_pos))\n",
    "    zero_pos = np.where(true_label==0)[0]\n",
    "    # remove zeros from true label\n",
    "    true_label_no_zero[video] = true_label[true_label != 0]\n",
    "    \n",
    "#     print(\"Number of frames BEFORE removing zero:{}\".format(len(true_label)))\n",
    "#     print(\"Number of phase zero frames:{}\".format(len(zero_pos)))\n",
    "#     print(\"Number of frames AFTER removing zero:{}\".format(len(true_label_no_zero)))\n",
    "#     print(\"True labels AFTER removing zero:{}\".format(true_label_no_zero))\n",
    "    \n",
    "    for model in pki_output_dict_no_zero:\n",
    "        model_output = np.asarray(pki_outputs[model][video])\n",
    "        model_output_no_zero = np.delete(model_output,zero_pos)\n",
    "#         print(\"Length of {} outputs after removing zeros:{}\".format(model, len(model_output_no_zero)))\n",
    "        pki_output_dict_no_zero[model][video] = model_output_no_zero\n"
   ]
  },
  {
   "cell_type": "markdown",
   "id": "98ca8d6a",
   "metadata": {},
   "source": [
    "## Get multi-class confusion matrix"
   ]
  },
  {
   "cell_type": "code",
   "execution_count": null,
   "id": "13d703ff",
   "metadata": {
    "scrolled": true
   },
   "outputs": [],
   "source": [
    "# one confusion matrix per model\n",
    "cm_dict = {}\n",
    "for model in pki_output_dict_no_zero:\n",
    "    cm = np.array([[0.0]*5]*5)\n",
    "    phase_count = [0]*5\n",
    "    model_pred_dict = pki_output_dict_no_zero[model]\n",
    "    for video in model_pred_dict:\n",
    "        y_pred = model_pred_dict[video]\n",
    "        y_true = true_label_no_zero[video]\n",
    "        for i in range(len(y_true)):\n",
    "            phase_count[y_true[i]-1] += 1\n",
    "            cm[y_true[i]-1][y_pred[i]-1] += 1\n",
    "    # normalise cm by the phase_count\n",
    "    for i in range(len(phase_count)):\n",
    "        cm[i] = cm[i]/ phase_count[i]\n",
    "    # attach it to the dict\n",
    "    cm_dict[model] = cm\n",
    "    \n",
    "print(cm_dict)"
   ]
  },
  {
   "cell_type": "code",
   "execution_count": null,
   "id": "3da08eca",
   "metadata": {
    "scrolled": true
   },
   "outputs": [],
   "source": [
    "from matplotlib import rcParams\n",
    "rcParams.keys()"
   ]
  },
  {
   "cell_type": "code",
   "execution_count": null,
   "id": "ab3fd463",
   "metadata": {
    "scrolled": false
   },
   "outputs": [],
   "source": [
    "# plot heat map for confusion matrix for each model\n",
    "import seaborn as sns; sns.set_theme()\n",
    "# fig = plt.figure(figsize = (20,20)) # width x height\n",
    "# ax1 = fig.add_subplot(2, 2, 1) # row, column, position\n",
    "# ax2 = fig.add_subplot(2, 2, 2)\n",
    "# ax3 = fig.add_subplot(2, 2, 3)\n",
    "# ax4 = fig.add_subplot(2, 2, 4)\n",
    "sns.set(rc={'figure.figsize':(11,9),\n",
    "            'font.size':15,\n",
    "            'xtick.labelsize': 15.0,\n",
    "            'ytick.labelsize': 15.0,\n",
    "            'axes.titlesize': 15.0,\n",
    "\n",
    "           })\n",
    "ax = sns.heatmap(cm_dict[\"vanilla\"],  linewidths=.5, annot=True,  xticklabels=[1,2,3,4,5], yticklabels=[1,2,3,4,5])\n",
    "plt.savefig(\"cm_vanilla\", bbox_inches='tight')"
   ]
  },
  {
   "cell_type": "code",
   "execution_count": null,
   "id": "f13be9e0",
   "metadata": {
    "scrolled": false
   },
   "outputs": [],
   "source": [
    "# plot heat map for confusion matrix for each model\n",
    "import seaborn as sns; sns.set_theme()\n",
    "# fig = plt.figure(figsize = (20,20)) # width x height\n",
    "# ax1 = fig.add_subplot(2, 2, 1) # row, column, position\n",
    "# ax2 = fig.add_subplot(2, 2, 2)\n",
    "# ax3 = fig.add_subplot(2, 2, 3)\n",
    "# ax4 = fig.add_subplot(2, 2, 4)\n",
    "sns.set(rc={'figure.figsize':(11,9),\n",
    "            'font.size':15,\n",
    "            'xtick.labelsize': 15.0,\n",
    "            'ytick.labelsize': 15.0,\n",
    "            'axes.titlesize': 15.0,\n",
    "\n",
    "           })\n",
    "ax = sns.heatmap(cm_dict[\"eptp\"],  linewidths=.5, annot=True,  xticklabels=[1,2,3,4,5], yticklabels=[1,2,3,4,5])\n",
    "plt.savefig(\"cm_eptp\", bbox_inches='tight')"
   ]
  },
  {
   "cell_type": "code",
   "execution_count": null,
   "id": "fb275e55",
   "metadata": {
    "scrolled": false
   },
   "outputs": [],
   "source": [
    "# plot heat map for confusion matrix for each model\n",
    "import seaborn as sns; sns.set_theme()\n",
    "# fig = plt.figure(figsize = (20,20)) # width x height\n",
    "# ax1 = fig.add_subplot(2, 2, 1) # row, column, position\n",
    "# ax2 = fig.add_subplot(2, 2, 2)\n",
    "# ax3 = fig.add_subplot(2, 2, 3)\n",
    "# ax4 = fig.add_subplot(2, 2, 4)\n",
    "sns.set(rc={'figure.figsize':(11,9),\n",
    "            'font.size':15,\n",
    "            'xtick.labelsize': 15.0,\n",
    "            'ytick.labelsize': 15.0,\n",
    "            'axes.titlesize': 15.0,\n",
    "\n",
    "           })\n",
    "ax = sns.heatmap(cm_dict[\"epdp\"],  linewidths=.5, annot=True,  xticklabels=[1,2,3,4,5], yticklabels=[1,2,3,4,5])\n",
    "plt.savefig(\"cm_epdp\", bbox_inches='tight')"
   ]
  },
  {
   "cell_type": "code",
   "execution_count": null,
   "id": "296073e3",
   "metadata": {
    "scrolled": false
   },
   "outputs": [],
   "source": [
    "# plot heat map for confusion matrix for each model\n",
    "import seaborn as sns; sns.set_theme()\n",
    "# fig = plt.figure(figsize = (20,20)) # width x height\n",
    "# ax1 = fig.add_subplot(2, 2, 1) # row, column, position\n",
    "# ax2 = fig.add_subplot(2, 2, 2)\n",
    "# ax3 = fig.add_subplot(2, 2, 3)\n",
    "# ax4 = fig.add_subplot(2, 2, 4)\n",
    "sns.set(rc={'figure.figsize':(11,9),\n",
    "            'font.size':15,\n",
    "            'xtick.labelsize': 15.0,\n",
    "            'ytick.labelsize': 15.0,\n",
    "            'axes.titlesize': 15.0,\n",
    "\n",
    "           })\n",
    "ax = sns.heatmap(cm_dict[\"fepp\"],  linewidths=.5, annot=True,  xticklabels=[1,2,3,4,5], yticklabels=[1,2,3,4,5])\n",
    "plt.savefig(\"cm_fepp\", bbox_inches='tight')"
   ]
  },
  {
   "cell_type": "code",
   "execution_count": null,
   "id": "c0286f57",
   "metadata": {},
   "outputs": [],
   "source": [
    "### metrics: per-phase accuracy, per-phase f1 score, per-phase confusion matrix(?) for each model\n",
    "def evalScorePerPhase(model_output_dict, true_label_dict, data_dict, metric, is_verbose=False):\n",
    "    scores_dict = {}\n",
    "    for vid in data_dict:\n",
    "        if is_verbose:\n",
    "            print(\"Video {}\".format(vid))\n",
    "        # add a new default dict for each video to store the per_phase score\n",
    "        phases_scores = {}\n",
    "\n",
    "        # get the labels\n",
    "        true_label = np.asarray(true_label_dict[vid])\n",
    "        model_output = np.asarray(model_output_dict[vid])\n",
    "        \n",
    "        ## storage\n",
    "        per_phase_f1_score = []\n",
    "        cur_i = 0\n",
    "        \n",
    "#         # use ground truth to separate the phases\n",
    "#         phases = data_dict[vid][\"label list\"]\n",
    "#         nums_of_frames = data_dict[vid][\"label freq\"]\n",
    "        \n",
    "        # loop through each phase and get the accuracy and f1 score\n",
    "        # for each phase, keep only the phases and changes everything else to a non-phase value\n",
    "#         for i, phase in enumerate(phases):            \n",
    "        for phase in range(1, 6):\n",
    "            phase_true_label = np.where(true_label!=phase, -1, true_label)\n",
    "            phase_model_output = np.where(model_output!=phase, -1, model_output)\n",
    "\n",
    "            # change all non-phase values in the prediction results to -1 for binary f1 scoring\n",
    "#             phase_model_output = np.where(phase_model_output!=phase, -1, phase_model_output)\n",
    "            if is_verbose and vid == \"96c75293-2026-48af-ad99-37281cb9bb3e\":\n",
    "                print(\"Phase:{}\".format(phase))\n",
    "#                 print(\"Number of frames for phase {} is {}\".format(phase, nums_of_frames[i]))\n",
    "#                 print(\"Current index marker:{}\".format(cur_i))\n",
    "                print(\"True labels:\\n {}\".format(phase_true_label.tolist()))\n",
    "#                 print(\"This is just for checking the index correctness:{}\".format(true_label[cur_i-1:cur_i+nums_of_frames[i]+1]))\n",
    "                print(\"Model output:\\n {}\".format(phase_model_output.tolist()))\n",
    "                print()\n",
    "            score = 0\n",
    "            if metric == \"f1\":\n",
    "                score = f1_score(phase_true_label, phase_model_output, pos_label=phase, zero_division=0)\n",
    "            if metric == \"precision\":\n",
    "                score = precision_score(phase_true_label, phase_model_output, pos_label=phase, zero_division=0)\n",
    "            if metric == \"recall\":\n",
    "                score = recall_score(phase_true_label, phase_model_output, pos_label=phase, zero_division=0)\n",
    "            if metric == \"acc\":\n",
    "                score = accuracy_score(phase_true_label, phase_model_output)\n",
    "                \n",
    "#             print(\"Phase {} f1 score = {}\".format(phase, f1))\n",
    "#             print()\n",
    "\n",
    "            # get the average metric value and add it to the dict\n",
    "            if phase in phases_scores:\n",
    "                phases_scores[phase] = (phases_scores[phase] + score)/2\n",
    "            else:\n",
    "                phases_scores[phase] = score\n",
    "                \n",
    "#             cur_i += nums_of_frames[i]\n",
    "\n",
    "        # add the dict under the video name\n",
    "        scores_dict[vid] = phases_scores\n",
    "    return scores_dict"
   ]
  },
  {
   "cell_type": "code",
   "execution_count": null,
   "id": "13c15ee7",
   "metadata": {},
   "outputs": [],
   "source": [
    "def printPhaseMetricScores(scores):\n",
    "    for vid in scores:\n",
    "        print(\"{}:\".format(vid))\n",
    "        print(\"phase metric scores:{}\".format(scores[vid]))\n",
    "        print()"
   ]
  },
  {
   "cell_type": "code",
   "execution_count": null,
   "id": "b3b0ca13",
   "metadata": {
    "scrolled": false
   },
   "outputs": [],
   "source": [
    "# testing: evaluate per-phase f1 score for vanilla pki output\n",
    "f1_score_vanilla_pki = evalScorePerPhase(pki_output_dict_no_zero[\"vanilla\"], true_label_no_zero, data_dict, \"f1\", is_verbose=False)\n",
    "printPhaseMetricScores(f1_score_vanilla_pki)"
   ]
  },
  {
   "cell_type": "code",
   "execution_count": null,
   "id": "d3066565",
   "metadata": {},
   "outputs": [],
   "source": [
    "# get the average f1 score for each phase for the given model output\n",
    "# only for five non-transition phases here\n",
    "def getAveScoreAcrossAllFolds(vid2ScoresDict, test_folds):\n",
    "    ave_per_fold_score_dict = {}\n",
    "    for fold_num in test_folds:\n",
    "        scores = np.asarray([0.0]*5)\n",
    "        count_phases = np.asarray([0.0]*5)\n",
    "        # get average value for each fold\n",
    "        for video in test_folds[fold_num]:\n",
    "            score_dict = vid2ScoresDict[video]\n",
    "            for phase in range(1, 6):\n",
    "                if phase in score_dict:\n",
    "                    count_phases[phase-1] += 1\n",
    "                    scores[phase-1] += score_dict[phase]\n",
    "        scores /= count_phases\n",
    "        ave_per_fold_score_dict[fold_num] = scores\n",
    "#     print(scores)\n",
    "#     print(count_phases)\n",
    "\n",
    "    return ave_per_fold_score_dict"
   ]
  },
  {
   "cell_type": "code",
   "execution_count": null,
   "id": "94d52b5c",
   "metadata": {},
   "outputs": [],
   "source": [
    "# test: get average f1 score for vanilla pki output\n",
    "f1_ave_scores = getAveScoreAcrossAllFolds(f1_score_vanilla_pki, test_folds)\n",
    "print(f1_ave_scores)"
   ]
  },
  {
   "cell_type": "code",
   "execution_count": null,
   "id": "83f4b415",
   "metadata": {},
   "outputs": [],
   "source": [
    "f1_ave_scores_mat = np.asarray(list(f1_ave_scores.values()))\n",
    "f1_ave_scores_mat"
   ]
  },
  {
   "cell_type": "code",
   "execution_count": null,
   "id": "6f839296",
   "metadata": {},
   "outputs": [],
   "source": [
    "f1_ave_all_folds = np.sum(f1_ave_scores_mat, axis=0)/len(f1_ave_scores_mat)\n",
    "f1_ave_all_folds"
   ]
  },
  {
   "cell_type": "code",
   "execution_count": null,
   "id": "5ce95708",
   "metadata": {},
   "outputs": [],
   "source": [
    "f1_one_val_ave = np.sum(f1_ave_all_folds)/len(f1_ave_all_folds)\n",
    "f1_one_val_ave"
   ]
  },
  {
   "cell_type": "code",
   "execution_count": null,
   "id": "c3b61978",
   "metadata": {},
   "outputs": [],
   "source": [
    "# get average score for each phase across all videos (vector length: 5)\n",
    "def getAveScoreAcrossAllVid(ave_scores_dict):\n",
    "    ave_scores_mat = np.asarray(list(ave_scores_dict.values()))\n",
    "    ave_all_folds = np.sum(ave_scores_mat, axis=0)/len(ave_scores_mat)\n",
    "    return ave_all_folds"
   ]
  },
  {
   "cell_type": "code",
   "execution_count": null,
   "id": "59ac3985",
   "metadata": {},
   "outputs": [],
   "source": [
    "# get average score by fold (vector length: 7)\n",
    "def getAveScoreByFold(ave_scores_dict):\n",
    "    ave_scores_mat = np.asarray(list(ave_scores_dict.values()))\n",
    "#     print(\"SUM OF SCORES BY FOLD:\")\n",
    "#     print(np.sum(ave_scores_mat, axis=1))\n",
    "    ave = np.sum(ave_scores_mat, axis=1)/5\n",
    "    return ave"
   ]
  },
  {
   "cell_type": "code",
   "execution_count": null,
   "id": "ac485399",
   "metadata": {},
   "outputs": [],
   "source": [
    "def printPerFoldAveScores(perFoldScoreDict):\n",
    "    for fold in perFoldScoreDict:\n",
    "        print(\"Fold {}:\".format(fold))\n",
    "        print(\"Score:{}\".format(perFoldScoreDict[fold]))"
   ]
  },
  {
   "cell_type": "markdown",
   "id": "58162d2f",
   "metadata": {},
   "source": [
    "## Get F1 scores for all four model outputs AND an average across all phases"
   ]
  },
  {
   "cell_type": "code",
   "execution_count": null,
   "id": "cf24aa7e",
   "metadata": {},
   "outputs": [],
   "source": [
    "for model_output_name in pki_outputs:\n",
    "    f1_scores = evalScorePerPhase(pki_output_dict_no_zero[model_output_name], true_label_no_zero, data_dict, \"f1\")\n",
    "#     print(f1_scores)\n",
    "    # get per-fold average scores\n",
    "    f1_ave_scores_dict = getAveScoreAcrossAllFolds(f1_scores, test_folds)\n",
    "    # get average by phase (vector length: 5)\n",
    "    f1_ave_scores = getAveScoreAcrossAllVid(f1_ave_scores_dict)\n",
    "    # get average by fold (vector length: 7)\n",
    "    f1_ave_scores_by_fold = getAveScoreByFold(f1_ave_scores_dict)\n",
    "\n",
    "\n",
    "    print(\"Current model:{}\".format(model_output_name))\n",
    "    print(\"Per fold F1 socres:\")\n",
    "    printPerFoldAveScores(f1_ave_scores_dict)\n",
    "    print(\"f1 average scores for individual phase:\\n{}\".format(f1_ave_scores))\n",
    "    print(\"f1 average scores by fold:\\n{}\".format(f1_ave_scores_by_fold))\n",
    "    print(\"Average f1 score across all videos all phases:{}\".format(np.sum(f1_ave_scores)/len(f1_ave_scores)))\n",
    "    print()\n"
   ]
  },
  {
   "cell_type": "markdown",
   "id": "753576cb",
   "metadata": {},
   "source": [
    "## Get PRECISION score for all four model outputs AND an average across all phases"
   ]
  },
  {
   "cell_type": "code",
   "execution_count": null,
   "id": "6733800d",
   "metadata": {
    "scrolled": false
   },
   "outputs": [],
   "source": [
    "precision_scores = {}\n",
    "precisions_by_fold = {}\n",
    "for model_output_name in pki_outputs:\n",
    "    scores = evalScorePerPhase(pki_output_dict_no_zero[model_output_name], true_label_no_zero, data_dict, \"precision\")\n",
    "#     printPhaseMetricScores(scores)\n",
    "    # get per fold precision score\n",
    "    ave_scores_dict = getAveScoreAcrossAllFolds(scores, test_folds)\n",
    "    # get average score across all folds\n",
    "    ave_scores = getAveScoreAcrossAllVid(ave_scores_dict)\n",
    "    # get average by fold (vector length: 7)\n",
    "    ave_scores_by_fold = getAveScoreByFold(ave_scores_dict)\n",
    "\n",
    "\n",
    "    # store\n",
    "    precision_scores[model_output_name] = ave_scores_dict\n",
    "    precisions_by_fold[model_output_name] = ave_scores_by_fold\n",
    "    \n",
    "    # print\n",
    "    print(\"Current model:{}\".format(model_output_name))\n",
    "    print(\"Per fold precision socres:\")\n",
    "    printPerFoldAveScores(ave_scores_dict)\n",
    "    print(\"Average precision scores for individual phase:\\n{}\".format(ave_scores))\n",
    "    print(\"Average precision scores BY FOLD:\\n{}\".format(ave_scores_by_fold))\n",
    "    # get mean and std for the score\n",
    "    mu, sig = norm.fit(ave_scores_by_fold)\n",
    "    print(\"Model {} has average score of {} +/- {}\".format(model_output_name, mu*100, sig*100))\n",
    "    print()\n",
    "    \n",
    "print(precision_scores)"
   ]
  },
  {
   "cell_type": "code",
   "execution_count": null,
   "id": "6b86e2f6",
   "metadata": {},
   "outputs": [],
   "source": [
    "# plots\n",
    "def plot(score_by_fold):\n",
    "##############\n",
    "    names = {\"vanilla\":\"Vanilla PKI\",\n",
    "             \"eptp\":\"EPTP\",\n",
    "             \"epdp\":\"EPDP\",\n",
    "             \"fepp\":\"FEPP\",\n",
    "            }\n",
    "    num = 7\n",
    "    figure(figsize=(15, 8))\n",
    "    x = list(range(1, num+1, 1))\n",
    "    plt.figure(figsize=(25, 12))\n",
    "    plt.rc('font', size=20)\n",
    "    labels = [\"fold{}\".format(i) for i in range(1,8)]\n",
    "    plt.xticks(x, labels=labels)  # Set label locations.\n",
    "    plt.ylim(ymin=0.5)\n",
    "    for model in score_by_fold:\n",
    "        if model == \"fepp\":\n",
    "            plt.plot(x, score_by_fold[model], '-o',label=names[model])\n",
    "            continue\n",
    "        plt.plot(x, score_by_fold[model], '--o',label=names[model])\n",
    "    plt.legend()\n",
    "    plt.show()"
   ]
  },
  {
   "cell_type": "code",
   "execution_count": null,
   "id": "c844fe13",
   "metadata": {},
   "outputs": [],
   "source": [
    "plot(precisions_by_fold)"
   ]
  },
  {
   "cell_type": "markdown",
   "id": "a950eb2d",
   "metadata": {},
   "source": [
    "## Get RECALL score for all four model outputs AND an average across all phases\n"
   ]
  },
  {
   "cell_type": "code",
   "execution_count": null,
   "id": "f7a08999",
   "metadata": {
    "scrolled": false
   },
   "outputs": [],
   "source": [
    "recall_scores = {}\n",
    "recalls_by_fold = {}\n",
    "for model_output_name in pki_outputs:\n",
    "    scores = evalScorePerPhase(pki_output_dict_no_zero[model_output_name], true_label_no_zero, data_dict, \"recall\")\n",
    "    # get per fold precision score\n",
    "    ave_scores_dict = getAveScoreAcrossAllFolds(scores, test_folds)\n",
    "    # get average score across all folds\n",
    "    ave_scores = getAveScoreAcrossAllVid(ave_scores_dict)\n",
    "     # get average by fold (vector length: 7)\n",
    "    ave_scores_by_fold = getAveScoreByFold(ave_scores_dict)\n",
    "\n",
    "\n",
    "    # store\n",
    "    recall_scores[model_output_name] = ave_scores_dict\n",
    "    recalls_by_fold[model_output_name] = ave_scores_by_fold\n",
    "    \n",
    "    # print\n",
    "    print(\"Current model:{}\".format(model_output_name))\n",
    "    print(\"Per fold recall socres:\")\n",
    "    printPerFoldAveScores(ave_scores_dict)\n",
    "    print(\"Average recall scores for individual phase:\\n{}\".format(ave_scores))\n",
    "    print(\"Average recall scores BY FOLD:\\n{}\".format(ave_scores_by_fold))\n",
    "    # get mean and std for the score\n",
    "    mu, sig = norm.fit(ave_scores_by_fold)\n",
    "    print(\"Model {} has average score of {} +/- {}\".format(model_output_name, mu*100, sig*100))\n",
    "    print()\n",
    "\n",
    "    \n",
    "print(recall_scores)"
   ]
  },
  {
   "cell_type": "code",
   "execution_count": null,
   "id": "e5f91505",
   "metadata": {},
   "outputs": [],
   "source": [
    "plot(recalls_by_fold)"
   ]
  },
  {
   "cell_type": "markdown",
   "id": "7643ca4b",
   "metadata": {},
   "source": [
    "## Get AVERAGED F1 scores for all four model outputs using AVERAGED PRECISION and RECALL"
   ]
  },
  {
   "cell_type": "code",
   "execution_count": null,
   "id": "177e92cb",
   "metadata": {},
   "outputs": [],
   "source": [
    "# Calculate f1 score manually using the averaged calculated precision and recall\n",
    "f1_scores = {}\n",
    "f1_scores_by_fold = {}\n",
    "for model in precision_scores:\n",
    "    precisions_per_fold_dict = precision_scores[model]\n",
    "    recalls_per_fold_dict = recall_scores[model]\n",
    "    f1s_per_fold_dict= {}\n",
    "    # get per fold f1 scores\n",
    "    for fold_num in recalls_per_fold_dict:\n",
    "        precisions = precisions_per_fold_dict[fold_num]\n",
    "        recalls = recalls_per_fold_dict[fold_num]\n",
    "        f1s = [0.0]*5\n",
    "        # get f1 for five phases for current fold\n",
    "        for i in range(5):\n",
    "            f1s[i] = (2*precisions[i]*recalls[i])/(precisions[i]+recalls[i])\n",
    "        f1s_per_fold_dict[fold_num] = f1s\n",
    "    # add per fold f1 to the model\n",
    "    f1_scores[model] = f1s_per_fold_dict\n",
    "    #ave by phase (len 5)\n",
    "    ave_scores = getAveScoreAcrossAllVid(f1s_per_fold_dict)\n",
    "     # get average by fold (vector length: 7)\n",
    "    ave_scores_by_fold = getAveScoreByFold(f1s_per_fold_dict)\n",
    "    f1_scores_by_fold[model] = ave_scores_by_fold\n",
    "\n",
    "\n",
    "\n",
    "    print(\"Model {}\".format(model))\n",
    "    print(\"Per fold f1 socres:\")\n",
    "    printPerFoldAveScores(f1s_per_fold_dict)\n",
    "    print(\"Average f1 scores for individual phase:\\n{}\".format(ave_scores))\n",
    "    print(\"Average f1 scores BY FOLD:\\n{}\".format(ave_scores_by_fold))\n",
    "    # get mean and std for the score\n",
    "    mu, sig = norm.fit(ave_scores_by_fold)\n",
    "    print(\"Model {} has average score of {} +/- {}\".format(model, mu*100, sig*100))\n",
    "    print()\n",
    "    "
   ]
  },
  {
   "cell_type": "code",
   "execution_count": null,
   "id": "fc01560c",
   "metadata": {},
   "outputs": [],
   "source": [
    "plot(f1_scores_by_fold)"
   ]
  },
  {
   "cell_type": "markdown",
   "id": "51504329",
   "metadata": {},
   "source": [
    "## Plots for averaged model f1 scores per fold"
   ]
  },
  {
   "cell_type": "code",
   "execution_count": null,
   "id": "86387b12",
   "metadata": {},
   "outputs": [],
   "source": [
    "print(f1_scores)"
   ]
  },
  {
   "cell_type": "markdown",
   "id": "f8541f57",
   "metadata": {},
   "source": [
    "## plot model smoothing for a particular fold"
   ]
  },
  {
   "cell_type": "markdown",
   "id": "f69de62e",
   "metadata": {},
   "source": [
    "### fold 3 and fold 6\n"
   ]
  },
  {
   "cell_type": "code",
   "execution_count": null,
   "id": "0b2c5a40",
   "metadata": {},
   "outputs": [],
   "source": [
    "names = {\"vanilla\":\"Vanilla PKI\",\n",
    "             \"eptp\":\"EPTP\",\n",
    "             \"epdp\":\"EPDP\",\n",
    "             \"fepp\":\"FEPP\",\n",
    "            }\n",
    "\n",
    "color = {\n",
    "    \"vanilla\":\"tab:olive\",\n",
    "     \"eptp\":\"tab:green\",\n",
    "     \"epdp\":\"tab:cyan\",\n",
    "     \"fepp\":\"tab:red\",\n",
    "    \n",
    "}"
   ]
  },
  {
   "cell_type": "code",
   "execution_count": null,
   "id": "c09ada79",
   "metadata": {},
   "outputs": [],
   "source": [
    "def plotCnnPred(cnn_output, true_labels, fold_num):\n",
    "    figure(figsize=(22, 8))\n",
    "    x = list(range(len(true_labels)))\n",
    "    plt.plot(x, true_labels, label=\"True labels\", color='b')\n",
    "    plt.plot(x, cnn_output, label=\"CNN predictions\", color='tab:orange')\n",
    "    plt.legend()\n",
    "    plt.savefig(\"fold_{}_demo_vid_cnn\".format(fold_num), bbox_inches='tight')\n",
    "    plt.show()"
   ]
  },
  {
   "cell_type": "code",
   "execution_count": null,
   "id": "63547862",
   "metadata": {},
   "outputs": [],
   "source": [
    "def plotOutput(model, model_output, true_labels, fold_num):\n",
    "    figure(figsize=(22, 8))\n",
    "    x = list(range(len(true_labels)))\n",
    "    plt.plot(x, true_labels, label=\"True labels\")\n",
    "    plt.plot(x, model_output, label=\"{} outputs\".format(names[model]), color=color[model])\n",
    "    plt.legend()\n",
    "    plt.savefig(\"fold_{}_demo_vid_{}\".format(fold_num, model), bbox_inches='tight')\n",
    "    plt.show()"
   ]
  },
  {
   "cell_type": "code",
   "execution_count": null,
   "id": "e0e41586",
   "metadata": {
    "scrolled": false
   },
   "outputs": [],
   "source": [
    "# fold 3:\n",
    "video_arr = test_folds[3]\n",
    "for video in video_arr:\n",
    "    print(\"Fold 3 Video {}\".format(video))\n",
    "    y_true = true_label_dict[video]\n",
    "    cnn_pred = pred_label_dict[video]\n",
    "    plotCnnPred(cnn_pred, y_true, 3)\n",
    "    for model in names:\n",
    "        y_model = pki_outputs[model][video]\n",
    "        plotOutput(model, y_model, y_true, 3)"
   ]
  },
  {
   "cell_type": "code",
   "execution_count": null,
   "id": "99cfb1f0",
   "metadata": {
    "scrolled": false
   },
   "outputs": [],
   "source": [
    "# fold 6:\n",
    "video_arr = test_folds[6]\n",
    "for video in video_arr:\n",
    "    print(\"Fold 6 Video {}\".format(video))\n",
    "    y_true = true_label_dict[video]\n",
    "    cnn_pred = pred_label_dict[video]\n",
    "\n",
    "    plotCnnPred(cnn_pred, y_true, 6)\n",
    "    for model in names:\n",
    "        y_model = pki_outputs[model][video]\n",
    "        plotOutput(model, y_model, y_true, 6)"
   ]
  },
  {
   "cell_type": "markdown",
   "id": "c884ee01",
   "metadata": {},
   "source": [
    "## Ward metric analysis"
   ]
  },
  {
   "cell_type": "code",
   "execution_count": null,
   "id": "39c27d52",
   "metadata": {},
   "outputs": [],
   "source": [
    "import wardmetrics\n",
    "from wardmetrics.core_methods import eval_events\n",
    "from wardmetrics.utils import *\n",
    "from wardmetrics.visualisations import *"
   ]
  },
  {
   "cell_type": "code",
   "execution_count": null,
   "id": "78c1ad27",
   "metadata": {},
   "outputs": [],
   "source": [
    "data_dict\n",
    "for vid in data_dict:\n",
    "    print(\"{}:\".format(vid))\n",
    "    print(\"label list:{}\\nlabel freq:{}\".format(data_dict[vid][\"label list\"], data_dict[vid][\"label freq\"]))"
   ]
  },
  {
   "cell_type": "code",
   "execution_count": null,
   "id": "d2f6ae07",
   "metadata": {},
   "outputs": [],
   "source": [
    "# get the list of tuples of starting and ending for groundtruth\n",
    "start_end_dict = {}\n",
    "for video in data_dict:\n",
    "#     print(video)\n",
    "    labels = data_dict[video][\"label list\"]\n",
    "    frames = data_dict[video][\"label freq\"]\n",
    "    start_end_list = []\n",
    "    cur_i = 0\n",
    "    for i, phase in enumerate(labels):\n",
    "        start = cur_i\n",
    "        end = cur_i + frames[i]\n",
    "        start_end_list.append((start, end))\n",
    "        cur_i = end\n",
    "    \n",
    "    start_end_dict[video] = start_end_list\n",
    "    \n",
    "# print out\n",
    "for video in start_end_dict:\n",
    "    print(\"{}:\".format(video))\n",
    "    print(\"ground truth start and end list:{}\".format(start_end_dict[video]))\n",
    "    print()"
   ]
  },
  {
   "cell_type": "code",
   "execution_count": null,
   "id": "435b3ea2",
   "metadata": {},
   "outputs": [],
   "source": [
    "# get prediction phases starting and ending\n",
    "def getStartEndPred(pred_sequence):\n",
    "    detection_start_end = []\n",
    "    phase_labels = []\n",
    "    start = 0\n",
    "    cur_i = 0\n",
    "    cur_pred = pred_sequence[0]\n",
    "    for y in pred_sequence:\n",
    "        if y != cur_pred:\n",
    "            detection_start_end.append((start, cur_i))\n",
    "            phase_labels.append(cur_pred)\n",
    "            start = cur_i\n",
    "            cur_pred = y \n",
    "        cur_i += 1\n",
    "    # add the last one\n",
    "    detection_start_end.append((start, cur_i))\n",
    "    phase_labels.append(cur_pred)\n",
    "    return (detection_start_end, phase_labels)"
   ]
  },
  {
   "cell_type": "code",
   "execution_count": null,
   "id": "f846d678",
   "metadata": {},
   "outputs": [],
   "source": [
    "# measure ward metrics for each video\n",
    "import wardmetrics\n",
    "from wardmetrics.core_methods import eval_events\n",
    "from wardmetrics.utils import *\n",
    "from wardmetrics.visualisations import *\n",
    "\n",
    "ground_truth_test = [\n",
    "    (40, 60),\n",
    "    (73, 75),\n",
    "    (90, 100),\n",
    "    (125, 135),\n",
    "    (150, 157),\n",
    "    (190, 215),\n",
    "    (220, 230),\n",
    "    (235, 250),\n",
    "]\n",
    "\n",
    "detection_test = [\n",
    "    (10, 20),\n",
    "    (45, 52),\n",
    "    (70, 80),\n",
    "    (120, 180),\n",
    "    (195, 200),\n",
    "    (207, 213),\n",
    "    (221, 237),\n",
    "    (239, 243),\n",
    "    (245, 250),\n",
    "]\n",
    "\n",
    "print(\"Using version\",  wardmetrics.__version__)\n",
    "\n",
    "# Run event-based evaluation:\n",
    "gt_event_scores, det_event_scores, detailed_scores, standard_scores = eval_events(ground_truth_test, detection_test)\n",
    "\n",
    "# Print results:\n",
    "print_standard_event_metrics(standard_scores)\n",
    "print_detailed_event_metrics(detailed_scores)\n",
    "\n",
    "# Access results in other formats:\n",
    "print(standard_event_metrics_to_list(standard_scores)) # standard scores as basic python list, order: p, r, p_w, r_w\n",
    "print(standard_event_metrics_to_string(standard_scores)) # standard scores as string line, order: p, r, p_w, r_w)\n",
    "print(standard_event_metrics_to_string(standard_scores, separator=\";\", prefix=\"(\", suffix=\")\\n\")) # standard scores as string line, order: p, r, p_w, r_w\n",
    "\n",
    "print(detailed_event_metrics_to_list(detailed_scores)) # detailed scores as basic python list\n",
    "print(detailed_event_metrics_to_string(detailed_scores)) # detailed scores as string line\n",
    "print(detailed_event_metrics_to_string(detailed_scores, separator=\";\", prefix=\"(\", suffix=\")\\n\")) # standard scores as string line\n",
    "\n",
    "\n",
    "# Show results:\n",
    "plot_events_with_event_scores(gt_event_scores, det_event_scores, ground_truth_test, detection_test, show=False)\n",
    "plot_event_analysis_diagram(detailed_scores)\n",
    "\n",
    "print(gt_event_scores)\n",
    "print(det_event_scores)\n",
    "print(detailed_scores)\n"
   ]
  },
  {
   "cell_type": "code",
   "execution_count": null,
   "id": "0d6039a6",
   "metadata": {},
   "outputs": [],
   "source": [
    "target_video = \"315ac662-9e95-4dec-80f0-48e244f9f8e1\""
   ]
  },
  {
   "cell_type": "code",
   "execution_count": null,
   "id": "f5c42628",
   "metadata": {},
   "outputs": [],
   "source": [
    "# fold 5 has the best performance\n",
    "# get the first video from fold 5 and plot event diagram\n",
    "ground_truth_label = start_end_dict[target_video]\n",
    "data_labels = data_dict[target_video]\n",
    "print(data_labels)\n",
    "print(ground_truth_label)\n"
   ]
  },
  {
   "cell_type": "code",
   "execution_count": null,
   "id": "0c6b73c6",
   "metadata": {},
   "outputs": [],
   "source": [
    "det_events = {}\n",
    "for model in pki_outputs:\n",
    "    f5_det, phases = getStartEndPred(pki_outputs[model][target_video])\n",
    "    det_events[model] = (f5_det, phases)\n",
    "    print(\"Fold 5 target video detection events start and end for model {}:\\n{}\\n{}\\n\".format(model, f5_det, phases))"
   ]
  },
  {
   "cell_type": "code",
   "execution_count": null,
   "id": "9dd4c354",
   "metadata": {},
   "outputs": [],
   "source": [
    "def getPhaseGTEvents(gt_start_end, phases, phase):\n",
    "    start_end_by_phase = []\n",
    "    for i in range(len(phases)):\n",
    "        if phases[i] != 0 and phases[i] == phase:\n",
    "            start_end_by_phase.append(gt_start_end[i])\n",
    "#     # loop through the list to add the remaining intervals\n",
    "#     cur = 0\n",
    "#     original = start_end_by_phase.copy()\n",
    "#     for interval in original:\n",
    "# #             print(\"Interval:{}\".format(interval))\n",
    "#         if interval[0] > cur:\n",
    "#             start_end_by_phase.append((cur, interval[0]))\n",
    "#         cur = interval[1]\n",
    "# #             print(cur)\n",
    "#     start_end_by_phase.append((cur, tot))\n",
    "#     start_end_by_phase.sort()\n",
    "    return start_end_by_phase"
   ]
  },
  {
   "cell_type": "code",
   "execution_count": null,
   "id": "f5d80bb1",
   "metadata": {},
   "outputs": [],
   "source": [
    "def getPhaseDetEvents(det_events, phase):\n",
    "    det_events_by_phase = {}\n",
    "    for model in det_events:\n",
    "        start_end_by_phase = []\n",
    "        f5_det, phases = det_events[model]\n",
    "        for i in range(len(phases)):\n",
    "            if phases[i] == 0:\n",
    "                continue\n",
    "            if phases[i] == phase:\n",
    "                start_end_by_phase.append(f5_det[i])\n",
    "# #         # loop through the list to add the remaining intervals\n",
    "#         cur = 0\n",
    "#         original = start_end_by_phase.copy()\n",
    "#         for interval in original:\n",
    "# #             print(\"Interval:{}\".format(interval))\n",
    "#             if interval[0] > cur:\n",
    "#                 start_end_by_phase.append((cur, interval[0]))\n",
    "#             cur = interval[1]\n",
    "# #             print(cur)\n",
    "#         start_end_by_phase.append((cur, tot))\n",
    "#         start_end_by_phase.sort()\n",
    "        det_events_by_phase[model] = start_end_by_phase\n",
    "#         print()\n",
    "    return det_events_by_phase"
   ]
  },
  {
   "cell_type": "code",
   "execution_count": null,
   "id": "b4cc925c",
   "metadata": {},
   "outputs": [],
   "source": [
    "def getWardRes(gt, dt):\n",
    "    # Run event-based evaluation:\n",
    "    gt_event_scores, det_event_scores, detailed_scores, standard_scores = eval_events(gt, dt)\n",
    "\n",
    "    # Print results:\n",
    "#     print_standard_event_metrics(standard_scores)\n",
    "#     print_detailed_event_metrics(detailed_scores)\n",
    "\n",
    "    # Access results in other formats:\n",
    "#     print(standard_event_metrics_to_list(standard_scores)) # standard scores as basic python list, order: p, r, p_w, r_w\n",
    "#     print(standard_event_metrics_to_string(standard_scores)) # standard scores as string line, order: p, r, p_w, r_w)\n",
    "#     print(standard_event_metrics_to_string(standard_scores, separator=\";\", prefix=\"(\", suffix=\")\\n\")) # standard scores as string line, order: p, r, p_w, r_w\n",
    "\n",
    "#     print(detailed_event_metrics_to_list(detailed_scores)) # detailed scores as basic python list\n",
    "#     print(detailed_event_metrics_to_string(detailed_scores)) # detailed scores as string line\n",
    "#     print(detailed_event_metrics_to_string(detailed_scores, separator=\";\", prefix=\"(\", suffix=\")\\n\")) # standard scores as string line\n",
    "\n",
    "\n",
    "    # Show results:\n",
    "#     plot_events_with_event_scores(gt_event_scores, det_event_scores, gt, dt, show=False)\n",
    "#     plot_event_analysis_diagram(detailed_scores)\n",
    "\n",
    "#     print(gt_event_scores)\n",
    "#     print(det_event_scores)\n",
    "#     print(detailed_scores)\n",
    "    \n",
    "    return(gt_event_scores, det_event_scores, detailed_scores)"
   ]
  },
  {
   "cell_type": "code",
   "execution_count": null,
   "id": "b0571d21",
   "metadata": {},
   "outputs": [],
   "source": [
    "per_phase_ward_metric = {}"
   ]
  },
  {
   "cell_type": "code",
   "execution_count": null,
   "id": "10b347ff",
   "metadata": {},
   "outputs": [],
   "source": [
    "# get ward metric by phase: phase 1\n",
    "phase_ward = {}\n",
    "f5ph1_gt = getPhaseGTEvents(ground_truth_label, data_labels[\"label list\"], 1)\n",
    "f5ph1_dt = getPhaseDetEvents(det_events, 1)\n",
    "print(f5ph1_gt)\n",
    "print(f5ph1_dt)"
   ]
  },
  {
   "cell_type": "markdown",
   "id": "664cb84d",
   "metadata": {},
   "source": [
    "{'vanilla': [(0, 62), (67, 86), (90, 103)],\n",
    " 'epdp': [(0, 57), (69, 70), (77, 83), (92, 95)],\n",
    " 'eptp': [(0, 62), (69, 105)],\n",
    " 'fepp': [(0, 57), (69, 105)]}"
   ]
  },
  {
   "cell_type": "code",
   "execution_count": null,
   "id": "6a25f34e",
   "metadata": {
    "scrolled": true
   },
   "outputs": [],
   "source": [
    "for model in f5ph1_dt:\n",
    "    print(\"Model:{}\".format(model))\n",
    "    phase_ward[model] = getWardRes(f5ph1_gt, f5ph1_dt[model])\n",
    "per_phase_ward_metric[1] = phase_ward"
   ]
  },
  {
   "cell_type": "code",
   "execution_count": null,
   "id": "9ddd78fb",
   "metadata": {
    "scrolled": true
   },
   "outputs": [],
   "source": [
    "# get ward metric by phase: phase 2\n",
    "f5ph_gt = getPhaseGTEvents(ground_truth_label, data_labels[\"label list\"], 2)\n",
    "f5ph_dt = getPhaseDetEvents(det_events, 2)\n",
    "phase_ward = {}\n",
    "for model in f5ph_dt:\n",
    "    print(\"Model:{}\".format(model))\n",
    "    phase_ward[model] = getWardRes(f5ph_gt, f5ph_dt[model])\n",
    "per_phase_ward_metric[2] = phase_ward"
   ]
  },
  {
   "cell_type": "code",
   "execution_count": null,
   "id": "d17a39fd",
   "metadata": {
    "scrolled": true
   },
   "outputs": [],
   "source": [
    "# get ward metric by phase: phase 3\n",
    "f5ph_gt = getPhaseGTEvents(ground_truth_label, data_labels[\"label list\"], 3)\n",
    "f5ph_dt = getPhaseDetEvents(det_events, 3)\n",
    "phase_ward = {}\n",
    "for model in f5ph_dt:\n",
    "    print(\"Model:{}\".format(model))\n",
    "    phase_ward[model] = getWardRes(f5ph_gt, f5ph_dt[model])\n",
    "per_phase_ward_metric[3] = phase_ward"
   ]
  },
  {
   "cell_type": "code",
   "execution_count": null,
   "id": "31059edb",
   "metadata": {
    "scrolled": true
   },
   "outputs": [],
   "source": [
    "# get ward metric by phase: phase 4\n",
    "f5ph_gt = getPhaseGTEvents(ground_truth_label, data_labels[\"label list\"], 4)\n",
    "f5ph_dt = getPhaseDetEvents(det_events, 4)\n",
    "phase_ward = {}\n",
    "for model in f5ph_dt:\n",
    "    print(\"Model:{}\".format(model))\n",
    "    phase_ward[model] = getWardRes(f5ph_gt, f5ph_dt[model])\n",
    "per_phase_ward_metric[4] = phase_ward"
   ]
  },
  {
   "cell_type": "code",
   "execution_count": null,
   "id": "f629313e",
   "metadata": {
    "scrolled": true
   },
   "outputs": [],
   "source": [
    "# get ward metric by phase: phase 5\n",
    "f5ph_gt = getPhaseGTEvents(ground_truth_label, data_labels[\"label list\"], 5)\n",
    "f5ph_dt = getPhaseDetEvents(det_events, 5)\n",
    "phase_ward = {}\n",
    "for model in f5ph_dt:\n",
    "    print(\"Model:{}\".format(model))\n",
    "    phase_ward[model] = getWardRes(f5ph_gt, f5ph_dt[model])\n",
    "per_phase_ward_metric[5] = phase_ward"
   ]
  },
  {
   "cell_type": "code",
   "execution_count": null,
   "id": "101cbcf8",
   "metadata": {
    "scrolled": true
   },
   "outputs": [],
   "source": [
    "# combine everything manually\n",
    "per_phase_ward_metric"
   ]
  },
  {
   "cell_type": "code",
   "execution_count": null,
   "id": "efb56065",
   "metadata": {},
   "outputs": [],
   "source": [
    "# vanilla\n",
    "final_detailed_scores = {\n",
    "    'total_gt': 0,\n",
    "    'total_det': 0,\n",
    "    'D': 0,\n",
    "    'F': 0,\n",
    "    'FM': 0,\n",
    "    'M': 0,\n",
    "    'C': 0,\n",
    "    \"M'\": 0,\n",
    "    \"FM'\": 0,\n",
    "    \"F'\": 0,\n",
    "    \"I'\": 0}\n",
    "for phase in per_phase_ward_metric:\n",
    "    ds_dict = per_phase_ward_metric[phase][\"vanilla\"][2]\n",
    "    for eachKey in ds_dict:\n",
    "        final_detailed_scores[eachKey] += ds_dict[eachKey]\n",
    "print(final_detailed_scores)\n",
    "plot_event_analysis_diagram(final_detailed_scores)"
   ]
  },
  {
   "cell_type": "code",
   "execution_count": null,
   "id": "f251cabb",
   "metadata": {},
   "outputs": [],
   "source": [
    "# epdp\n",
    "final_detailed_scores = {\n",
    "    'total_gt': 0,\n",
    "    'total_det': 0,\n",
    "    'D': 0,\n",
    "    'F': 0,\n",
    "    'FM': 0,\n",
    "    'M': 0,\n",
    "    'C': 0,\n",
    "    \"M'\": 0,\n",
    "    \"FM'\": 0,\n",
    "    \"F'\": 0,\n",
    "    \"I'\": 0}\n",
    "for phase in per_phase_ward_metric:\n",
    "    ds_dict = per_phase_ward_metric[phase][\"epdp\"][2]\n",
    "    for eachKey in ds_dict:\n",
    "        final_detailed_scores[eachKey] += ds_dict[eachKey]\n",
    "print(final_detailed_scores)\n",
    "plot_event_analysis_diagram(final_detailed_scores)"
   ]
  },
  {
   "cell_type": "code",
   "execution_count": null,
   "id": "8da09ba6",
   "metadata": {},
   "outputs": [],
   "source": [
    "# eptp\n",
    "final_detailed_scores = {\n",
    "    'total_gt': 0,\n",
    "    'total_det': 0,\n",
    "    'D': 0,\n",
    "    'F': 0,\n",
    "    'FM': 0,\n",
    "    'M': 0,\n",
    "    'C': 0,\n",
    "    \"M'\": 0,\n",
    "    \"FM'\": 0,\n",
    "    \"F'\": 0,\n",
    "    \"I'\": 0}\n",
    "for phase in per_phase_ward_metric:\n",
    "    ds_dict = per_phase_ward_metric[phase][\"eptp\"][2]\n",
    "    for eachKey in ds_dict:\n",
    "        final_detailed_scores[eachKey] += ds_dict[eachKey]\n",
    "print(final_detailed_scores)\n",
    "plot_event_analysis_diagram(final_detailed_scores)"
   ]
  },
  {
   "cell_type": "code",
   "execution_count": null,
   "id": "9f9d8684",
   "metadata": {},
   "outputs": [],
   "source": [
    "# fepp\n",
    "final_detailed_scores = {\n",
    "    'total_gt': 0,\n",
    "    'total_det': 0,\n",
    "    'D': 0,\n",
    "    'F': 0,\n",
    "    'FM': 0,\n",
    "    'M': 0,\n",
    "    'C': 0,\n",
    "    \"M'\": 0,\n",
    "    \"FM'\": 0,\n",
    "    \"F'\": 0,\n",
    "    \"I'\": 0}\n",
    "for phase in per_phase_ward_metric:\n",
    "    ds_dict = per_phase_ward_metric[phase][\"fepp\"][2]\n",
    "    for eachKey in ds_dict:\n",
    "        final_detailed_scores[eachKey] += ds_dict[eachKey]\n",
    "print(final_detailed_scores)\n",
    "plot_event_analysis_diagram(final_detailed_scores)"
   ]
  },
  {
   "cell_type": "code",
   "execution_count": null,
   "id": "3b599126",
   "metadata": {},
   "outputs": [],
   "source": [
    "# get averaged values for fold 3\n",
    "\n",
    "def getAveEventScores(videoSequence):\n",
    "    final_scores = {}\n",
    "    for target_video in videoSequence:\n",
    "        ground_truth_label = start_end_dict[target_video]\n",
    "        data_labels = data_dict[target_video]\n",
    "        det_events = {}\n",
    "        for model in pki_outputs:\n",
    "            f5_det, phases = getStartEndPred(pki_outputs[model][target_video])\n",
    "            det_events[model] = (f5_det, phases)\n",
    "        #get per phase event\n",
    "        per_phase_ward_metric = {}\n",
    "        for phase in range(1,6):\n",
    "            # get ward metric by phase\n",
    "            f5ph_gt = getPhaseGTEvents(ground_truth_label, data_labels[\"label list\"], phase)\n",
    "            f5ph_dt = getPhaseDetEvents(det_events, phase)\n",
    "            phase_ward = {}\n",
    "            for model in f5ph_dt:\n",
    "                print(\"Model:{}\".format(model))\n",
    "                phase_ward[model] = getWardRes(f5ph_gt, f5ph_dt[model])\n",
    "            per_phase_ward_metric[phase] = phase_ward\n",
    "\n",
    "        #plot the event diagram\n",
    "        for model in pki_outputs:\n",
    "            final_detailed_scores = {\n",
    "                'total_gt': 0,\n",
    "                'total_det': 0,\n",
    "                'D': 0,\n",
    "                'F': 0,\n",
    "                'FM': 0,\n",
    "                'M': 0,\n",
    "                'C': 0,\n",
    "                \"M'\": 0,\n",
    "                \"FM'\": 0,\n",
    "                \"F'\": 0,\n",
    "                \"I'\": 0}\n",
    "            for phase in per_phase_ward_metric:\n",
    "                ds_dict = per_phase_ward_metric[phase][model][2]\n",
    "                for eachKey in ds_dict:\n",
    "                    final_detailed_scores[eachKey] += ds_dict[eachKey]\n",
    "\n",
    "            if model in final_scores:\n",
    "                for eachKey in final_detailed_scores:\n",
    "                    final_scores[model][eachKey] = (final_detailed_scores[eachKey] + final_scores[model][eachKey])/2\n",
    "            else:\n",
    "                final_scores[model] = final_detailed_scores\n",
    "    # plot averaged results\n",
    "    for model in pki_outputs:\n",
    "        print(\"Model {}\".format(model))\n",
    "        print(final_scores[model])\n",
    "        plot_event_analysis_diagram(final_scores[model])"
   ]
  },
  {
   "cell_type": "code",
   "execution_count": null,
   "id": "727efc14",
   "metadata": {
    "scrolled": false
   },
   "outputs": [],
   "source": [
    "getAveEventScores(test_folds[3])"
   ]
  },
  {
   "cell_type": "code",
   "execution_count": null,
   "id": "9deee510",
   "metadata": {},
   "outputs": [],
   "source": []
  }
 ],
 "metadata": {
  "kernelspec": {
   "display_name": "Python 3",
   "language": "python",
   "name": "python3"
  },
  "language_info": {
   "codemirror_mode": {
    "name": "ipython",
    "version": 3
   },
   "file_extension": ".py",
   "mimetype": "text/x-python",
   "name": "python",
   "nbconvert_exporter": "python",
   "pygments_lexer": "ipython3",
   "version": "3.7.10"
  }
 },
 "nbformat": 4,
 "nbformat_minor": 5
}
