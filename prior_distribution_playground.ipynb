{
 "cells": [
  {
   "cell_type": "code",
   "execution_count": 1,
   "id": "83c54a67",
   "metadata": {},
   "outputs": [],
   "source": [
    "import pickle\n",
    "import os\n",
    "import glob\n",
    "import numpy as np\n",
    "import json\n",
    "from scipy.stats import norm"
   ]
  },
  {
   "cell_type": "code",
   "execution_count": 2,
   "id": "fba79850",
   "metadata": {},
   "outputs": [],
   "source": [
    "path = \"/home/jenna/sacro_results/results/\""
   ]
  },
  {
   "cell_type": "code",
   "execution_count": 3,
   "id": "2c03a0fc",
   "metadata": {},
   "outputs": [
    {
     "data": {
      "text/plain": [
       "['cf7cf863-929a-4b89-962b-7913869167e4',\n",
       " 'a90983a1-2329-4019-96e8-949493c3fc24',\n",
       " '315ac662-9e95-4dec-80f0-48e244f9f8e1',\n",
       " 'b71b28f1-7f63-4593-bdb2-9e60dd1ac71e',\n",
       " '96c75293-2026-48af-ad99-37281cb9bb3e',\n",
       " '436c714b-b588-4894-b68c-1e0f773e5df1',\n",
       " '5238ac7b-ad85-488f-b013-9ee4e2064e60',\n",
       " 'e8d7e0c4-b293-43ce-832f-c37fb8fd3b23',\n",
       " 'e6a9f8f7-8024-42d5-aad5-ef726d353f3b',\n",
       " '26d9e19b-59ed-4bbb-906a-9953b5d2c825',\n",
       " 'a3347182-4364-43f8-8992-2409b1b66d31',\n",
       " 'f63b25f4-8df4-4336-8c02-9456eb3c09b0',\n",
       " 'slinwin_processor.py',\n",
       " 'e8d3eabc-edd1-414f-9d95-277df742655a',\n",
       " 'b6701cb1-3a9b-456e-ad73-c6e06eea03ec']"
      ]
     },
     "execution_count": 3,
     "metadata": {},
     "output_type": "execute_result"
    }
   ],
   "source": [
    "os.listdir(path)"
   ]
  },
  {
   "cell_type": "code",
   "execution_count": 4,
   "id": "6162954f",
   "metadata": {},
   "outputs": [
    {
     "data": {
      "text/plain": [
       "'/home/jenna/sacro_results/results/cf7cf863-929a-4b89-962b-7913869167e4'"
      ]
     },
     "execution_count": 4,
     "metadata": {},
     "output_type": "execute_result"
    }
   ],
   "source": [
    "# Try one example of pred and true pickle file\n",
    "example_path = path + os.listdir(path)[0]\n",
    "example_path"
   ]
  },
  {
   "cell_type": "code",
   "execution_count": 5,
   "id": "1ac8db19",
   "metadata": {},
   "outputs": [],
   "source": [
    "pred_labels = pickle.load(open(example_path + \"/seq_pred.pickle\", 'rb'))\n",
    "e3d_pred_labels = pickle.load(open(example_path + \"/seq_e3d.pickle\", 'rb'))\n",
    "mode_ave_pred_labels = pickle.load(open(example_path + \"/seq_mode_av.pickle\", 'rb'))\n",
    "true_labels = pickle.load(open(example_path + \"/seq_true.pickle\", 'rb'))"
   ]
  },
  {
   "cell_type": "code",
   "execution_count": 6,
   "id": "ee8be44e",
   "metadata": {},
   "outputs": [
    {
     "name": "stdout",
     "output_type": "stream",
     "text": [
      "[2, 4, 2, 5, 4, 4, 2, 4, 4, 2]\n"
     ]
    }
   ],
   "source": [
    "print(pred_labels[:10])"
   ]
  },
  {
   "cell_type": "code",
   "execution_count": 7,
   "id": "559e8981",
   "metadata": {},
   "outputs": [
    {
     "name": "stdout",
     "output_type": "stream",
     "text": [
      "[2, 2, 2, 2, 2, 2, 2, 2, 2, 2]\n"
     ]
    }
   ],
   "source": [
    "print(e3d_pred_labels[:10])"
   ]
  },
  {
   "cell_type": "code",
   "execution_count": 8,
   "id": "96f95c6a",
   "metadata": {},
   "outputs": [
    {
     "name": "stdout",
     "output_type": "stream",
     "text": [
      "[4.0, 4.0, 4.0, 2.0, 2.0, 2.0, 2.0, 2.0, 2.0, 2.0]\n"
     ]
    }
   ],
   "source": [
    "print(mode_ave_pred_labels[:10])"
   ]
  },
  {
   "cell_type": "code",
   "execution_count": 9,
   "id": "3349683d",
   "metadata": {},
   "outputs": [
    {
     "name": "stdout",
     "output_type": "stream",
     "text": [
      "[1, 1, 1, 1, 1, 1, 1, 1, 1, 1]\n"
     ]
    }
   ],
   "source": [
    "print(true_labels[:10])"
   ]
  },
  {
   "cell_type": "code",
   "execution_count": 10,
   "id": "fc5ec7e7",
   "metadata": {},
   "outputs": [],
   "source": [
    "# scan through the true labels to see whether there are early phases repeating in the later stage\n",
    "labels_list = []\n",
    "labels_freq = []\n",
    "for current_label in true_labels:\n",
    "    #if list is empty or current label is not the same as the previous label, \n",
    "    #then append the current label and frequency\n",
    "    if (not labels_list) or (current_label != labels_list[-1]):\n",
    "        labels_list.append(current_label)\n",
    "        labels_freq.append(1)\n",
    "        continue\n",
    "    # for the other cases, simply update frequency\n",
    "    labels_freq[-1] += 1\n",
    "    \n"
   ]
  },
  {
   "cell_type": "code",
   "execution_count": 11,
   "id": "244cf80e",
   "metadata": {},
   "outputs": [
    {
     "name": "stdout",
     "output_type": "stream",
     "text": [
      "labels list:[1, 0, 2, 0, 3, 0, 4, 0, 3, 0, 5]\n",
      "labels freq:[169, 8, 593, 12, 455, 1, 24, 6, 344, 9, 192]\n"
     ]
    }
   ],
   "source": [
    "# take a look at the frequencies of the labels\n",
    "print(\"labels list:{}\".format(labels_list))\n",
    "print(\"labels freq:{}\".format(labels_freq))"
   ]
  },
  {
   "cell_type": "markdown",
   "id": "5ea99c96",
   "metadata": {},
   "source": [
    "_From the list and the frequencies, we can see that phase 3 has the highest proportion, and there are jumps from 3 to 4 and then back to 3. The time for the non-classed clips is the shortest between 4 and back to 3, probably because the tools for phase are is already there._"
   ]
  },
  {
   "cell_type": "code",
   "execution_count": 12,
   "id": "eb6c033f",
   "metadata": {},
   "outputs": [],
   "source": [
    "# Now, you need to loop through every video and document the label list and label freq\n",
    "# Put above code into function\n",
    "def get_label_list_and_freq(full_path):\n",
    "#     pred_labels = pickle.load(open(full_path + \"/seq_pred.pickle\", 'rb'))\n",
    "    true_labels = pickle.load(open(full_path + \"/seq_true.pickle\", 'rb'))\n",
    "    # scan through the true labels to see whether there are early phases repeating in the later stage\n",
    "    labels_list = []\n",
    "    labels_freq = []\n",
    "    for current_label in true_labels:\n",
    "        #if list is empty or current label is not the same as the previous label, \n",
    "        #then append the current label and frequency\n",
    "        if (not labels_list) or (current_label != labels_list[-1]):\n",
    "            labels_list.append(current_label)\n",
    "            labels_freq.append(1)\n",
    "            continue\n",
    "        # for the other cases, simply update frequency\n",
    "        labels_freq[-1] += 1\n",
    "    return (labels_list, labels_freq)"
   ]
  },
  {
   "cell_type": "code",
   "execution_count": 13,
   "id": "ce68fd76",
   "metadata": {},
   "outputs": [],
   "source": [
    "# Get the list of python files which are no subdirectories\n",
    "py_files = glob.glob(path+\"*.py\")\n",
    "for (i, file) in enumerate(py_files):\n",
    "    file = file.replace(path, \"\")\n",
    "    py_files[i] = file"
   ]
  },
  {
   "cell_type": "code",
   "execution_count": 14,
   "id": "eb72a11b",
   "metadata": {},
   "outputs": [
    {
     "data": {
      "text/plain": [
       "['slinwin_processor.py']"
      ]
     },
     "execution_count": 14,
     "metadata": {},
     "output_type": "execute_result"
    }
   ],
   "source": [
    "py_files"
   ]
  },
  {
   "cell_type": "code",
   "execution_count": 15,
   "id": "436a31d5",
   "metadata": {},
   "outputs": [
    {
     "data": {
      "text/plain": [
       "['cf7cf863-929a-4b89-962b-7913869167e4',\n",
       " 'a90983a1-2329-4019-96e8-949493c3fc24',\n",
       " '315ac662-9e95-4dec-80f0-48e244f9f8e1',\n",
       " 'b71b28f1-7f63-4593-bdb2-9e60dd1ac71e',\n",
       " '96c75293-2026-48af-ad99-37281cb9bb3e',\n",
       " '436c714b-b588-4894-b68c-1e0f773e5df1',\n",
       " '5238ac7b-ad85-488f-b013-9ee4e2064e60',\n",
       " 'e8d7e0c4-b293-43ce-832f-c37fb8fd3b23',\n",
       " 'e6a9f8f7-8024-42d5-aad5-ef726d353f3b',\n",
       " '26d9e19b-59ed-4bbb-906a-9953b5d2c825',\n",
       " 'a3347182-4364-43f8-8992-2409b1b66d31',\n",
       " 'f63b25f4-8df4-4336-8c02-9456eb3c09b0',\n",
       " 'e8d3eabc-edd1-414f-9d95-277df742655a',\n",
       " 'b6701cb1-3a9b-456e-ad73-c6e06eea03ec']"
      ]
     },
     "execution_count": 15,
     "metadata": {},
     "output_type": "execute_result"
    }
   ],
   "source": [
    "# Remove the python file(s)\n",
    "subdir_list = os.listdir(path)\n",
    "for file in py_files:\n",
    "    subdir_list.remove(file)\n",
    "subdir_list"
   ]
  },
  {
   "cell_type": "code",
   "execution_count": 16,
   "id": "19f12129",
   "metadata": {},
   "outputs": [],
   "source": [
    "# Loop through the subdirectory and extract the label lists and frequencies\n",
    "data_dict = {}\n",
    "for subdir in subdir_list:\n",
    "    full_path = path + subdir\n",
    "    labels_list, labels_freq = get_label_list_and_freq(full_path)\n",
    "    # store the list and corresponding frequency into a dictionary\n",
    "    labels_dict = {}\n",
    "    labels_dict[\"label list\"] = labels_list\n",
    "    labels_dict[\"label freq\"] = labels_freq\n",
    "    # store the label dictionary into the data dictionary under the corresponding subdirectory\n",
    "    data_dict[subdir] = labels_dict"
   ]
  },
  {
   "cell_type": "code",
   "execution_count": 17,
   "id": "aee68a0d",
   "metadata": {},
   "outputs": [
    {
     "name": "stdout",
     "output_type": "stream",
     "text": [
      "{'cf7cf863-929a-4b89-962b-7913869167e4': {'label list': [1, 0, 2, 0, 3, 0, 4, 0, 3, 0, 5], 'label freq': [169, 8, 593, 12, 455, 1, 24, 6, 344, 9, 192]}, 'a90983a1-2329-4019-96e8-949493c3fc24': {'label list': [1, 0, 2, 0, 3, 0, 4, 0, 5], 'label freq': [41, 16, 334, 106, 476, 4, 7, 22, 120]}, '315ac662-9e95-4dec-80f0-48e244f9f8e1': {'label list': [1, 2, 0, 3, 0, 4, 0, 3, 0, 5], 'label freq': [84, 231, 23, 544, 24, 26, 39, 192, 7, 184]}, 'b71b28f1-7f63-4593-bdb2-9e60dd1ac71e': {'label list': [1, 0, 2, 0, 3, 0, 4, 0, 3, 0, 5], 'label freq': [47, 3, 846, 1, 394, 3, 23, 10, 143, 2, 109]}, '96c75293-2026-48af-ad99-37281cb9bb3e': {'label list': [2, 1, 2, 0, 3, 0, 4, 0, 3, 0, 5], 'label freq': [146, 101, 254, 17, 550, 1, 73, 14, 190, 15, 266]}, '436c714b-b588-4894-b68c-1e0f773e5df1': {'label list': [1, 0, 2, 0, 3, 0, 4, 0, 3, 0, 5], 'label freq': [153, 45, 348, 39, 346, 2, 51, 17, 221, 10, 131]}, '5238ac7b-ad85-488f-b013-9ee4e2064e60': {'label list': [1, 0, 2, 0, 3, 0, 4, 0, 5], 'label freq': [54, 1, 728, 28, 379, 14, 21, 62, 151]}, 'e8d7e0c4-b293-43ce-832f-c37fb8fd3b23': {'label list': [1, 0, 2, 0, 3, 0, 4, 0, 3, 0, 5], 'label freq': [125, 1, 257, 22, 247, 2, 32, 3, 48, 5, 133]}, 'e6a9f8f7-8024-42d5-aad5-ef726d353f3b': {'label list': [1, 2, 0, 3, 4, 0, 5], 'label freq': [67, 649, 70, 606, 42, 57, 241]}, '26d9e19b-59ed-4bbb-906a-9953b5d2c825': {'label list': [1, 0, 2, 0, 3, 0, 4, 0, 3, 0, 5], 'label freq': [69, 1, 334, 43, 428, 2, 6, 5, 193, 14, 207]}, 'a3347182-4364-43f8-8992-2409b1b66d31': {'label list': [2, 0, 1, 0, 2, 0, 3, 0, 4, 0, 3, 0, 5], 'label freq': [52, 2, 7, 1, 85, 20, 455, 1, 15, 6, 46, 20, 213]}, 'f63b25f4-8df4-4336-8c02-9456eb3c09b0': {'label list': [1, 0, 2, 0, 3, 0, 4, 0, 3, 0, 5], 'label freq': [202, 4, 450, 23, 434, 8, 23, 3, 301, 10, 107]}, 'e8d3eabc-edd1-414f-9d95-277df742655a': {'label list': [2, 0, 1, 0, 2, 0, 3, 0, 4, 0, 3], 'label freq': [152, 1, 68, 2, 316, 69, 418, 1, 9, 19, 54]}, 'b6701cb1-3a9b-456e-ad73-c6e06eea03ec': {'label list': [1, 2, 0, 3, 4, 0, 3, 0, 5], 'label freq': [137, 741, 30, 218, 93, 9, 253, 50, 119]}}\n"
     ]
    }
   ],
   "source": [
    "print(data_dict)"
   ]
  },
  {
   "cell_type": "markdown",
   "id": "a439e21c",
   "metadata": {},
   "source": [
    "Results are as shown:  \n",
    "\n",
    "{'cf7cf863-929a-4b89-962b-7913869167e4':   \n",
    "    {  \n",
    "    'label list': [1, 0, 2, 0, 3, 0, 4, 0, 3, 0, 5],   \n",
    "    'label freq': [169, 8, 593, 12, 455, 1, 24, 6, 344, 9, 192]  \n",
    "     },   \n",
    " 'a90983a1-2329-4019-96e8-949493c3fc24':   \n",
    "     {  \n",
    "     'label list': [1, 0, 2, 0, 3, 0, 4, 0, 5],   \n",
    "     'label freq': [41, 16, 334, 106, 476, 4, 7, 22, 120]  \n",
    "     },   \n",
    " '315ac662-9e95-4dec-80f0-48e244f9f8e1':   \n",
    "     {  \n",
    "     'label list': [1, 2, 0, 3, 0, 4, 0, 3, 0, 5],      \n",
    "     'label freq': [84, 231, 23, 544, 24, 26, 39, 192, 7, 184]  \n",
    "     },   \n",
    "     \n",
    " 'b71b28f1-7f63-4593-bdb2-9e60dd1ac71e':   \n",
    "     {  \n",
    "     'label list': [1, 0, 2, 0, 3, 0, 4, 0, 3, 0, 5],   \n",
    "     'label freq': [47, 3, 846, 1, 394, 3, 23, 10, 143, 2, 109]  \n",
    "     },   \n",
    " '96c75293-2026-48af-ad99-37281cb9bb3e':   \n",
    "     {  \n",
    "     'label list': [2, 1, 2, 0, 3, 0, 4, 0, 3, 0, 5],   \n",
    "     'label freq': [146, 101, 254, 17, 550, 1, 73, 14, 190, 15, 266]  \n",
    "     },   \n",
    " '436c714b-b588-4894-b68c-1e0f773e5df1':   \n",
    "     {  \n",
    "     'label list': [1, 0, 2, 0, 3, 0, 4, 0, 3, 0, 5],   \n",
    "     'label freq': [153, 45, 348, 39, 346, 2, 51, 17, 221, 10, 131]  \n",
    "     },   \n",
    " '5238ac7b-ad85-488f-b013-9ee4e2064e60':   \n",
    "     {  \n",
    "     'label list': [1, 0, 2, 0, 3, 0, 4, 0, 5],   \n",
    "     'label freq': [54, 1, 728, 28, 379, 14, 21, 62, 151]  \n",
    "     },   \n",
    " 'e8d7e0c4-b293-43ce-832f-c37fb8fd3b23':   \n",
    "     {\n",
    "     'label list': [1, 0, 2, 0, 3, 0, 4, 0, 3, 0, 5],   \n",
    "     'label freq': [125, 1, 257, 22, 247, 2, 32, 3, 48, 5, 133]  \n",
    "     }, \n",
    " 'e6a9f8f7-8024-42d5-aad5-ef726d353f3b':   \n",
    "     {  \n",
    "     'label list': [1, 2, 0, 3, 4, 0, 5],   \n",
    "     'label freq': [67, 649, 70, 606, 42, 57, 241]  \n",
    "     },   \n",
    " '26d9e19b-59ed-4bbb-906a-9953b5d2c825':   \n",
    "     {  \n",
    "     'label list': [1, 0, 2, 0, 3, 0, 4, 0, 3, 0, 5],  \n",
    "     'label freq': [69, 1, 334, 43, 428, 2, 6, 5, 193, 14, 207]  \n",
    "     },   \n",
    " 'a3347182-4364-43f8-8992-2409b1b66d31':   \n",
    "     {  \n",
    "     'label list': [2, 0, 1, 0, 2, 0, 3, 0, 4, 0, 3, 0, 5],  \n",
    "     'label freq': [52, 2, 7, 1, 85, 20, 455, 1, 15, 6, 46, 20, 213]  \n",
    "     },    \n",
    " 'f63b25f4-8df4-4336-8c02-9456eb3c09b0':   \n",
    "     {  \n",
    "     'label list': [1, 0, 2, 0, 3, 0, 4, 0, 3, 0, 5],   \n",
    "     'label freq': [202, 4, 450, 23, 434, 8, 23, 3, 301, 10, 107]  \n",
    "     },   \n",
    " 'e8d3eabc-edd1-414f-9d95-277df742655a':    \n",
    "     {  \n",
    "     'label list': [2, 0, 1, 0, 2, 0, 3, 0, 4, 0, 3],   \n",
    "     'label freq': [152, 1, 68, 2, 316, 69, 418, 1, 9, 19, 54]  \n",
    "     },  \n",
    " 'b6701cb1-3a9b-456e-ad73-c6e06eea03ec':  \n",
    "     {  \n",
    "     'label list': [1, 2, 0, 3, 4, 0, 3, 0, 5],   \n",
    "     'label freq': [137, 741, 30, 218, 93, 9, 253, 50, 119]  \n",
    "     }  \n",
    " }  \n",
    " "
   ]
  },
  {
   "cell_type": "code",
   "execution_count": 18,
   "id": "fcbf5a23",
   "metadata": {
    "scrolled": true
   },
   "outputs": [
    {
     "name": "stdout",
     "output_type": "stream",
     "text": [
      "Number of videos:14\n"
     ]
    }
   ],
   "source": [
    "print(\"Number of videos:{}\".format(len(data_dict)))"
   ]
  },
  {
   "cell_type": "markdown",
   "id": "2e7d9bc9",
   "metadata": {},
   "source": [
    "### Pattern observed:\n",
    "1. have 2 -> 1 -> 2 pattern, starting with phase 2 as the initial phase, BUT there isn't 1 -> 2 -> 1. Hence may need memory to flag whether the current phase 2 is the starting phase, coz if it is, then it has probability of jumping back to phase 1, otherwise it will only go to phase 3.\n",
    "2. have 3 -> 4 -> 3 pattern, but the ending 3 is usually followed by 5. Sometimes it ends at the ending 3. "
   ]
  },
  {
   "cell_type": "code",
   "execution_count": 19,
   "id": "cd2172c6",
   "metadata": {},
   "outputs": [],
   "source": [
    "# Split the data into the ones with repeating phases and the ones without\n",
    "# function returns boolean value indicating whether the current video contains non-zero repeating phases\n",
    "def is_repeating(data):\n",
    "    '''\n",
    "    data: the dict keyed using video sequence number\n",
    "    '''\n",
    "    prev_phases = []\n",
    "    for cur_phase in data[\"label list\"]:\n",
    "        # don't count zeros for repeating phases\n",
    "        if cur_phase == 0: continue\n",
    "        # if current phase has been witnessed, return true\n",
    "        if cur_phase in prev_phases:\n",
    "            return True\n",
    "        # else, add the current phase into the prev_phases\n",
    "        prev_phases.append(cur_phase)\n",
    "    # return false if no repeating phase\n",
    "    return False\n",
    "        \n",
    "        "
   ]
  },
  {
   "cell_type": "code",
   "execution_count": 20,
   "id": "e278f552",
   "metadata": {},
   "outputs": [],
   "source": [
    "# Loop through all data item and split the videos into two lists\n",
    "no_repeating = []\n",
    "has_repeating = []\n",
    "for vid in data_dict:\n",
    "    if is_repeating(data_dict[vid]):\n",
    "        has_repeating.append(vid)\n",
    "    else:\n",
    "        no_repeating.append(vid)"
   ]
  },
  {
   "cell_type": "code",
   "execution_count": 21,
   "id": "1ee29186",
   "metadata": {},
   "outputs": [
    {
     "name": "stdout",
     "output_type": "stream",
     "text": [
      "There are 11 videos with repeating phases:['cf7cf863-929a-4b89-962b-7913869167e4', '315ac662-9e95-4dec-80f0-48e244f9f8e1', 'b71b28f1-7f63-4593-bdb2-9e60dd1ac71e', '96c75293-2026-48af-ad99-37281cb9bb3e', '436c714b-b588-4894-b68c-1e0f773e5df1', 'e8d7e0c4-b293-43ce-832f-c37fb8fd3b23', '26d9e19b-59ed-4bbb-906a-9953b5d2c825', 'a3347182-4364-43f8-8992-2409b1b66d31', 'f63b25f4-8df4-4336-8c02-9456eb3c09b0', 'e8d3eabc-edd1-414f-9d95-277df742655a', 'b6701cb1-3a9b-456e-ad73-c6e06eea03ec']\n",
      "\n",
      "There are 3 videos without repeating phases:['a90983a1-2329-4019-96e8-949493c3fc24', '5238ac7b-ad85-488f-b013-9ee4e2064e60', 'e6a9f8f7-8024-42d5-aad5-ef726d353f3b']\n"
     ]
    }
   ],
   "source": [
    "print(\"There are {} videos with repeating phases:{}\".format(len(has_repeating), has_repeating))\n",
    "print()\n",
    "print(\"There are {} videos without repeating phases:{}\".format(len(no_repeating), no_repeating))"
   ]
  },
  {
   "cell_type": "markdown",
   "id": "32bc684c",
   "metadata": {},
   "source": [
    "# Get probability vectors list"
   ]
  },
  {
   "cell_type": "code",
   "execution_count": 22,
   "id": "931771bf",
   "metadata": {},
   "outputs": [
    {
     "data": {
      "text/plain": [
       "['cf7cf863-929a-4b89-962b-7913869167e4',\n",
       " 'a90983a1-2329-4019-96e8-949493c3fc24',\n",
       " '.ipynb_checkpoints',\n",
       " '315ac662-9e95-4dec-80f0-48e244f9f8e1',\n",
       " 'b71b28f1-7f63-4593-bdb2-9e60dd1ac71e',\n",
       " '96c75293-2026-48af-ad99-37281cb9bb3e',\n",
       " '436c714b-b588-4894-b68c-1e0f773e5df1',\n",
       " '5238ac7b-ad85-488f-b013-9ee4e2064e60',\n",
       " 'e8d7e0c4-b293-43ce-832f-c37fb8fd3b23',\n",
       " 'e6a9f8f7-8024-42d5-aad5-ef726d353f3b',\n",
       " '26d9e19b-59ed-4bbb-906a-9953b5d2c825',\n",
       " 'a3347182-4364-43f8-8992-2409b1b66d31',\n",
       " 'f63b25f4-8df4-4336-8c02-9456eb3c09b0',\n",
       " 'e8d3eabc-edd1-414f-9d95-277df742655a',\n",
       " 'b6701cb1-3a9b-456e-ad73-c6e06eea03ec']"
      ]
     },
     "execution_count": 22,
     "metadata": {},
     "output_type": "execute_result"
    }
   ],
   "source": [
    "# now that I have got the probability distribution I can try PKI to see whether there is improvement\n",
    "prob_vec_path = '/home/jenna/jennaCode/model_outputs' \n",
    "os.listdir(prob_vec_path)"
   ]
  },
  {
   "cell_type": "code",
   "execution_count": 23,
   "id": "13c28d65",
   "metadata": {},
   "outputs": [
    {
     "data": {
      "text/plain": [
       "'/home/jenna/jennaCode/model_outputs/cf7cf863-929a-4b89-962b-7913869167e4'"
      ]
     },
     "execution_count": 23,
     "metadata": {},
     "output_type": "execute_result"
    }
   ],
   "source": [
    "# Try one example of prob vec pickle file\n",
    "example_prob_vec_path = os.path.join(prob_vec_path, os.listdir(prob_vec_path)[0])\n",
    "example_prob_vec_path"
   ]
  },
  {
   "cell_type": "code",
   "execution_count": 24,
   "id": "21be0f51",
   "metadata": {},
   "outputs": [],
   "source": [
    "example_prob_vec = pickle.load(open(example_prob_vec_path + \"/prob_vectors.pickle\", 'rb'))\n",
    "example_pred_labels = pickle.load(open(example_prob_vec_path + \"/seq_pred.pickle\", 'rb'))"
   ]
  },
  {
   "cell_type": "code",
   "execution_count": 25,
   "id": "78cf8648",
   "metadata": {},
   "outputs": [
    {
     "name": "stdout",
     "output_type": "stream",
     "text": [
      "[[1.61301102e-02 2.06003532e-01 7.50325084e-01 3.53474566e-03\n",
      "  1.30244102e-02 1.09822378e-02]\n",
      " [6.60147741e-02 1.81815736e-02 2.02155679e-01 6.91310391e-02\n",
      "  6.02180898e-01 4.23360802e-02]\n",
      " [4.86351661e-02 5.23815379e-02 5.18992424e-01 6.36446923e-02\n",
      "  2.59962291e-01 5.63839488e-02]\n",
      " [1.01345882e-01 2.53924560e-02 4.93788302e-01 3.66287795e-03\n",
      "  3.42448473e-01 3.33619863e-02]\n",
      " [2.77488306e-02 6.12260867e-03 1.21907210e-02 1.29257152e-02\n",
      "  9.37360942e-01 3.65125341e-03]\n",
      " [1.58225838e-02 4.55546324e-05 1.94950367e-03 4.87861875e-03\n",
      "  9.76101696e-01 1.20211835e-03]\n",
      " [8.31847265e-03 7.05868661e-01 2.77028650e-01 2.94004043e-04\n",
      "  1.17838895e-03 7.31188711e-03]\n",
      " [1.08516626e-01 1.18921967e-02 7.47655854e-02 8.87262523e-02\n",
      "  4.77993369e-01 2.38105953e-01]\n",
      " [4.27953266e-02 3.29357176e-03 1.96241941e-02 3.64351235e-02\n",
      "  8.84503484e-01 1.33483261e-02]\n",
      " [2.73825880e-03 2.61314004e-03 9.55466270e-01 2.45510717e-03\n",
      "  3.58595960e-02 8.67551076e-04]]\n"
     ]
    }
   ],
   "source": [
    "print(example_prob_vec[:10])"
   ]
  },
  {
   "cell_type": "code",
   "execution_count": 26,
   "id": "ce8379c4",
   "metadata": {},
   "outputs": [
    {
     "name": "stdout",
     "output_type": "stream",
     "text": [
      "[2, 4, 2, 5, 4, 4, 2, 4, 4, 2]\n"
     ]
    }
   ],
   "source": [
    "# pred labels from data given by yitong\n",
    "print(pred_labels[:10])"
   ]
  },
  {
   "cell_type": "code",
   "execution_count": 27,
   "id": "d76051d2",
   "metadata": {},
   "outputs": [],
   "source": [
    "pred_from_prob = [np.argmax(arr) for arr in example_prob_vec]"
   ]
  },
  {
   "cell_type": "code",
   "execution_count": 28,
   "id": "761aaba6",
   "metadata": {},
   "outputs": [
    {
     "name": "stdout",
     "output_type": "stream",
     "text": [
      "[2, 4, 2, 2, 4, 4, 1, 4, 4, 2, 2, 5, 2, 5, 1, 1, 5, 5, 1, 1, 1, 1, 1, 1, 5, 5, 5, 1, 1, 1, 1, 2, 1, 1, 1, 2, 4, 1, 1, 1, 2, 2, 2, 2, 1, 1, 2, 1, 1, 1, 1, 1, 1, 1, 2, 2, 4, 5, 5, 4, 4, 3, 5, 5, 5, 5, 1, 1, 1, 1, 2, 5, 1, 1, 1, 5, 5, 5, 5, 1, 4, 4, 1, 5, 1, 4, 1, 1, 5, 1, 1, 2, 2, 5, 5, 5, 5, 5, 5, 5, 5, 2, 2, 1, 2, 1, 2, 5, 2, 2, 2, 5, 5, 5, 2, 2, 2, 2, 5, 2, 2, 2, 5, 2, 2, 5, 2, 2, 2, 2, 2, 2, 2, 2, 2, 2, 2, 2, 2, 2, 1, 1, 2, 2, 2, 2, 1, 1, 4, 2, 1, 2, 4, 2, 2, 1, 1, 1, 1, 1, 1, 1, 1, 1, 1, 1, 2, 2, 2, 1, 1, 2, 2, 2, 2, 2, 2, 2, 1, 1, 1, 2, 1, 1, 1, 1, 1, 1, 1, 1, 1, 2, 1, 1, 5, 2, 1, 1, 5, 2, 1, 1, 1, 1, 1, 1, 2, 1, 1, 1, 2, 2, 2, 1, 1, 2, 2, 2, 2, 2, 2, 2, 2, 2, 2, 2, 2, 2, 2, 2, 3, 2, 2, 2, 2, 3, 2, 1, 2, 2, 2, 2, 2, 2, 2, 2, 2, 2, 2, 2, 2, 2, 2, 2, 2, 2, 2, 2, 2, 3, 2, 2, 2, 2, 3, 2, 5, 2, 5, 3, 5, 2, 3, 2, 5, 2, 5, 5, 5, 5, 5, 5, 5, 2, 2, 2, 4, 4, 4, 2, 4, 2, 2, 2, 2, 2, 2, 2, 2, 2, 2, 2, 2, 2, 3, 2, 2, 2, 5, 3, 2, 2, 2, 2, 4, 2, 2, 2, 3, 2, 2, 2, 2, 2, 2, 2, 2, 2, 2, 2, 2, 2, 3, 2, 1, 2, 5, 2, 5, 4, 4, 4, 3, 5, 5, 2, 2, 2, 2, 2, 2, 2, 2, 2, 2, 5, 2, 2, 2, 2, 2, 2, 2, 2, 2, 2, 2, 2, 2, 2, 2, 1, 2, 2, 2, 2, 2, 2, 2, 1, 2, 2, 2, 2, 2, 2, 2, 2, 2, 4, 2, 2, 2, 2, 2, 2, 2, 2, 2, 2, 2, 2, 2, 2, 2, 2, 2, 2, 2, 2, 2, 2, 2, 2, 2, 2, 2, 2, 2, 2, 2, 2, 2, 2, 2, 3, 2, 2, 2, 2, 2, 2, 2, 2, 2, 2, 2, 2, 2, 2, 2, 2, 2, 2, 2, 2, 2, 2, 2, 2, 2, 2, 2, 2, 2, 2, 2, 2, 2, 2, 2, 2, 3, 2, 5, 2, 2, 5, 5, 2, 5, 1, 2, 3, 3, 5, 2, 2, 3, 2, 2, 2, 2, 2, 2, 2, 2, 2, 2, 2, 2, 2, 2, 2, 2, 2, 2, 2, 2, 2]\n"
     ]
    }
   ],
   "source": [
    " print(pred_from_prob[:500])"
   ]
  },
  {
   "cell_type": "code",
   "execution_count": 29,
   "id": "b7484d07",
   "metadata": {},
   "outputs": [
    {
     "name": "stdout",
     "output_type": "stream",
     "text": [
      "<class 'list'>\n"
     ]
    }
   ],
   "source": [
    "print(type(pred_labels))"
   ]
  },
  {
   "cell_type": "code",
   "execution_count": 30,
   "id": "f828aa12",
   "metadata": {},
   "outputs": [
    {
     "data": {
      "text/plain": [
       "0.6530612244897959"
      ]
     },
     "execution_count": 30,
     "metadata": {},
     "output_type": "execute_result"
    }
   ],
   "source": [
    "# accuracy\n",
    "from sklearn.metrics import accuracy_score, precision_score\n",
    "\n",
    "accuracy_score(true_labels, pred_labels)"
   ]
  },
  {
   "cell_type": "code",
   "execution_count": 87,
   "id": "819b2c60",
   "metadata": {},
   "outputs": [],
   "source": [
    "# try implement PKI and check for accuracy again\n",
    "'''\n",
    "Prior Knowledge Inference:\n",
    "Use prior knowledge of the phases to determine the current phase\n",
    "Threshold 1: number of phases to update the prior phase - set to 5 for now \n",
    "Threshold 2: probability threshold to keep the results from CNN - set to 0.5 for now, i.e. no bias towards or against CNN\n",
    "Prior phase: initialize to phase 1 for now\n",
    "'''\n",
    "def pki(prob_vec_list, seq_pred, prior_th, prob_th):\n",
    "    pred_output = np.array(seq_pred).copy()\n",
    "    # initialise prior phase to phase 1\n",
    "    prior = 1\n",
    "    prev = pred_output[0]\n",
    "    # keep a counter to count how many new phases have appeared. if count > 5, update the prior to new phases\n",
    "    count_new_phases = 0\n",
    "    for index, prediction in enumerate(pred_output):\n",
    "#         print(\"Current prior is {}\".format(prior))\n",
    "#         print(\"Count of prediction {} is {}\".format(prev, count_new_phases))\n",
    "        # if counter > 5, update prior\n",
    "        if count_new_phases > prior_th:\n",
    "            prior = prev\n",
    "        # if CNN probability is bigger than 0.5, keep CNN prediction; else update it to prior\n",
    "#         if prob_vec_list[index][prediction] < prob_th:\n",
    "        pred_output[index] = prior\n",
    "        # if current prediction is same as the previous one, counter increment by 1\n",
    "        if prediction == prev:\n",
    "            count_new_phases += 1\n",
    "        else:\n",
    "            # reset counter\n",
    "            prev = prediction\n",
    "            count_new_phases = 0\n",
    "    \n",
    "    return pred_output\n",
    "        \n",
    "    "
   ]
  },
  {
   "cell_type": "code",
   "execution_count": 88,
   "id": "1a87055f",
   "metadata": {},
   "outputs": [],
   "source": [
    "pki_output = pki(example_prob_vec, pred_labels, 4, 1)"
   ]
  },
  {
   "cell_type": "code",
   "execution_count": 89,
   "id": "9e73c706",
   "metadata": {},
   "outputs": [
    {
     "name": "stdout",
     "output_type": "stream",
     "text": [
      "[1 1 1 1 1 1 1 1 1 1 1 1 1 1 1 1 1 1 1 1 1 1 1 1 1 1 1 1 1 1 1 1 1 1 1 1 1\n",
      " 1 1 1 1 1 1 1 1 1 1 1 1 1 1 1 1 1 1 1 1 1 1 1 1 1 1 1 1 1 1 1 1 1 1 1 1 1\n",
      " 1 1 1 1 1 1 1 1 1 1 1 1 1 1 1 1 1 1 1 1 1 1 1 1 1 1 1 1 1 1 1 1 1 1 1 1 1\n",
      " 1 1 1 1 1 1 1 1 1 1 1 1 1 1 1 1 1 1 1 1 1 1 1 1 1 1 1 1 1 1 1 1 2 2 2 2 2\n",
      " 2 2 2 2 2 2 2 2 2 2 2 2 2 2 2 2 2 2 2 2 2 2 2 2 2 2 2 2 2 2 2 2 2 2 2 2 2\n",
      " 2 2 2 2 2 2 2 2 2 2 2 2 2 2 2 2 2 2 2 2 2 2 2 2 2 2 2 2 2 2 2 2 2 2 2 2 2\n",
      " 2 2 2 2 2 2 2 2 2 2 2 2 2 2 2 2 2 2 2 2 2 2 2 2 2 2 2 2 2 2 2 2 2 2 2 2 2\n",
      " 2 2 2 2 2 2 2 2 2 2 2 2 2 2 2 2 2 2 2 2 2 2 2 2 2 2 2 2 2 2 2 2 2 2 2 2 2\n",
      " 2 2 2 2 2 2 2 2 2 2 2 2 2 2 2 2 2 2 2 2 2 2 2 2 2 2 2 2 2 2 2 2 2 2 2 2 2\n",
      " 2 2 2 2 2 2 2 2 2 2 2 2 2 2 2 2 2 2 2 2 2 2 2 2 2 2 2 2 2 2 2 2 2 2 2 2 2\n",
      " 2 2 2 2 2 2 2 2 2 2 2 2 2 2 2 2 2 2 2 2 2 2 2 2 2 2 2 2 2 2 2 2 2 2 2 2 2\n",
      " 2 2 2 2 2 2 2 2 2 2 2 2 2 2 2 2 2 2 2 2 2 2 2 2 2 2 2 2 2 2 2 2 2 2 2 2 2\n",
      " 2 2 2 2 2 2 2 2 2 2 3 3 3 3 3 3 3 3 3 3 3 3 3 3 3 3 3 3 3 3 3 3 3 3 3 3 3\n",
      " 3 3 3 3 3 3 3 3 3 3 3 3 3 3 3 3 3 3 3]\n"
     ]
    }
   ],
   "source": [
    "print(pki_output[:500])"
   ]
  },
  {
   "cell_type": "code",
   "execution_count": 90,
   "id": "6ab651d0",
   "metadata": {},
   "outputs": [
    {
     "name": "stdout",
     "output_type": "stream",
     "text": [
      "Accuracy of using only CNN for prediction is 0.7150537634408602\n",
      "Accuracy of using CNN followed by PKI for prediction is 0.8003072196620584\n"
     ]
    }
   ],
   "source": [
    "print(\"Accuracy of using only CNN for prediction is {}\".format(accuracy_score(true_labels, pred_labels)))\n",
    "print(\"Accuracy of using CNN followed by PKI for prediction is {}\".format(accuracy_score(true_labels, pki_output)))"
   ]
  },
  {
   "cell_type": "markdown",
   "id": "88d45683",
   "metadata": {},
   "source": [
    "## record results here\n"
   ]
  },
  {
   "cell_type": "markdown",
   "id": "c2f76452",
   "metadata": {},
   "source": [
    "accuracy of using 3 and 0.5: 0.7352454495311638   \n",
    "accuracy of using 5 and 0.5: 0.7380033094318809  \n",
    "accuracy of using 8 and 0.5: 0.7363485934914507  \n",
    "accuracy of using 10 and 0.5: 0.7357970215113072   \n",
    "\n",
    "accuracy of using 5 and 0.6: 0.758411472697187   \n",
    "accuracy of using 5 and 0.7: 0.7716492002206288   \n",
    "accuracy of using 5 and 0.75: 0.7793712079426365   \n",
    "accuracy of using 5 and 0.78: 0.7815774958632101  \n",
    "accuracy of using 5 and 0.8: 0.7848869277440707    \n",
    "accuracy of using 5 and 1: 0.8080529509100938   \n",
    "\n",
    "accuracy of using 4 and 0.95: 0.797573083287369  \n",
    "accuracy of using 5 and 0.95: 0.7931605074462217  \n",
    "\n",
    "accuracy of using 3 and 1: 0.8041919470490899  \n",
    "accuracy of using 4 and 1: 0.809707666850524   \n",
    "accuracy of using 5 and 1: 0.8080529509100938  \n",
    "accuracy of using 6 and 1: 0.8019856591285163 "
   ]
  },
  {
   "cell_type": "markdown",
   "id": "5cd9c11c",
   "metadata": {},
   "source": [
    "**The results show that when disregarding the probability from CNN, and completely depending on prior, it gives the best performance.**"
   ]
  },
  {
   "cell_type": "markdown",
   "id": "73930548",
   "metadata": {},
   "source": [
    "**Problem: no way to detect zero phase based on CNN results**"
   ]
  },
  {
   "cell_type": "markdown",
   "id": "91371fc9",
   "metadata": {},
   "source": [
    "# Get PKI results for all the videos based on fold and division"
   ]
  },
  {
   "cell_type": "code",
   "execution_count": 91,
   "id": "95bbff20",
   "metadata": {},
   "outputs": [
    {
     "name": "stdout",
     "output_type": "stream",
     "text": [
      "The current training video train: ['e8d3eabc-edd1-414f-9d95-277df742655a', '26d9e19b-59ed-4bbb-906a-9953b5d2c825', '5238ac7b-ad85-488f-b013-9ee4e2064e60', '436c714b-b588-4894-b68c-1e0f773e5df1', 'b71b28f1-7f63-4593-bdb2-9e60dd1ac71e', 'a3347182-4364-43f8-8992-2409b1b66d31', 'e6a9f8f7-8024-42d5-aad5-ef726d353f3b', '96c75293-2026-48af-ad99-37281cb9bb3e', '315ac662-9e95-4dec-80f0-48e244f9f8e1', 'a90983a1-2329-4019-96e8-949493c3fc24']\n",
      "The current testing video train: ['e8d7e0c4-b293-43ce-832f-c37fb8fd3b23', 'f63b25f4-8df4-4336-8c02-9456eb3c09b0']\n",
      "Average training accuracy of fold 1 with prior_th = 3 and prob_th = 1 is 0.7669838024889271\n",
      "\n",
      "Average validation accuracy of fold 1 with prior_th = 3 and prob_th = 1 is 0.7906931421217136\n",
      "\n",
      "Video e8d7e0c4-b293-43ce-832f-c37fb8fd3b23 has test accuracy 0.6857142857142857\n",
      "Video f63b25f4-8df4-4336-8c02-9456eb3c09b0 has test accuracy 0.9271565495207668\n",
      "Average test accuracy of fold 1 with prior_th = 3 and prob_th = 1 is 0.8064354176175262\n",
      "\n",
      "The current training video train: ['e8d7e0c4-b293-43ce-832f-c37fb8fd3b23', 'f63b25f4-8df4-4336-8c02-9456eb3c09b0', 'e8d3eabc-edd1-414f-9d95-277df742655a', '26d9e19b-59ed-4bbb-906a-9953b5d2c825', '5238ac7b-ad85-488f-b013-9ee4e2064e60', '436c714b-b588-4894-b68c-1e0f773e5df1', 'b71b28f1-7f63-4593-bdb2-9e60dd1ac71e', 'a3347182-4364-43f8-8992-2409b1b66d31', 'e6a9f8f7-8024-42d5-aad5-ef726d353f3b', '96c75293-2026-48af-ad99-37281cb9bb3e']\n",
      "The current testing video train: ['cf7cf863-929a-4b89-962b-7913869167e4', 'b6701cb1-3a9b-456e-ad73-c6e06eea03ec']\n",
      "Average training accuracy of fold 2 with prior_th = 3 and prob_th = 1 is 0.7791972905082882\n",
      "\n",
      "Average validation accuracy of fold 2 with prior_th = 3 and prob_th = 1 is 0.7453679775207201\n",
      "\n",
      "Video cf7cf863-929a-4b89-962b-7913869167e4 has test accuracy 0.8080529509100938\n",
      "Video b6701cb1-3a9b-456e-ad73-c6e06eea03ec has test accuracy 0.7733333333333333\n",
      "Average test accuracy of fold 2 with prior_th = 3 and prob_th = 1 is 0.7906931421217136\n",
      "\n",
      "The current training video train: ['cf7cf863-929a-4b89-962b-7913869167e4', 'b6701cb1-3a9b-456e-ad73-c6e06eea03ec', 'e8d7e0c4-b293-43ce-832f-c37fb8fd3b23', 'f63b25f4-8df4-4336-8c02-9456eb3c09b0', 'e8d3eabc-edd1-414f-9d95-277df742655a', '26d9e19b-59ed-4bbb-906a-9953b5d2c825', '5238ac7b-ad85-488f-b013-9ee4e2064e60', '436c714b-b588-4894-b68c-1e0f773e5df1', 'b71b28f1-7f63-4593-bdb2-9e60dd1ac71e', 'a3347182-4364-43f8-8992-2409b1b66d31']\n",
      "The current testing video train: ['315ac662-9e95-4dec-80f0-48e244f9f8e1', 'a90983a1-2329-4019-96e8-949493c3fc24']\n",
      "Average training accuracy of fold 3 with prior_th = 3 and prob_th = 1 is 0.7960769106557333\n",
      "\n",
      "Average validation accuracy of fold 3 with prior_th = 3 and prob_th = 1 is 0.7062950413844888\n",
      "\n",
      "Video 315ac662-9e95-4dec-80f0-48e244f9f8e1 has test accuracy 0.7562776957163959\n",
      "Video a90983a1-2329-4019-96e8-949493c3fc24 has test accuracy 0.7344582593250444\n",
      "Average test accuracy of fold 3 with prior_th = 3 and prob_th = 1 is 0.7453679775207201\n",
      "\n",
      "The current training video train: ['315ac662-9e95-4dec-80f0-48e244f9f8e1', 'a90983a1-2329-4019-96e8-949493c3fc24', 'cf7cf863-929a-4b89-962b-7913869167e4', 'b6701cb1-3a9b-456e-ad73-c6e06eea03ec', 'e8d7e0c4-b293-43ce-832f-c37fb8fd3b23', 'f63b25f4-8df4-4336-8c02-9456eb3c09b0', 'e8d3eabc-edd1-414f-9d95-277df742655a', '26d9e19b-59ed-4bbb-906a-9953b5d2c825', '5238ac7b-ad85-488f-b013-9ee4e2064e60', '436c714b-b588-4894-b68c-1e0f773e5df1']\n",
      "The current testing video train: ['e6a9f8f7-8024-42d5-aad5-ef726d353f3b', '96c75293-2026-48af-ad99-37281cb9bb3e']\n",
      "Average training accuracy of fold 4 with prior_th = 3 and prob_th = 1 is 0.7892326215838962\n",
      "\n",
      "Average validation accuracy of fold 4 with prior_th = 3 and prob_th = 1 is 0.7795894228799058\n",
      "\n",
      "Video e6a9f8f7-8024-42d5-aad5-ef726d353f3b has test accuracy 0.625866050808314\n",
      "Video 96c75293-2026-48af-ad99-37281cb9bb3e has test accuracy 0.7867240319606638\n",
      "Average test accuracy of fold 4 with prior_th = 3 and prob_th = 1 is 0.7062950413844888\n",
      "\n",
      "The current training video train: ['e6a9f8f7-8024-42d5-aad5-ef726d353f3b', '96c75293-2026-48af-ad99-37281cb9bb3e', '315ac662-9e95-4dec-80f0-48e244f9f8e1', 'a90983a1-2329-4019-96e8-949493c3fc24', 'cf7cf863-929a-4b89-962b-7913869167e4', 'b6701cb1-3a9b-456e-ad73-c6e06eea03ec', 'e8d7e0c4-b293-43ce-832f-c37fb8fd3b23', 'f63b25f4-8df4-4336-8c02-9456eb3c09b0', 'e8d3eabc-edd1-414f-9d95-277df742655a', '26d9e19b-59ed-4bbb-906a-9953b5d2c825']\n",
      "The current testing video train: ['b71b28f1-7f63-4593-bdb2-9e60dd1ac71e', 'a3347182-4364-43f8-8992-2409b1b66d31']\n",
      "Average training accuracy of fold 5 with prior_th = 3 and prob_th = 1 is 0.772746657172102\n",
      "\n",
      "Average validation accuracy of fold 5 with prior_th = 3 and prob_th = 1 is 0.7887248634434596\n",
      "\n",
      "Video b71b28f1-7f63-4593-bdb2-9e60dd1ac71e has test accuracy 0.9405439595192916\n",
      "Video a3347182-4364-43f8-8992-2409b1b66d31 has test accuracy 0.6186348862405201\n",
      "Average test accuracy of fold 5 with prior_th = 3 and prob_th = 1 is 0.7795894228799058\n",
      "\n",
      "The current training video train: ['b71b28f1-7f63-4593-bdb2-9e60dd1ac71e', 'a3347182-4364-43f8-8992-2409b1b66d31', 'e6a9f8f7-8024-42d5-aad5-ef726d353f3b', '96c75293-2026-48af-ad99-37281cb9bb3e', '315ac662-9e95-4dec-80f0-48e244f9f8e1', 'a90983a1-2329-4019-96e8-949493c3fc24', 'cf7cf863-929a-4b89-962b-7913869167e4', 'b6701cb1-3a9b-456e-ad73-c6e06eea03ec', 'e8d7e0c4-b293-43ce-832f-c37fb8fd3b23', 'f63b25f4-8df4-4336-8c02-9456eb3c09b0']\n",
      "The current testing video train: ['5238ac7b-ad85-488f-b013-9ee4e2064e60', '436c714b-b588-4894-b68c-1e0f773e5df1']\n",
      "Average training accuracy of fold 6 with prior_th = 3 and prob_th = 1 is 0.765676200304871\n",
      "\n",
      "Average validation accuracy of fold 6 with prior_th = 3 and prob_th = 1 is 0.8149417072160607\n",
      "\n",
      "Video 5238ac7b-ad85-488f-b013-9ee4e2064e60 has test accuracy 0.7858136300417247\n",
      "Video 436c714b-b588-4894-b68c-1e0f773e5df1 has test accuracy 0.7916360968451944\n",
      "Average test accuracy of fold 6 with prior_th = 3 and prob_th = 1 is 0.7887248634434596\n",
      "\n",
      "The current training video train: ['5238ac7b-ad85-488f-b013-9ee4e2064e60', '436c714b-b588-4894-b68c-1e0f773e5df1', 'b71b28f1-7f63-4593-bdb2-9e60dd1ac71e', 'a3347182-4364-43f8-8992-2409b1b66d31', 'e6a9f8f7-8024-42d5-aad5-ef726d353f3b', '96c75293-2026-48af-ad99-37281cb9bb3e', '315ac662-9e95-4dec-80f0-48e244f9f8e1', 'a90983a1-2329-4019-96e8-949493c3fc24', 'cf7cf863-929a-4b89-962b-7913869167e4', 'b6701cb1-3a9b-456e-ad73-c6e06eea03ec']\n",
      "The current testing video train: ['e8d3eabc-edd1-414f-9d95-277df742655a', '26d9e19b-59ed-4bbb-906a-9953b5d2c825']\n",
      "Average training accuracy of fold 7 with prior_th = 3 and prob_th = 1 is 0.7621340894700576\n",
      "\n",
      "Average validation accuracy of fold 7 with prior_th = 3 and prob_th = 1 is 0.8064354176175262\n",
      "\n",
      "Video e8d3eabc-edd1-414f-9d95-277df742655a has test accuracy 0.8295761947700632\n",
      "Video 26d9e19b-59ed-4bbb-906a-9953b5d2c825 has test accuracy 0.8003072196620584\n",
      "Average test accuracy of fold 7 with prior_th = 3 and prob_th = 1 is 0.8149417072160607\n",
      "\n"
     ]
    }
   ],
   "source": [
    "# hand tune for each fold. change the parameters here#######\n",
    "prob_th = 1\n",
    "prior_th = 3\n",
    "##############################\n",
    "\n",
    "\n",
    "# ALL PATHS\n",
    "paramPath = \"/home/yitong/venv_yitong/sacro_wf_analysis/params\"\n",
    "path_prefix= '/home/yitong/venv_yitong/sacro_wf_analysis/'\n",
    "whole_path = path_prefix + 'data/sacro_sequence/whole'\n",
    "videos_path = path_prefix + 'data/sacro_jpg'\n",
    "output_path = '/home/jenna/jennaCode/model_outputs'\n",
    "true_label_path = \"/home/jenna/sacro_results/results/\"\n",
    "\n",
    "# folds for cross vaildation devision\n",
    "folders = ['folder1', 'folder2', 'folder3', 'folder4', 'folder5', 'folder6', 'folder7']\n",
    "divs = ['div1', 'div2', 'div3', 'div4', 'div5', 'div6', 'div7']\n",
    "\n",
    "# for results\n",
    "pki_ave_test_accs = []\n",
    "\n",
    "for index in range(7):\n",
    "    folder = folders[index]\n",
    "    div = divs[index]\n",
    "\n",
    "    whole_folder_path = os.path.join(whole_path, folder)\n",
    "    with open(os.path.join(videos_path, 'dataset_' + div + '.json'), 'r') as json_data:\n",
    "        temp = json.load(json_data)\n",
    "    # use all training and validation data for training\n",
    "    video_train = temp['train']\n",
    "    video_validation = temp['validation']\n",
    "    print('The current training video train: {}'.format(video_train))\n",
    "    video_test = temp['test']\n",
    "    print('The current testing video train: {}'.format(video_test))\n",
    "\n",
    "    # apply pki with the video_train to get an average accuracy\n",
    "    # tune parameters with different prior threshold\n",
    "\n",
    "    ave_tr_acc = 0\n",
    "    for video in video_train:\n",
    "        prob_vec = pickle.load(open(output_path + '/' + video + \"/prob_vectors.pickle\", 'rb'))\n",
    "        pred_labels = pickle.load(open(output_path + '/' + video + \"/seq_pred.pickle\", 'rb'))\n",
    "        true_labels = pickle.load(open(true_label_path +  '/' + video + \"/seq_true.pickle\", 'rb'))\n",
    "        pki_output = pki(prob_vec, pred_labels, prior_th, prob_th)\n",
    "        acc = accuracy_score(true_labels, pki_output)\n",
    "        ave_tr_acc += acc\n",
    "\n",
    "#         print(\"Video {} has training accuracy {}\".format(video, acc))\n",
    "    #     print(\"True labels: {}\".format(true_labels[:20]))\n",
    "    #     print(\"Pred labels: {}\".format(pred_labels[:20]))\n",
    "    #     print(\"PKI outputs: {}\".format(pki_output[:20]))\n",
    "\n",
    "    ave_tr_acc /= len(video_train)\n",
    "    print(\"Average training accuracy of fold {} with prior_th = {} and prob_th = {} is {}\".format(index+1, prior_th, prob_th, ave_tr_acc))\n",
    "    print()\n",
    "\n",
    "    \n",
    "    \n",
    "    # validation\n",
    "    ave_val_acc = 0\n",
    "    for video in video_validation:\n",
    "        prob_vec = pickle.load(open(output_path + '/' + video + \"/prob_vectors.pickle\", 'rb'))\n",
    "        pred_labels = pickle.load(open(output_path + '/' + video + \"/seq_pred.pickle\", 'rb'))\n",
    "        true_labels = pickle.load(open(true_label_path +  '/' + video + \"/seq_true.pickle\", 'rb'))\n",
    "        pki_output = pki(prob_vec, pred_labels, prior_th, prob_th)\n",
    "    #         print(\"Prediction accuracy by CNN: {} \".format(accuracy_score(true_labels, pred_labels)))\n",
    "        acc = accuracy_score(true_labels, pki_output)\n",
    "    #         precision = precision_score(true_labels, pki_output, labels=[0,1,2,3,4,5], average='macro')\n",
    "        ave_val_acc += acc\n",
    "\n",
    "    #         print(\"Video {} with prior_th = {} has validation accuracy {} and precision {}\".format(video, prior_th, acc, precision))\n",
    "    #         print(\"True labels: {}\".format(true_labels[:100]))\n",
    "    #         print(\"Pred labels: {}\".format(pred_labels[:100]))\n",
    "    #         print(\"PKI outputs: {}\".format(pki_output[:100]))\n",
    "\n",
    "    ave_val_acc /= len(video_validation)\n",
    "    print(\"Average validation accuracy of fold {} with prior_th = {} and prob_th = {} is {}\".format(index+1, prior_th, prob_th, ave_val_acc))\n",
    "    print()\n",
    "    \n",
    "    # test\n",
    "    ave_test_acc = 0\n",
    "    for video in video_test:\n",
    "        prob_vec = pickle.load(open(output_path + '/' + video + \"/prob_vectors.pickle\", 'rb'))\n",
    "        pred_labels = pickle.load(open(output_path + '/' + video + \"/seq_pred.pickle\", 'rb'))\n",
    "        true_labels = pickle.load(open(true_label_path +  '/' + video + \"/seq_true.pickle\", 'rb'))\n",
    "        pki_output = pki(prob_vec, pred_labels, prior_th, prob_th)\n",
    "#         print(\"Prediction accuracy by CNN: {} \".format(accuracy_score(true_labels, pred_labels)))\n",
    "        acc = accuracy_score(true_labels, pki_output)\n",
    "        ave_test_acc += acc\n",
    "\n",
    "        print(\"Video {} has test accuracy {}\".format(video, acc))\n",
    "        \n",
    "    ave_test_acc /= len(video_test)\n",
    "    pki_ave_test_accs.append(ave_test_acc)\n",
    "    print(\"Average test accuracy of fold {} with prior_th = {} and prob_th = {} is {}\".format(index+1, prior_th, prob_th, ave_test_acc))\n",
    "    print()\n",
    "    "
   ]
  },
  {
   "cell_type": "code",
   "execution_count": 92,
   "id": "ba49aad8",
   "metadata": {},
   "outputs": [
    {
     "name": "stdout",
     "output_type": "stream",
     "text": [
      "7\n"
     ]
    }
   ],
   "source": [
    "# pki_ave_test_accs holds the 7 average test results\n",
    "print(len(pki_ave_test_accs))"
   ]
  },
  {
   "cell_type": "code",
   "execution_count": 93,
   "id": "13aa1fba",
   "metadata": {},
   "outputs": [
    {
     "data": {
      "text/plain": [
       "0.776006796026268"
      ]
     },
     "execution_count": 93,
     "metadata": {},
     "output_type": "execute_result"
    }
   ],
   "source": [
    "pki_ave_test = sum(pki_ave_test_accs)/len(pki_ave_test_accs)\n",
    "pki_ave_test"
   ]
  },
  {
   "cell_type": "markdown",
   "id": "6b6f4afd",
   "metadata": {},
   "source": [
    "## record results of training PKI on all folds:\n",
    "Average accuracy of fold 1 with prior_th = 4 and prob_th = 1 is 0.7574578705998676  \n",
    "Average accuracy of fold 1 with prior_th = 4 and prob_th = 0.8 is 0.725925655636102  \n",
    "Average accuracy of fold 1 with prior_th = 4 and prob_th = 0.6 is 0.6904438413378784   \n",
    "\n",
    "Average accuracy of fold 1 with prior_th = 3 and prob_th = 1 is 0.7668683290478187   \n",
    "\n",
    "Average accuracy of fold 1 with prior_th = 2 and prob_th = 1 is 0.7498360932292092   \n",
    "\n",
    "=======\n",
    "fold 1: prior_th = 3 and prob_th = 1\n",
    "=======  \n",
    "\n",
    "\n",
    "Average accuracy of fold 2 with prior_th = 2 and prob_th = 1 is 0.7599713052156475  \n",
    "Average accuracy of fold 2 with prior_th = 3 and prob_th = 1 is 0.7790179193036015  \n",
    "Average accuracy of fold 2 with prior_th = 4 and prob_th = 1 is 0.7599173883204134  \n",
    "\n",
    "Average accuracy of fold 2 with prior_th = 2 and prob_th = 0.9 is 0.7420986687927811  \n",
    "Average accuracy of fold 2 with prior_th = 3 and prob_th = 0.9 is 0.7553859703305618  \n",
    "Average accuracy of fold 2 with prior_th = 4 and prob_th = 0.9 is 0.7455247430460634  \n",
    "\n",
    "=======\n",
    "fold 2: prior_th = 3 and prob_th = 1\n",
    "=======  \n",
    "\n",
    "\n",
    "Average accuracy of fold 3 with prior_th = 3 and prob_th = 1 is 0.7959578556941407   \n",
    "Average accuracy of fold 3 with prior_th = 3 and prob_th = 0.9 is 0.7768489720322854  \n",
    "\n",
    "=======\n",
    "fold 3: prior_th = 3 and prob_th = 1\n",
    "=======  \n",
    "\n",
    "\n",
    "Average accuracy of fold 4 with prior_th = 3 and prob_th = 1 is 0.7891135666223035    \n",
    "Average accuracy of fold 4 with prior_th = 4 and prob_th = 1 is 0.7932076436941349   \n",
    "Average accuracy of fold 4 with prior_th = 5 and prob_th = 1 is 0.7804359841164158   \n",
    "\n",
    "Training data with 4 has higher accuracy BUT validation data with 3 has higher accuracy, so I used 3.\n",
    "\n",
    "=======\n",
    "fold 4: prior_th = 3 and prob_th = 1\n",
    "=======  \n",
    "\n",
    "Average accuracy of fold 5 with prior_th = 3 and prob_th = 1 is 0.7725121287694008  \n",
    "Average accuracy of fold 5 with prior_th = 4 and prob_th = 1 is 0.7596752493690193  \n",
    "Average accuracy of fold 5 with prior_th = 5 and prob_th = 1 is 0.7407984014368268  \n",
    "Average accuracy of fold 5 with prior_th = 6 and prob_th = 1 is 0.7426324701757324  \n",
    "\n",
    "Average validation accuracy of fold 5 with prior_th = 3 and prob_th = 1 is 0.7887248634434596  \n",
    "Average validation accuracy of fold 5 with prior_th = 4 and prob_th = 1 is 0.8095614068206332  \n",
    "Average validation accuracy of fold 5 with prior_th = 5 and prob_th = 1 is 0.8286145263709991  \n",
    "Average validation accuracy of fold 5 with prior_th = 6 and prob_th = 1 is 0.8362066414489024  \n",
    "\n",
    "=======\n",
    "fold 5: prior_th = 6 and prob_th = 1\n",
    "=======  \n",
    "\n",
    "=======\n",
    "fold 6: prior_th = 3 and prob_th = 1\n",
    "=======  \n",
    "\n",
    "=======\n",
    "fold 7: prior_th = 3 and prob_th = 1\n",
    "=======  \n",
    "\n",
    "\n",
    "\n",
    "----------\n",
    "\n",
    ">Conclusion: softmax layer output doesn't really make any impact. The results are the best when PKI completely depends on prediction "
   ]
  },
  {
   "cell_type": "markdown",
   "id": "9cea33d1",
   "metadata": {},
   "source": [
    "### report evaluation of trained PKI prior parameters on validation and testing data for all folds\n",
    "fold 1:  \n",
    "Average validation accuracy of fold 1 with prior_th = 3 and prob_th = 1 is 0.7904173561316419   \n",
    "Average test accuracy of fold 1 with prior_th = 3 and prob_th = 1 is 0.8061159287996349   \n",
    "\n",
    "fold 2:  \n",
    "Average validation accuracy of fold 2 with prior_th = 3 and prob_th = 1 is 0.7453679775207201  \n",
    "Average test accuracy of fold 2 with prior_th = 3 and prob_th = 1 is 0.7904173561316419  \n",
    "\n",
    "fold 3:  \n",
    "Average validation accuracy of fold 2 with prior_th = 3 and prob_th = 1 is 0.7057176741789462  \n",
    "Average test accuracy of fold 2 with prior_th = 3 and prob_th = 1 is 0.7453679775207201  \n",
    "\n",
    "fold 4:  \n",
    "Average validation accuracy of fold 4 with prior_th = 3 and prob_th = 1 is 0.7795894228799058  \n",
    "Average test accuracy of fold 4 with prior_th = 3 and prob_th = 1 is 0.7057176741789462\n",
    "\n",
    "fold 5:  \n",
    "Average validation accuracy of fold 5 with prior_th = 6 and prob_th = 1 is 0.8362066414489024  \n",
    "Average test accuracy of fold 5 with prior_th = 6 and prob_th = 1 is 0.7452645616314537  \n",
    "\n",
    "fold 6:  \n",
    "Average validation accuracy of fold 6 with prior_th = 3 and prob_th = 1 is 0.8149417072160607  \n",
    "Average test accuracy of fold 6 with prior_th = 3 and prob_th = 1 is 0.7887248634434596  \n",
    "\n",
    "\n",
    "fold 7:  \n",
    "Average accuracy of fold 7 with prior_th = 3 and prob_th = 1 is 0.7619634588309347  \n",
    "Average test accuracy of fold 7 with prior_th = 3 and prob_th = 1 is 0.8149417072160607   "
   ]
  },
  {
   "cell_type": "code",
   "execution_count": 38,
   "id": "5a027270",
   "metadata": {},
   "outputs": [
    {
     "name": "stdout",
     "output_type": "stream",
     "text": [
      "average testing accuracy of using vanilla PKI on CNN prediction results: 0.7709357241317026\n"
     ]
    }
   ],
   "source": [
    "ave_test = 0.8061159287996349 + 0.7904173561316419 + 0.7453679775207201 + 0.7057176741789462 + 0.7452645616314537  + 0.7887248634434596  + 0.8149417072160607   \n",
    "ave_test /= 7\n",
    "print(\"average testing accuracy of using vanilla PKI on CNN prediction results: {}\".format(ave_test))"
   ]
  },
  {
   "cell_type": "markdown",
   "id": "16975d20",
   "metadata": {},
   "source": [
    "# Get other prior statistics from ground truth"
   ]
  },
  {
   "cell_type": "markdown",
   "id": "d96f6da3",
   "metadata": {},
   "source": [
    "### Other priors that can be considered\n",
    "- number of phases into the current prior (i.e. number of phases into the current phase), which can then be used to change the phase prior accordingly   -> current incremental interval\n",
    "- probability of being in the current phase -> the number of total current phases divided by total number of phases, which can be used to change the weight (which can be used to determine the probability of the current prior phase)\n",
    "- transition probability from state i to j= (the most primitive:) number of transitions from i to j devided by all transitions from i (should be fixed)\n",
    "- Therefore, the overall probability that the transition from State 0 to State 1 will occur during a specific incremental interval of time dt is given by multiplying (1) the probability of being in State 0 at the beginning of that interval (based on percentage?), and (2) the probability of the transition during an interval dt given that it was in State 0 at the beginning of that increment. \n",
    "- There is a transition probability, which is the rate parameter, which changes the probability of staying in the current phase for each time\n",
    "- Based on the exponential modeling, P_0(t) = e^(-lambda \\times t),  P_1(t) = 1 - e^(-lambda \\times t)"
   ]
  },
  {
   "cell_type": "markdown",
   "id": "2f5c710d",
   "metadata": {},
   "source": [
    "## Prior parameters:"
   ]
  },
  {
   "cell_type": "code",
   "execution_count": 39,
   "id": "0e1433c2",
   "metadata": {},
   "outputs": [
    {
     "name": "stdout",
     "output_type": "stream",
     "text": [
      "cf7cf863-929a-4b89-962b-7913869167e4:\n",
      "label list:[1, 0, 2, 0, 3, 0, 4, 0, 3, 0, 5]\n",
      "label freq:[169, 8, 593, 12, 455, 1, 24, 6, 344, 9, 192]\n",
      "a90983a1-2329-4019-96e8-949493c3fc24:\n",
      "label list:[1, 0, 2, 0, 3, 0, 4, 0, 5]\n",
      "label freq:[41, 16, 334, 106, 476, 4, 7, 22, 120]\n",
      "315ac662-9e95-4dec-80f0-48e244f9f8e1:\n",
      "label list:[1, 2, 0, 3, 0, 4, 0, 3, 0, 5]\n",
      "label freq:[84, 231, 23, 544, 24, 26, 39, 192, 7, 184]\n",
      "b71b28f1-7f63-4593-bdb2-9e60dd1ac71e:\n",
      "label list:[1, 0, 2, 0, 3, 0, 4, 0, 3, 0, 5]\n",
      "label freq:[47, 3, 846, 1, 394, 3, 23, 10, 143, 2, 109]\n",
      "96c75293-2026-48af-ad99-37281cb9bb3e:\n",
      "label list:[2, 1, 2, 0, 3, 0, 4, 0, 3, 0, 5]\n",
      "label freq:[146, 101, 254, 17, 550, 1, 73, 14, 190, 15, 266]\n",
      "436c714b-b588-4894-b68c-1e0f773e5df1:\n",
      "label list:[1, 0, 2, 0, 3, 0, 4, 0, 3, 0, 5]\n",
      "label freq:[153, 45, 348, 39, 346, 2, 51, 17, 221, 10, 131]\n",
      "5238ac7b-ad85-488f-b013-9ee4e2064e60:\n",
      "label list:[1, 0, 2, 0, 3, 0, 4, 0, 5]\n",
      "label freq:[54, 1, 728, 28, 379, 14, 21, 62, 151]\n",
      "e8d7e0c4-b293-43ce-832f-c37fb8fd3b23:\n",
      "label list:[1, 0, 2, 0, 3, 0, 4, 0, 3, 0, 5]\n",
      "label freq:[125, 1, 257, 22, 247, 2, 32, 3, 48, 5, 133]\n",
      "e6a9f8f7-8024-42d5-aad5-ef726d353f3b:\n",
      "label list:[1, 2, 0, 3, 4, 0, 5]\n",
      "label freq:[67, 649, 70, 606, 42, 57, 241]\n",
      "26d9e19b-59ed-4bbb-906a-9953b5d2c825:\n",
      "label list:[1, 0, 2, 0, 3, 0, 4, 0, 3, 0, 5]\n",
      "label freq:[69, 1, 334, 43, 428, 2, 6, 5, 193, 14, 207]\n",
      "a3347182-4364-43f8-8992-2409b1b66d31:\n",
      "label list:[2, 0, 1, 0, 2, 0, 3, 0, 4, 0, 3, 0, 5]\n",
      "label freq:[52, 2, 7, 1, 85, 20, 455, 1, 15, 6, 46, 20, 213]\n",
      "f63b25f4-8df4-4336-8c02-9456eb3c09b0:\n",
      "label list:[1, 0, 2, 0, 3, 0, 4, 0, 3, 0, 5]\n",
      "label freq:[202, 4, 450, 23, 434, 8, 23, 3, 301, 10, 107]\n",
      "e8d3eabc-edd1-414f-9d95-277df742655a:\n",
      "label list:[2, 0, 1, 0, 2, 0, 3, 0, 4, 0, 3]\n",
      "label freq:[152, 1, 68, 2, 316, 69, 418, 1, 9, 19, 54]\n",
      "b6701cb1-3a9b-456e-ad73-c6e06eea03ec:\n",
      "label list:[1, 2, 0, 3, 4, 0, 3, 0, 5]\n",
      "label freq:[137, 741, 30, 218, 93, 9, 253, 50, 119]\n"
     ]
    }
   ],
   "source": [
    "for vid in data_dict:\n",
    "    print(\"{}:\".format(vid))\n",
    "    print(\"label list:{}\\nlabel freq:{}\".format(data_dict[vid][\"label list\"], data_dict[vid][\"label freq\"]))"
   ]
  },
  {
   "cell_type": "markdown",
   "id": "84659e1b",
   "metadata": {},
   "source": [
    "## Initialisation Probability"
   ]
  },
  {
   "cell_type": "code",
   "execution_count": 40,
   "id": "6785b7a1",
   "metadata": {},
   "outputs": [],
   "source": [
    "# Initialisation probability\n",
    "def getInitProb(data_dict):\n",
    "    # initialise \n",
    "    init_count = np.array([0]*6)\n",
    "    for vid in data_dict:\n",
    "        init_phase = data_dict[vid]['label list'][0]\n",
    "        init_count[init_phase] += 1\n",
    "    print(\"Count of initial phases: {}\".format(init_count))\n",
    "    total = np.sum(init_count)\n",
    "    print(\"Total:{}\".format(total))\n",
    "    \n",
    "    init_prob = np.array([0.0]*6)\n",
    "    for i in range(len(init_prob)):\n",
    "        init_prob[i] = init_count[i]/total\n",
    "    print(\"Initialisation probability vector: {}\".format(init_prob))\n",
    "    return init_prob"
   ]
  },
  {
   "cell_type": "code",
   "execution_count": 41,
   "id": "80d4cc7d",
   "metadata": {},
   "outputs": [
    {
     "name": "stdout",
     "output_type": "stream",
     "text": [
      "Count of initial phases: [ 0 11  3  0  0  0]\n",
      "Total:14\n",
      "Initialisation probability vector: [0.         0.78571429 0.21428571 0.         0.         0.        ]\n"
     ]
    }
   ],
   "source": [
    "init_prob = getInitProb(data_dict)"
   ]
  },
  {
   "cell_type": "code",
   "execution_count": 42,
   "id": "c683da16",
   "metadata": {},
   "outputs": [
    {
     "name": "stdout",
     "output_type": "stream",
     "text": [
      "[0.21428571 0.78571429]\n"
     ]
    }
   ],
   "source": [
    "# rearrange the probability based on size and store the phase accordingly for use later\n",
    "init_prob_sorted = np.sort(init_prob)\n",
    "non_zero_init_prob_sorted = []\n",
    "# disregard all the zeros\n",
    "for prob in init_prob_sorted:\n",
    "    if prob != 0:\n",
    "        non_zero_init_prob_sorted.append(prob)\n",
    "non_zero_init_prob_sorted = np.array(non_zero_init_prob_sorted)\n",
    "print(non_zero_init_prob_sorted)"
   ]
  },
  {
   "cell_type": "code",
   "execution_count": 43,
   "id": "db5a18d4",
   "metadata": {},
   "outputs": [
    {
     "name": "stdout",
     "output_type": "stream",
     "text": [
      "Corresponding phases with order sorted in initialisation probability:\n",
      "[2, 1]\n"
     ]
    }
   ],
   "source": [
    "# loop through unsorted init prob vector and find the corresponding phases\n",
    "non_zero_init_prob_phase_num = len(non_zero_init_prob_sorted)\n",
    "init_phases_sorted = [0]*non_zero_init_prob_phase_num\n",
    "for phase, prob in enumerate(init_prob):\n",
    "    if prob == 0:\n",
    "        continue\n",
    "    # check the phase of the corresponding non-zero init prob\n",
    "    for index in range(non_zero_init_prob_phase_num):\n",
    "        if non_zero_init_prob_sorted[index] == prob:\n",
    "            init_phases_sorted[index] = phase\n",
    "            \n",
    "            \n",
    "print(\"Corresponding phases with order sorted in initialisation probability:\")\n",
    "print(init_phases_sorted)"
   ]
  },
  {
   "cell_type": "markdown",
   "id": "cab029a4",
   "metadata": {},
   "source": [
    "## Mean and Standard Devidation of the percentage length of each phase "
   ]
  },
  {
   "cell_type": "code",
   "execution_count": 44,
   "id": "05698db6",
   "metadata": {},
   "outputs": [],
   "source": [
    "# Get phase duration percentage for each video\n",
    "def getPhasePercByVid(data_dict):\n",
    "    # dictionary to store all percentage vectors\n",
    "    phase_perc_mat = np.array([[0,0,0,0,0,0]])\n",
    "    for vid in data_dict:\n",
    "        # init a counter for every video\n",
    "        phase_count = np.array([0]*6)\n",
    "        # get total frame in the end\n",
    "        total = 0\n",
    "        \n",
    "        for index, freq in enumerate(data_dict[vid]['label freq']):\n",
    "            # get the corresponding label and add the counts to the label\n",
    "            phase_count[data_dict[vid]['label list'][index]] += freq\n",
    "            total += freq\n",
    "        \n",
    "        # get the percentage for each phase\n",
    "        phase_perc = np.array([0.0]*6)\n",
    "        for i in range(6):\n",
    "            phase_perc[i] = phase_count[i]/total\n",
    "            \n",
    "        # add the vector to the dictionary\n",
    "        phase_perc_mat = np.append(phase_perc_mat, np.array([phase_perc]), axis=0)\n",
    "    \n",
    "    # remove the first array that gives the shape of the numpy array\n",
    "    return np.delete(phase_perc_mat, 0, axis=0)"
   ]
  },
  {
   "cell_type": "code",
   "execution_count": 45,
   "id": "11137a68",
   "metadata": {},
   "outputs": [
    {
     "name": "stdout",
     "output_type": "stream",
     "text": [
      "Phase percentage matrix by video:\n",
      "[[0.01985659 0.09321566 0.32708218 0.44070601 0.01323773 0.10590182]\n",
      " [0.13143872 0.03641208 0.29662522 0.42273535 0.0062167  0.10657194]\n",
      " [0.06868538 0.0620384  0.17060561 0.54357459 0.01920236 0.13589365]\n",
      " [0.01201771 0.02972802 0.53510436 0.33965844 0.01454775 0.06894371]\n",
      " [0.02888752 0.06207744 0.24585126 0.45482483 0.04486785 0.16349109]\n",
      " [0.08290536 0.11225238 0.25531915 0.41599413 0.03741746 0.09611152]\n",
      " [0.07301808 0.03755216 0.50625869 0.2635605  0.01460362 0.10500695]\n",
      " [0.03771429 0.14285714 0.29371429 0.33714286 0.03657143 0.152     ]\n",
      " [0.07332564 0.0386836  0.37471132 0.34988453 0.02424942 0.1391455 ]\n",
      " [0.0499232  0.05299539 0.25652842 0.47695853 0.00460829 0.15898618]\n",
      " [0.05417118 0.00758397 0.14842904 0.54279523 0.01625135 0.23076923]\n",
      " [0.03067093 0.12907348 0.28753994 0.46964856 0.01469649 0.06837061]\n",
      " [0.08295762 0.0613165  0.4220018  0.42560866 0.00811542 0.        ]\n",
      " [0.05393939 0.0830303  0.44909091 0.28545455 0.05636364 0.07212121]]\n",
      "Shape of matrix:(14, 6)\n",
      "Total number of videos:14\n"
     ]
    }
   ],
   "source": [
    "phase_perc_mat_by_vid = getPhasePercByVid(data_dict)\n",
    "print(\"Phase percentage matrix by video:\")\n",
    "print(phase_perc_mat_by_vid)\n",
    "print(\"Shape of matrix:{}\".format(phase_perc_mat_by_vid.shape))\n",
    "print(\"Total number of videos:{}\".format(len(phase_perc_mat_by_vid)))"
   ]
  },
  {
   "cell_type": "code",
   "execution_count": 46,
   "id": "b168284b",
   "metadata": {},
   "outputs": [],
   "source": [
    "# Get phase duration percentage for each phase across all videos\n",
    "# Output is a dictionary indexed by each phase. The value is the length of the key phase across all videos\n",
    "def getPhasePercByPhase(phase_perc_mat_by_vid):\n",
    "    return phase_perc_mat_by_vid.T\n",
    "    "
   ]
  },
  {
   "cell_type": "code",
   "execution_count": 47,
   "id": "16fdc7d6",
   "metadata": {},
   "outputs": [
    {
     "name": "stdout",
     "output_type": "stream",
     "text": [
      "[[0.01985659 0.13143872 0.06868538 0.01201771 0.02888752 0.08290536\n",
      "  0.07301808 0.03771429 0.07332564 0.0499232  0.05417118 0.03067093\n",
      "  0.08295762 0.05393939]\n",
      " [0.09321566 0.03641208 0.0620384  0.02972802 0.06207744 0.11225238\n",
      "  0.03755216 0.14285714 0.0386836  0.05299539 0.00758397 0.12907348\n",
      "  0.0613165  0.0830303 ]\n",
      " [0.32708218 0.29662522 0.17060561 0.53510436 0.24585126 0.25531915\n",
      "  0.50625869 0.29371429 0.37471132 0.25652842 0.14842904 0.28753994\n",
      "  0.4220018  0.44909091]\n",
      " [0.44070601 0.42273535 0.54357459 0.33965844 0.45482483 0.41599413\n",
      "  0.2635605  0.33714286 0.34988453 0.47695853 0.54279523 0.46964856\n",
      "  0.42560866 0.28545455]\n",
      " [0.01323773 0.0062167  0.01920236 0.01454775 0.04486785 0.03741746\n",
      "  0.01460362 0.03657143 0.02424942 0.00460829 0.01625135 0.01469649\n",
      "  0.00811542 0.05636364]\n",
      " [0.10590182 0.10657194 0.13589365 0.06894371 0.16349109 0.09611152\n",
      "  0.10500695 0.152      0.1391455  0.15898618 0.23076923 0.06837061\n",
      "  0.         0.07212121]]\n"
     ]
    }
   ],
   "source": [
    "phase_perc_mat_by_phase = getPhasePercByPhase(phase_perc_mat_by_vid)\n",
    "print(phase_perc_mat_by_phase)"
   ]
  },
  {
   "cell_type": "code",
   "execution_count": 48,
   "id": "cc307ed3",
   "metadata": {},
   "outputs": [],
   "source": [
    "# Get mean and std from each phase's length distribution\n",
    "def getMeanAndStd(phase_perc_mat_by_phase):\n",
    "    norm_params_dict = {}\n",
    "    for phase, lengths in enumerate(phase_perc_mat_by_phase):\n",
    "        mu, std = norm.fit(lengths)\n",
    "        norm_params_dict[phase] = (mu, std)\n",
    "    return norm_params_dict"
   ]
  },
  {
   "cell_type": "code",
   "execution_count": 49,
   "id": "2a55516c",
   "metadata": {},
   "outputs": [
    {
     "name": "stdout",
     "output_type": "stream",
     "text": [
      "Duration percentage of phase 0 has mean and std : (0.05710797112220632, 0.030321443261777936)\n",
      "Duration percentage of phase 1 has mean and std : (0.06777261004314016, 0.03816546406393554)\n",
      "Duration percentage of phase 2 has mean and std : (0.3263472992450161, 0.11284218205253618)\n",
      "Duration percentage of phase 3 has mean and std : (0.4120390546260583, 0.08352923836196571)\n",
      "Duration percentage of phase 4 has mean and std : (0.022210679714868137, 0.015080408295242551)\n",
      "Duration percentage of phase 5 has mean and std : (0.11452238524871104, 0.053481343652044204)\n"
     ]
    }
   ],
   "source": [
    "norm_params_dict = getMeanAndStd(phase_perc_mat_by_phase)\n",
    "for k, v in norm_params_dict.items():\n",
    "    print(\"Duration percentage of phase {} has mean and std : {}\". format(k, v))"
   ]
  },
  {
   "cell_type": "code",
   "execution_count": 50,
   "id": "ea9f6369",
   "metadata": {},
   "outputs": [
    {
     "data": {
      "text/plain": [
       "1.0"
      ]
     },
     "execution_count": 50,
     "metadata": {},
     "output_type": "execute_result"
    }
   ],
   "source": [
    "# check the summation of mean percentage\n",
    "0.05710797112220632 + 0.06777261004314016 + 0.3263472992450161 + 0.4120390546260583 + 0.022210679714868137 + 0.11452238524871104"
   ]
  },
  {
   "cell_type": "markdown",
   "id": "f3c33337",
   "metadata": {},
   "source": [
    "## Transition Probability"
   ]
  },
  {
   "cell_type": "code",
   "execution_count": 51,
   "id": "e09655d8",
   "metadata": {},
   "outputs": [],
   "source": [
    "def getTransProbMatWithZero(data_dict):\n",
    "    # count transitions from phase i to all phases and devided by total transitions made from phase i\n",
    "    trans_mat = np.array([[0.0]*6]*6)\n",
    "    for vid in data_dict:\n",
    "        label_list = data_dict[vid][\"label list\"]\n",
    "        label_freq = data_dict[vid][\"label freq\"]\n",
    "        total_trans_label_list = len(label_list)\n",
    "        for index, phase in enumerate(label_list):\n",
    "            # add freq-1 for each phase to the same phase transition\n",
    "            # at the end of current label, add 1 to the transition \n",
    "            trans_mat[phase][phase] += label_freq[index] - 1\n",
    "            if (index < total_trans_label_list - 1):\n",
    "                trans_mat[phase][label_list[index+1]] += 1\n",
    "#         print(\"Counting of transitions for {} looks like...\".format(vid))\n",
    "#         print(trans_mat)\n",
    "    # calculate the probability of transition for each row\n",
    "    for i in range(len(trans_mat)):\n",
    "        total = np.sum(trans_mat[i])\n",
    "        trans_mat[i] = trans_mat[i]/total\n",
    "        \n",
    "    print(\"Final transition probability matrix with phase zero looks like...\")\n",
    "    print(trans_mat)\n",
    "    return trans_mat\n",
    "    "
   ]
  },
  {
   "cell_type": "code",
   "execution_count": 52,
   "id": "200b862b",
   "metadata": {},
   "outputs": [
    {
     "name": "stdout",
     "output_type": "stream",
     "text": [
      "Final transition probability matrix with phase zero looks like...\n",
      "[[0.941784 0.001878 0.00939  0.023474 0.011268 0.012207]\n",
      " [0.007553 0.989426 0.003021 0.       0.       0.      ]\n",
      " [0.002455 0.000153 0.997391 0.       0.       0.      ]\n",
      " [0.002773 0.       0.       0.996975 0.000252 0.      ]\n",
      " [0.031461 0.       0.       0.       0.968539 0.      ]\n",
      " [0.       0.       0.       0.       0.       1.      ]]\n"
     ]
    }
   ],
   "source": [
    "np.set_printoptions(suppress=True, precision=6)\n",
    "trans_mat = getTransProbMatWithZero(data_dict)"
   ]
  },
  {
   "cell_type": "code",
   "execution_count": 53,
   "id": "b630ca39",
   "metadata": {},
   "outputs": [],
   "source": [
    "def getTransProbMatWithoutZero(data_dict):\n",
    "    # The transition matrix here excludes phase zero\n",
    "    # count transitions from phase i to all phases and devided by total transitions made from phase i\n",
    "    trans_mat = np.array([[0.0]*5]*5)\n",
    "    for vid in data_dict:\n",
    "        label_list = data_dict[vid][\"label list\"]\n",
    "        label_freq = data_dict[vid][\"label freq\"]\n",
    "        total_trans_label_list = len(label_list)\n",
    "        prev_phase = 0\n",
    "        for index, phase in enumerate(label_list):\n",
    "            # add freq-1 for each phase to the same phase transition\n",
    "            # at the end of current label, add 1 to the transition \n",
    "            if phase == 0:\n",
    "                continue\n",
    "            if prev_phase != 0:\n",
    "                trans_mat[prev_phase-1][phase-1] += 1\n",
    "            trans_mat[phase-1][phase-1] += label_freq[index] - 1\n",
    "            prev_phase = phase\n",
    "#         print(\"Counting of transitions for {} looks like...\".format(vid))\n",
    "#         print(trans_mat)\n",
    "    # calculate the probability of transition for each row\n",
    "    for i in range(len(trans_mat)):\n",
    "        total = np.sum(trans_mat[i])\n",
    "        trans_mat[i] = trans_mat[i]/total\n",
    "        \n",
    "    print(\"Final transition probability matrix without phase zero looks like...\")\n",
    "    print(trans_mat)\n",
    "    return trans_mat"
   ]
  },
  {
   "cell_type": "code",
   "execution_count": 54,
   "id": "c7be5ff8",
   "metadata": {},
   "outputs": [
    {
     "name": "stdout",
     "output_type": "stream",
     "text": [
      "Final transition probability matrix without phase zero looks like...\n",
      "[[0.989426 0.010574 0.       0.       0.      ]\n",
      " [0.00046  0.997391 0.002149 0.       0.      ]\n",
      " [0.       0.       0.996975 0.001765 0.00126 ]\n",
      " [0.       0.       0.024719 0.968539 0.006742]\n",
      " [0.       0.       0.       0.       1.      ]]\n"
     ]
    }
   ],
   "source": [
    "np.set_printoptions(suppress=True, precision=6)\n",
    "trans_mat_wo_zero = getTransProbMatWithoutZero(data_dict)"
   ]
  },
  {
   "cell_type": "markdown",
   "id": "92856e96",
   "metadata": {},
   "source": [
    "## Segment Transition Statistics\n",
    "#### Segment is defined to be the collection of frames where the ground truth labels are the same \n",
    "#### Segment transition probability can be used together with frame transition matrix to fit in models like \n",
    "1. Hierarchical Hiddem Markov Model    \n",
    "2. M/sM-Conditional Random Field   "
   ]
  },
  {
   "cell_type": "code",
   "execution_count": 55,
   "id": "b48bf817",
   "metadata": {},
   "outputs": [],
   "source": [
    "# Function to compute segment transition probability with zero\n",
    "def getSegmentTransMatrixWithZero(data_dict):\n",
    "    trans_mat = np.array([[0.0]*6]*6)\n",
    "    for vid in data_dict:\n",
    "        label_list = data_dict[vid][\"label list\"]\n",
    "        prev_label = -1\n",
    "        for label in label_list:\n",
    "            # current label is the first label: skip current round\n",
    "            if prev_label == -1:\n",
    "                prev_label = label\n",
    "                continue\n",
    "            # there is previous_label: compute the stats\n",
    "            trans_mat[prev_label][label] += 1\n",
    "            prev_label = label\n",
    "    \n",
    "    # calculate the probability of transition for each row\n",
    "    for i in range(len(trans_mat)):\n",
    "        total = np.sum(trans_mat[i])\n",
    "        # if no transition to other phases, skip to avoid division error\n",
    "        if total == 0: \n",
    "            continue\n",
    "        trans_mat[i] = trans_mat[i]/total\n",
    "    return trans_mat"
   ]
  },
  {
   "cell_type": "code",
   "execution_count": 56,
   "id": "bc240af1",
   "metadata": {},
   "outputs": [
    {
     "name": "stdout",
     "output_type": "stream",
     "text": [
      "Segment transition statistics with phase zero look like...\n",
      "[[0.       0.032258 0.16129  0.403226 0.193548 0.209677]\n",
      " [0.714286 0.       0.285714 0.       0.       0.      ]\n",
      " [0.941176 0.058824 0.       0.       0.       0.      ]\n",
      " [0.916667 0.       0.       0.       0.083333 0.      ]\n",
      " [1.       0.       0.       0.       0.       0.      ]\n",
      " [0.       0.       0.       0.       0.       0.      ]]\n"
     ]
    }
   ],
   "source": [
    "np.set_printoptions(suppress=True, precision=6)\n",
    "seg_trans_mat_w_zero = getSegmentTransMatrixWithZero(data_dict)\n",
    "print(\"Segment transition statistics with phase zero look like...\")\n",
    "print(seg_trans_mat_w_zero)"
   ]
  },
  {
   "cell_type": "code",
   "execution_count": 57,
   "id": "32d3ea9b",
   "metadata": {},
   "outputs": [],
   "source": [
    "# Function to compute segment transition probability without zero\n",
    "def getSegmentTransMatrixWithoutZero(data_dict):\n",
    "    trans_mat = np.array([[0.0]*5]*5)\n",
    "    for vid in data_dict:\n",
    "        label_list = data_dict[vid][\"label list\"]\n",
    "        prev_label = -1\n",
    "        for label in label_list:\n",
    "            # skip phase zero\n",
    "            if label == 0:\n",
    "                continue\n",
    "            # when there is previous_label: compute the stats\n",
    "            if prev_label != -1:\n",
    "                trans_mat[prev_label-1][label-1] += 1\n",
    "            prev_label = label\n",
    "    \n",
    "    # print counts to check for correctness\n",
    "    print(\"Counts of segments:\")\n",
    "    print(trans_mat)\n",
    "    # calculate the probability of transition for each row\n",
    "    for i in range(len(trans_mat)):\n",
    "        total = np.sum(trans_mat[i])\n",
    "        # if no transition to other phases, skip to avoid division error\n",
    "        if total == 0: \n",
    "            continue\n",
    "        trans_mat[i] = trans_mat[i]/total\n",
    "    return trans_mat\n"
   ]
  },
  {
   "cell_type": "code",
   "execution_count": 58,
   "id": "74abeccc",
   "metadata": {},
   "outputs": [
    {
     "name": "stdout",
     "output_type": "stream",
     "text": [
      "Counts of segments:\n",
      "[[ 0. 14.  0.  0.  0.]\n",
      " [ 3.  0. 14.  0.  0.]\n",
      " [ 0.  0.  0. 14. 10.]\n",
      " [ 0.  0. 11.  0.  3.]\n",
      " [ 0.  0.  0.  0.  0.]]\n",
      "Segment transition statistics without phase zero look like...\n",
      "[[0.       1.       0.       0.       0.      ]\n",
      " [0.176471 0.       0.823529 0.       0.      ]\n",
      " [0.       0.       0.       0.583333 0.416667]\n",
      " [0.       0.       0.785714 0.       0.214286]\n",
      " [0.       0.       0.       0.       0.      ]]\n"
     ]
    }
   ],
   "source": [
    "np.set_printoptions(suppress=True, precision=6)\n",
    "seg_trans_mat_wo_zero = getSegmentTransMatrixWithoutZero(data_dict)\n",
    "print(\"Segment transition statistics without phase zero look like...\")\n",
    "print(seg_trans_mat_wo_zero)"
   ]
  },
  {
   "cell_type": "markdown",
   "id": "f11de558",
   "metadata": {},
   "source": [
    "## Transition Probability incorporated with length of staying in current phase\n",
    "Can be used to compare with only using fixed transitional probability matrix to fit into other models"
   ]
  },
  {
   "cell_type": "code",
   "execution_count": 59,
   "id": "c5100720",
   "metadata": {},
   "outputs": [],
   "source": [
    "# Function that incorporate time and transition matrix trained from ground truths to calculate the probability of transition at real time on prediction\n",
    "# Prior knowledge: transitional prob matrix and mean and std of each phase length percentage\n",
    "# Given input: length of stay in the current phrase \n",
    "# Posterior knowledge (returned value): updated transitional matrix\n",
    "def getUpdatedMatrixWithPhaseLen(trans_prob_mat, norm_params_dict, cur_phase, prior_phase, prior_phase_fcount, total_frame):\n",
    "    is_with_zero = len(trans_prob_mat) == 6\n",
    "    loc, scale = norm_params_dict[prior_phase] # should take the parameters of the prior phase, which should be previous phase after updating\n",
    "    # cur_phase_frame_count = cur_frame_num - prev_prior_ending_frame_num\n",
    "    l = prior_phase_fcount/total_frame \n",
    "    cdf_l = norm.cdf(l, loc=loc, scale=scale)\n",
    "    final_trans_prob = 0.0\n",
    "    if (cur_phase == prior_phase):\n",
    "        final_trans_prob = 1 - cdf_l\n",
    "    else:        \n",
    "        if is_with_zero:\n",
    "            final_trans_prob = trans_prob_mat[prior_phase][cur_phase] * cdf_l\n",
    "        else:\n",
    "            final_trans_prob =  trans_prob_mat[prior_phase-1][cur_phase-1] * cdf_l\n",
    "    \n",
    "#     if prior_phase_fcount%10 == 0:\n",
    "#         print(\"The frame count of current prior phase is {}\".format(prior_phase_fcount))\n",
    "#         print(\"cdf_l of current prior phase {} at {} of whole video is {}\".format(prior_phase, l, cdf_l))\n",
    "#         print(\"For the given prediction {}, the transition prob is {}\".format(cur_phase, final_trans_prob))\n",
    "\n",
    "    return final_trans_prob\n"
   ]
  },
  {
   "cell_type": "markdown",
   "id": "86d2052f",
   "metadata": {},
   "source": [
    "# Times  (apart from mean and standard deviation of the percentage of duration of each phase)\n",
    "- I don't think I should count the absolute number of frames for each phase in each video as the duration of each surgery is varies quite a lot?\n",
    "1. At what portion of the surgery does the phase transition happen? (mean + std)\n",
    "2. Length of the current phase (= total length so far - time when last phase transition occur, need to model dynamically)"
   ]
  },
  {
   "cell_type": "markdown",
   "id": "fb09a32d",
   "metadata": {},
   "source": [
    "# Fit priors into models\n",
    "1. Simple Markov Chain with transitional probability matrix updated with time (inspired by the MDP paper)\n",
    "2. Markov Renewal Process, which models the states and the jump time tuples\n",
    "3. Continuous Time Markov Chain, which models with continuous time with Markov property\n",
    "4. Conditional Random Field?"
   ]
  },
  {
   "cell_type": "markdown",
   "id": "ef6d2698",
   "metadata": {},
   "source": [
    "### How to fit the priors into PKI:\n",
    "#### PKI = (init_phase, prior_th, prob_th)\n",
    "1. Initialisation based on initialisation probability\n",
    "2. Piror update -> number of phase to update prior: train using prediction labels st ill\n",
    "3. Probability th -> when the prediction differs from prior, use pr(i|j, l) on prediction labels to check. If pr(i|j, l) > threshold, keep the predicted, else change to prior\n",
    "> Q: no use of segment transition here?"
   ]
  },
  {
   "cell_type": "code",
   "execution_count": 60,
   "id": "bf3c65da",
   "metadata": {},
   "outputs": [],
   "source": [
    "# function to get the sorted trans_prob vector for each phase without the self-identical and the corresponding phases\n",
    " ############## sort the probability and disregard all zeros ##########\n",
    "def getSortedProbsAndPhases(trans_prob_mat):    \n",
    "    prob_sorted_mat = []\n",
    "    phase_sorted_mat = []\n",
    "    is_with_zero = len(trans_prob_mat) == 6     \n",
    "    \n",
    "    for index, prob_vec in enumerate(trans_prob_mat):\n",
    "        phase = index if is_with_zero else index+1\n",
    "        ############ get sorted probs ###############################\n",
    "        prob_sorted = np.sort(prob_vec)\n",
    "        non_zero_prob_sorted = []\n",
    "        for prob in prob_sorted:\n",
    "            if prob != 0 and prob < 0.5: # exclude the self-identical phase\n",
    "                non_zero_prob_sorted.append(prob)\n",
    "        non_zero_prob_sorted = np.array(non_zero_prob_sorted)\n",
    "#         print(\"Sorted non-zero transition probability for phase {}:\".format(phase))\n",
    "#         print(non_zero_prob_sorted)\n",
    "\n",
    "        ############ get corresponding phases ###############################\n",
    "        phase_num = len(non_zero_prob_sorted)\n",
    "        phases_sorted = [0]*phase_num\n",
    "        for i, prob in enumerate(prob_vec):\n",
    "            if prob == 0:\n",
    "                continue\n",
    "            # check the phase of the corresponding non-zero init prob\n",
    "            for j in range(phase_num):\n",
    "                if non_zero_prob_sorted[j] == prob:\n",
    "                    phases_sorted[j] = i if is_with_zero else i + 1\n",
    "                    \n",
    "        ########### rescale the prob ####################\n",
    "        non_zero_prob_sorted /= np.sum(non_zero_prob_sorted)\n",
    "#         print(\"Transition probability for phase {} to non-self-identical phases {} after rescaling is {}:\".format(phase, phases_sorted, non_zero_prob_sorted))\n",
    "        \n",
    "        ######## add the rescaled sorted prob vector and corresponding phases to buffer ########\n",
    "        prob_sorted_mat.append(non_zero_prob_sorted)\n",
    "        phase_sorted_mat.append(phases_sorted)\n",
    "            \n",
    "    return (np.array(prob_sorted_mat, dtype=object), phase_sorted_mat)"
   ]
  },
  {
   "cell_type": "code",
   "execution_count": 61,
   "id": "07d73cbb",
   "metadata": {},
   "outputs": [
    {
     "name": "stdout",
     "output_type": "stream",
     "text": [
      "\n",
      "Final sorted probability matrix and its corresponding phases:\n",
      "[array([1.]) array([0.176471, 0.823529]) array([0.416667, 0.583333])\n",
      " array([0.214286, 0.785714]) array([], dtype=float64)]\n",
      "[[2], [1, 3], [5, 4], [5, 3], []]\n"
     ]
    }
   ],
   "source": [
    "### test with matrix without zero\n",
    "prob_sorted_mat, phase_sorted_mat = getSortedProbsAndPhases(trans_mat_wo_zero)\n",
    "print()\n",
    "print(\"Final sorted probability matrix and its corresponding phases:\")\n",
    "print(prob_sorted_mat)\n",
    "print(phase_sorted_mat)"
   ]
  },
  {
   "cell_type": "code",
   "execution_count": 62,
   "id": "96234e41",
   "metadata": {},
   "outputs": [],
   "source": [
    "# function to get a non-self phase to transit to based on probability matrix\n",
    "def getNextPhase(prob_sorted_mat, phase_sorted_mat, cur_phase, is_verbose=False):\n",
    "    # phase 5 has no other states to transit to\n",
    "    if cur_phase == 5:\n",
    "        return 5\n",
    "    is_with_zero = len(prob_sorted_mat) == 6\n",
    "    index = cur_phase if is_with_zero else cur_phase -1\n",
    "    prob_sorted = prob_sorted_mat[index]\n",
    "    phase_sorted = phase_sorted_mat[index]\n",
    "    \n",
    "    if is_verbose:\n",
    "        print(\"Rescaled probability vector:{}\".format(prob_sorted))\n",
    "        print(\"Corresponding phases with order sorted in transition probability: {}\".format(phase_sorted))\n",
    "    \n",
    "    ########## get next transition phase with max prob #####################\n",
    "    # since phases are in the ordering of sorted probability with ascending order, \n",
    "    # the last phase is the one with highest probability\n",
    "    next_phase = phase_sorted[-1]\n",
    "        \n",
    "    if is_verbose:\n",
    "        print(\"Based on probability, transition from {} to non-self phase {} happens!\".format(cur_phase, next_phase))\n",
    "        print()\n",
    "    return next_phase"
   ]
  },
  {
   "cell_type": "code",
   "execution_count": 63,
   "id": "506331d0",
   "metadata": {},
   "outputs": [],
   "source": [
    "# function to determine initialisation phase based on probability matrix\n",
    "def getInitPhase(trans_prob_mat, non_zero_init_prob_sorted, init_phases_sorted):\n",
    "    # same as getting next phase\n",
    "    init_phase = init_phases_sorted[-1]\n",
    "        \n",
    "#     print(\"Initialising phase...\")\n",
    "#     print(init_phase)\n",
    "    \n",
    "    return init_phase\n"
   ]
  },
  {
   "cell_type": "code",
   "execution_count": 144,
   "id": "cfa75c83",
   "metadata": {},
   "outputs": [
    {
     "data": {
      "text/plain": [
       "0.0"
      ]
     },
     "execution_count": 144,
     "metadata": {},
     "output_type": "execute_result"
    }
   ],
   "source": [
    "prob = getUpdatedMatrixWithPhaseLen(trans_mat_wo_zero, norm_params_dict, 5, 2, 20, 1305)\n",
    "prob"
   ]
  },
  {
   "cell_type": "code",
   "execution_count": 149,
   "id": "0b9bb452",
   "metadata": {},
   "outputs": [],
   "source": [
    "'''\n",
    "Prior Knowledge Inference:\n",
    "Use prior knowledge of the phases to determine the current phase\n",
    "Initialisation: based on initialisation probability\n",
    "Piror_phase_th: still need to tune based on training data\n",
    "Probability_th: use transitional probability factored by length cdf. \n",
    "            - If the transition has a confidence higher than the threshold, keep the CNN prediction state and update the prior (because that means the next phase has been reached)\n",
    "            - else, udpate the prediction to prior\n",
    "'''\n",
    "def pkiWithPriors(seq_pred, prior_th, lower_prob_th, higher_prob_th, trans_prob_mat, norm_params_dict, \n",
    "                  non_zero_init_prob_sorted, init_phases_sorted, is_verbose=False):\n",
    "    # for logging\n",
    "    trans_probs = []\n",
    "    transit_history = []\n",
    "    pred_output = np.array(seq_pred).copy()\n",
    "    # initialise prior phase based on initialisation probability\n",
    "    init_phase = getInitPhase(trans_prob_mat, non_zero_init_prob_sorted, init_phases_sorted)\n",
    "    \n",
    "    total_frame = len(pred_output)\n",
    "    prior = init_phase\n",
    "    prev = pred_output[0]\n",
    "    prev_phase_ending_frame = 0\n",
    "    \n",
    "    # prob_sorted and phase_sorted to get the next transition state based on transition probability\n",
    "    prob_sorted_mat, phase_sorted_mat = getSortedProbsAndPhases(trans_prob_mat)\n",
    "    \n",
    "    # keep a counter to count how many new phases have appeared. if count > 5, update the prior to new phases\n",
    "    count_new_phases = 0\n",
    "    for index, prediction in enumerate(pred_output):\n",
    "        # get transition prob\n",
    "        prior_phase_fcount = index - prev_phase_ending_frame\n",
    "        trans_prob = getUpdatedMatrixWithPhaseLen(trans_prob_mat, norm_params_dict, prediction, prior, prior_phase_fcount, total_frame)\n",
    "        # if counter > 5 and the transition from prior to current prediction is possible, update prior\n",
    "        if count_new_phases > prior_th and prior != prev:\n",
    "            # check transition probability\n",
    "            if trans_prob > 0 or prediction != 5:\n",
    "                # update prior, i.e. the phase has changed into next phase\n",
    "                prior = prev\n",
    "                # update prev_phase_ending_frame\n",
    "                prev_phase_ending_frame = index\n",
    "        # if transitional probability from previous to current is smaller than threshold, update it to prior\n",
    "        # otherwise, update prior to the new prediction, as the high transition probability indicates a transition in the phase is likely to happen\n",
    "\n",
    "        \n",
    "        # case 1: when prediction differs from prior\n",
    "        if prediction != prior:\n",
    "            if trans_prob > lower_prob_th:\n",
    "                if is_verbose:\n",
    "                    print(\"Current index:{}\".format(index))\n",
    "                    print(\"Prediction for trans {}-> {} with prob > {}:{}\".format(prior, prediction, lower_prob_th, index))\n",
    "                    print(\"Prior updated!\\n\")\n",
    "                prior = prediction #update prior to the new prediction\n",
    "                prev_phase_ending_frame = index\n",
    "            else:\n",
    "                # not likely for the prediction to happen\n",
    "                pred_output[index] = prior\n",
    "                \n",
    "        # case 2: prediction same as prior\n",
    "        else:\n",
    "            if trans_prob < higher_prob_th: # not likely to stay in the same phase\n",
    "             # get a new phase from probability matrix\n",
    "                if is_verbose:\n",
    "                    print(\"Current index of prediction for trans {}-> {} with prob < {}:{}\".format(prior, prediction, higher_prob_th, index))\n",
    "                next_phase = getNextPhase(prob_sorted_mat, phase_sorted_mat, prediction, is_verbose)\n",
    "                prior = next_phase #only update prior, not the current prediction\n",
    "                prev_phase_ending_frame = index\n",
    "            # else stay in the current prior, which is the same as the prediction, so no change\n",
    "            \n",
    "        # logic to update counter based on continuity of prior prediction\n",
    "        ##### WE STILL TRUST YOU CNN #######\n",
    "        # if current prediction is same as the previous one, counter increment by 1\n",
    "        if prediction == prev:\n",
    "            count_new_phases += 1\n",
    "        else:\n",
    "            # reset counter\n",
    "            prev = prediction\n",
    "            count_new_phases = 0\n",
    "        \n",
    "        \n",
    "        # logging\n",
    "        trans_probs.append(trans_prob)\n",
    "\n",
    "#     print(\"original predictions by CNN:\")\n",
    "#     print(seq_pred)\n",
    "#     print(\"after applying pki with priors:\")\n",
    "#     print(pred_output)\n",
    "#     print(\"transition history:\")\n",
    "#     print(transit_history)\n",
    "#     print(\"transition probabilities:\")\n",
    "#     print(trans_probs)\n",
    "    \n",
    "    return pred_output\n",
    "\n",
    "\n"
   ]
  },
  {
   "cell_type": "code",
   "execution_count": 148,
   "id": "b27ce2e1",
   "metadata": {
    "scrolled": false
   },
   "outputs": [
    {
     "name": "stdout",
     "output_type": "stream",
     "text": [
      "Current index of prediction for trans 1-> 1 with prob < 0.88:30\n",
      "Rescaled probability vector:[1.]\n",
      "Corresponding phases with order sorted in transition probability: [2]\n",
      "Based on probability, transition from 1 to non-self phase 2 happens!\n",
      "\n",
      "Current index of prediction for trans 1-> 1 with prob < 0.88:31\n",
      "Rescaled probability vector:[1.]\n",
      "Corresponding phases with order sorted in transition probability: [2]\n",
      "Based on probability, transition from 1 to non-self phase 2 happens!\n",
      "\n",
      "Current index of prediction for trans 1-> 1 with prob < 0.88:32\n",
      "Rescaled probability vector:[1.]\n",
      "Corresponding phases with order sorted in transition probability: [2]\n",
      "Based on probability, transition from 1 to non-self phase 2 happens!\n",
      "\n",
      "Current index of prediction for trans 1-> 1 with prob < 0.88:33\n",
      "Rescaled probability vector:[1.]\n",
      "Corresponding phases with order sorted in transition probability: [2]\n",
      "Based on probability, transition from 1 to non-self phase 2 happens!\n",
      "\n",
      "Current index of prediction for trans 1-> 1 with prob < 0.88:34\n",
      "Rescaled probability vector:[1.]\n",
      "Corresponding phases with order sorted in transition probability: [2]\n",
      "Based on probability, transition from 1 to non-self phase 2 happens!\n",
      "\n",
      "Current index of prediction for trans 1-> 1 with prob < 0.88:35\n",
      "Rescaled probability vector:[1.]\n",
      "Corresponding phases with order sorted in transition probability: [2]\n",
      "Based on probability, transition from 1 to non-self phase 2 happens!\n",
      "\n",
      "Current index of prediction for trans 1-> 1 with prob < 0.88:36\n",
      "Rescaled probability vector:[1.]\n",
      "Corresponding phases with order sorted in transition probability: [2]\n",
      "Based on probability, transition from 1 to non-self phase 2 happens!\n",
      "\n",
      "Current index of prediction for trans 1-> 1 with prob < 0.88:37\n",
      "Rescaled probability vector:[1.]\n",
      "Corresponding phases with order sorted in transition probability: [2]\n",
      "Based on probability, transition from 1 to non-self phase 2 happens!\n",
      "\n",
      "Current index of prediction for trans 1-> 1 with prob < 0.88:38\n",
      "Rescaled probability vector:[1.]\n",
      "Corresponding phases with order sorted in transition probability: [2]\n",
      "Based on probability, transition from 1 to non-self phase 2 happens!\n",
      "\n",
      "Current index of prediction for trans 1-> 1 with prob < 0.88:39\n",
      "Rescaled probability vector:[1.]\n",
      "Corresponding phases with order sorted in transition probability: [2]\n",
      "Based on probability, transition from 1 to non-self phase 2 happens!\n",
      "\n",
      "Current index of prediction for trans 1-> 1 with prob < 0.88:40\n",
      "Rescaled probability vector:[1.]\n",
      "Corresponding phases with order sorted in transition probability: [2]\n",
      "Based on probability, transition from 1 to non-self phase 2 happens!\n",
      "\n",
      "Current index of prediction for trans 1-> 1 with prob < 0.88:41\n",
      "Rescaled probability vector:[1.]\n",
      "Corresponding phases with order sorted in transition probability: [2]\n",
      "Based on probability, transition from 1 to non-self phase 2 happens!\n",
      "\n",
      "Current index of prediction for trans 1-> 1 with prob < 0.88:42\n",
      "Rescaled probability vector:[1.]\n",
      "Corresponding phases with order sorted in transition probability: [2]\n",
      "Based on probability, transition from 1 to non-self phase 2 happens!\n",
      "\n",
      "Current index of prediction for trans 1-> 1 with prob < 0.88:43\n",
      "Rescaled probability vector:[1.]\n",
      "Corresponding phases with order sorted in transition probability: [2]\n",
      "Based on probability, transition from 1 to non-self phase 2 happens!\n",
      "\n",
      "Current index of prediction for trans 1-> 1 with prob < 0.88:44\n",
      "Rescaled probability vector:[1.]\n",
      "Corresponding phases with order sorted in transition probability: [2]\n",
      "Based on probability, transition from 1 to non-self phase 2 happens!\n",
      "\n",
      "Current index of prediction for trans 1-> 1 with prob < 0.88:45\n",
      "Rescaled probability vector:[1.]\n",
      "Corresponding phases with order sorted in transition probability: [2]\n",
      "Based on probability, transition from 1 to non-self phase 2 happens!\n",
      "\n",
      "Current index of prediction for trans 1-> 1 with prob < 0.88:46\n",
      "Rescaled probability vector:[1.]\n",
      "Corresponding phases with order sorted in transition probability: [2]\n",
      "Based on probability, transition from 1 to non-self phase 2 happens!\n",
      "\n",
      "Current index of prediction for trans 1-> 1 with prob < 0.88:47\n",
      "Rescaled probability vector:[1.]\n",
      "Corresponding phases with order sorted in transition probability: [2]\n",
      "Based on probability, transition from 1 to non-self phase 2 happens!\n",
      "\n",
      "Current index of prediction for trans 1-> 1 with prob < 0.88:48\n",
      "Rescaled probability vector:[1.]\n",
      "Corresponding phases with order sorted in transition probability: [2]\n",
      "Based on probability, transition from 1 to non-self phase 2 happens!\n",
      "\n",
      "Current index of prediction for trans 1-> 1 with prob < 0.88:49\n",
      "Rescaled probability vector:[1.]\n",
      "Corresponding phases with order sorted in transition probability: [2]\n",
      "Based on probability, transition from 1 to non-self phase 2 happens!\n",
      "\n",
      "Current index:50\n",
      "Prediction for trans 1-> 2 with prob > 0.002:50\n",
      "Prior updated!\n",
      "\n",
      "Current index of prediction for trans 1-> 1 with prob < 0.88:57\n",
      "Rescaled probability vector:[1.]\n",
      "Corresponding phases with order sorted in transition probability: [2]\n",
      "Based on probability, transition from 1 to non-self phase 2 happens!\n",
      "\n",
      "Current index of prediction for trans 1-> 1 with prob < 0.88:58\n",
      "Rescaled probability vector:[1.]\n",
      "Corresponding phases with order sorted in transition probability: [2]\n",
      "Based on probability, transition from 1 to non-self phase 2 happens!\n",
      "\n",
      "Current index of prediction for trans 1-> 1 with prob < 0.88:59\n",
      "Rescaled probability vector:[1.]\n",
      "Corresponding phases with order sorted in transition probability: [2]\n",
      "Based on probability, transition from 1 to non-self phase 2 happens!\n",
      "\n",
      "Current index of prediction for trans 1-> 1 with prob < 0.88:60\n",
      "Rescaled probability vector:[1.]\n",
      "Corresponding phases with order sorted in transition probability: [2]\n",
      "Based on probability, transition from 1 to non-self phase 2 happens!\n",
      "\n",
      "Current index of prediction for trans 1-> 1 with prob < 0.88:61\n",
      "Rescaled probability vector:[1.]\n",
      "Corresponding phases with order sorted in transition probability: [2]\n",
      "Based on probability, transition from 1 to non-self phase 2 happens!\n",
      "\n",
      "Current index of prediction for trans 1-> 1 with prob < 0.88:62\n",
      "Rescaled probability vector:[1.]\n",
      "Corresponding phases with order sorted in transition probability: [2]\n",
      "Based on probability, transition from 1 to non-self phase 2 happens!\n",
      "\n",
      "Current index of prediction for trans 1-> 1 with prob < 0.88:63\n",
      "Rescaled probability vector:[1.]\n",
      "Corresponding phases with order sorted in transition probability: [2]\n",
      "Based on probability, transition from 1 to non-self phase 2 happens!\n",
      "\n",
      "Current index of prediction for trans 1-> 1 with prob < 0.88:64\n",
      "Rescaled probability vector:[1.]\n",
      "Corresponding phases with order sorted in transition probability: [2]\n",
      "Based on probability, transition from 1 to non-self phase 2 happens!\n",
      "\n",
      "Current index of prediction for trans 1-> 1 with prob < 0.88:65\n",
      "Rescaled probability vector:[1.]\n",
      "Corresponding phases with order sorted in transition probability: [2]\n",
      "Based on probability, transition from 1 to non-self phase 2 happens!\n",
      "\n",
      "Current index of prediction for trans 1-> 1 with prob < 0.88:66\n",
      "Rescaled probability vector:[1.]\n",
      "Corresponding phases with order sorted in transition probability: [2]\n",
      "Based on probability, transition from 1 to non-self phase 2 happens!\n",
      "\n",
      "Current index of prediction for trans 1-> 1 with prob < 0.88:67\n",
      "Rescaled probability vector:[1.]\n",
      "Corresponding phases with order sorted in transition probability: [2]\n",
      "Based on probability, transition from 1 to non-self phase 2 happens!\n",
      "\n",
      "Current index of prediction for trans 1-> 1 with prob < 0.88:68\n",
      "Rescaled probability vector:[1.]\n",
      "Corresponding phases with order sorted in transition probability: [2]\n",
      "Based on probability, transition from 1 to non-self phase 2 happens!\n",
      "\n",
      "Current index of prediction for trans 1-> 1 with prob < 0.88:69\n",
      "Rescaled probability vector:[1.]\n",
      "Corresponding phases with order sorted in transition probability: [2]\n",
      "Based on probability, transition from 1 to non-self phase 2 happens!\n",
      "\n",
      "Current index of prediction for trans 1-> 1 with prob < 0.88:70\n",
      "Rescaled probability vector:[1.]\n",
      "Corresponding phases with order sorted in transition probability: [2]\n",
      "Based on probability, transition from 1 to non-self phase 2 happens!\n",
      "\n",
      "Current index of prediction for trans 1-> 1 with prob < 0.88:71\n",
      "Rescaled probability vector:[1.]\n",
      "Corresponding phases with order sorted in transition probability: [2]\n",
      "Based on probability, transition from 1 to non-self phase 2 happens!\n",
      "\n",
      "Current index of prediction for trans 1-> 1 with prob < 0.88:72\n",
      "Rescaled probability vector:[1.]\n",
      "Corresponding phases with order sorted in transition probability: [2]\n",
      "Based on probability, transition from 1 to non-self phase 2 happens!\n",
      "\n",
      "Current index of prediction for trans 1-> 1 with prob < 0.88:73\n",
      "Rescaled probability vector:[1.]\n",
      "Corresponding phases with order sorted in transition probability: [2]\n",
      "Based on probability, transition from 1 to non-self phase 2 happens!\n",
      "\n",
      "Current index of prediction for trans 1-> 1 with prob < 0.88:74\n",
      "Rescaled probability vector:[1.]\n",
      "Corresponding phases with order sorted in transition probability: [2]\n",
      "Based on probability, transition from 1 to non-self phase 2 happens!\n",
      "\n",
      "Current index of prediction for trans 1-> 1 with prob < 0.88:75\n",
      "Rescaled probability vector:[1.]\n",
      "Corresponding phases with order sorted in transition probability: [2]\n",
      "Based on probability, transition from 1 to non-self phase 2 happens!\n",
      "\n",
      "Current index of prediction for trans 1-> 1 with prob < 0.88:76\n",
      "Rescaled probability vector:[1.]\n",
      "Corresponding phases with order sorted in transition probability: [2]\n",
      "Based on probability, transition from 1 to non-self phase 2 happens!\n",
      "\n",
      "Current index of prediction for trans 1-> 1 with prob < 0.88:77\n",
      "Rescaled probability vector:[1.]\n",
      "Corresponding phases with order sorted in transition probability: [2]\n",
      "Based on probability, transition from 1 to non-self phase 2 happens!\n",
      "\n",
      "Current index of prediction for trans 1-> 1 with prob < 0.88:78\n",
      "Rescaled probability vector:[1.]\n",
      "Corresponding phases with order sorted in transition probability: [2]\n",
      "Based on probability, transition from 1 to non-self phase 2 happens!\n",
      "\n",
      "Current index of prediction for trans 1-> 1 with prob < 0.88:79\n",
      "Rescaled probability vector:[1.]\n",
      "Corresponding phases with order sorted in transition probability: [2]\n",
      "Based on probability, transition from 1 to non-self phase 2 happens!\n",
      "\n",
      "Current index of prediction for trans 1-> 1 with prob < 0.88:80\n",
      "Rescaled probability vector:[1.]\n",
      "Corresponding phases with order sorted in transition probability: [2]\n",
      "Based on probability, transition from 1 to non-self phase 2 happens!\n",
      "\n",
      "Current index:81\n",
      "Prediction for trans 1-> 2 with prob > 0.002:81\n",
      "Prior updated!\n",
      "\n",
      "Current index of prediction for trans 1-> 1 with prob < 0.88:122\n",
      "Rescaled probability vector:[1.]\n",
      "Corresponding phases with order sorted in transition probability: [2]\n",
      "Based on probability, transition from 1 to non-self phase 2 happens!\n",
      "\n",
      "Current index of prediction for trans 1-> 1 with prob < 0.88:123\n",
      "Rescaled probability vector:[1.]\n",
      "Corresponding phases with order sorted in transition probability: [2]\n",
      "Based on probability, transition from 1 to non-self phase 2 happens!\n",
      "\n",
      "Current index of prediction for trans 1-> 1 with prob < 0.88:124\n",
      "Rescaled probability vector:[1.]\n",
      "Corresponding phases with order sorted in transition probability: [2]\n",
      "Based on probability, transition from 1 to non-self phase 2 happens!\n",
      "\n",
      "Current index of prediction for trans 1-> 1 with prob < 0.88:125\n",
      "Rescaled probability vector:[1.]\n",
      "Corresponding phases with order sorted in transition probability: [2]\n",
      "Based on probability, transition from 1 to non-self phase 2 happens!\n",
      "\n",
      "Current index of prediction for trans 1-> 1 with prob < 0.88:126\n",
      "Rescaled probability vector:[1.]\n",
      "Corresponding phases with order sorted in transition probability: [2]\n",
      "Based on probability, transition from 1 to non-self phase 2 happens!\n",
      "\n",
      "Current index of prediction for trans 1-> 1 with prob < 0.88:127\n",
      "Rescaled probability vector:[1.]\n",
      "Corresponding phases with order sorted in transition probability: [2]\n",
      "Based on probability, transition from 1 to non-self phase 2 happens!\n",
      "\n",
      "Current index of prediction for trans 1-> 1 with prob < 0.88:128\n",
      "Rescaled probability vector:[1.]\n",
      "Corresponding phases with order sorted in transition probability: [2]\n",
      "Based on probability, transition from 1 to non-self phase 2 happens!\n",
      "\n",
      "Current index of prediction for trans 1-> 1 with prob < 0.88:129\n",
      "Rescaled probability vector:[1.]\n",
      "Corresponding phases with order sorted in transition probability: [2]\n",
      "Based on probability, transition from 1 to non-self phase 2 happens!\n",
      "\n",
      "Current index of prediction for trans 1-> 1 with prob < 0.88:130\n",
      "Rescaled probability vector:[1.]\n",
      "Corresponding phases with order sorted in transition probability: [2]\n",
      "Based on probability, transition from 1 to non-self phase 2 happens!\n",
      "\n",
      "Current index of prediction for trans 1-> 1 with prob < 0.88:131\n",
      "Rescaled probability vector:[1.]\n",
      "Corresponding phases with order sorted in transition probability: [2]\n",
      "Based on probability, transition from 1 to non-self phase 2 happens!\n",
      "\n",
      "Current index:132\n",
      "Prediction for trans 1-> 2 with prob > 0.002:132\n",
      "Prior updated!\n",
      "\n",
      "Current index of prediction for trans 2-> 2 with prob < 0.88:385\n",
      "Rescaled probability vector:[0.176471 0.823529]\n",
      "Corresponding phases with order sorted in transition probability: [1, 3]\n",
      "Based on probability, transition from 2 to non-self phase 3 happens!\n",
      "\n",
      "Current index:419\n",
      "Prediction for trans 2-> 3 with prob > 0.002:419\n",
      "Prior updated!\n",
      "\n",
      "Current index:440\n",
      "Prediction for trans 2-> 3 with prob > 0.002:440\n",
      "Prior updated!\n",
      "\n",
      "Current index:624\n",
      "Prediction for trans 2-> 3 with prob > 0.002:624\n",
      "Prior updated!\n",
      "\n",
      "Current index:656\n",
      "Prediction for trans 5-> 3 with prob > 0.002:656\n",
      "Prior updated!\n",
      "\n",
      "Current index of prediction for trans 4-> 4 with prob < 0.88:880\n",
      "Rescaled probability vector:[0.214286 0.785714]\n",
      "Corresponding phases with order sorted in transition probability: [5, 3]\n",
      "Based on probability, transition from 4 to non-self phase 3 happens!\n",
      "\n",
      "Current index of prediction for trans 4-> 4 with prob < 0.88:881\n",
      "Rescaled probability vector:[0.214286 0.785714]\n",
      "Corresponding phases with order sorted in transition probability: [5, 3]\n",
      "Based on probability, transition from 4 to non-self phase 3 happens!\n",
      "\n",
      "Current index of prediction for trans 4-> 4 with prob < 0.88:882\n",
      "Rescaled probability vector:[0.214286 0.785714]\n",
      "Corresponding phases with order sorted in transition probability: [5, 3]\n",
      "Based on probability, transition from 4 to non-self phase 3 happens!\n",
      "\n",
      "Current index of prediction for trans 4-> 4 with prob < 0.88:889\n",
      "Rescaled probability vector:[0.214286 0.785714]\n",
      "Corresponding phases with order sorted in transition probability: [5, 3]\n",
      "Based on probability, transition from 4 to non-self phase 3 happens!\n",
      "\n",
      "Current index of prediction for trans 4-> 4 with prob < 0.88:891\n",
      "Rescaled probability vector:[0.214286 0.785714]\n",
      "Corresponding phases with order sorted in transition probability: [5, 3]\n",
      "Based on probability, transition from 4 to non-self phase 3 happens!\n",
      "\n",
      "Current index of prediction for trans 4-> 4 with prob < 0.88:892\n",
      "Rescaled probability vector:[0.214286 0.785714]\n",
      "Corresponding phases with order sorted in transition probability: [5, 3]\n",
      "Based on probability, transition from 4 to non-self phase 3 happens!\n",
      "\n",
      "Current index of prediction for trans 4-> 4 with prob < 0.88:893\n",
      "Rescaled probability vector:[0.214286 0.785714]\n",
      "Corresponding phases with order sorted in transition probability: [5, 3]\n",
      "Based on probability, transition from 4 to non-self phase 3 happens!\n",
      "\n",
      "Current index of prediction for trans 4-> 4 with prob < 0.88:894\n",
      "Rescaled probability vector:[0.214286 0.785714]\n",
      "Corresponding phases with order sorted in transition probability: [5, 3]\n",
      "Based on probability, transition from 4 to non-self phase 3 happens!\n",
      "\n",
      "Current index of prediction for trans 4-> 4 with prob < 0.88:895\n",
      "Rescaled probability vector:[0.214286 0.785714]\n",
      "Corresponding phases with order sorted in transition probability: [5, 3]\n",
      "Based on probability, transition from 4 to non-self phase 3 happens!\n",
      "\n",
      "Current index of prediction for trans 4-> 4 with prob < 0.88:896\n",
      "Rescaled probability vector:[0.214286 0.785714]\n",
      "Corresponding phases with order sorted in transition probability: [5, 3]\n",
      "Based on probability, transition from 4 to non-self phase 3 happens!\n",
      "\n",
      "Current index of prediction for trans 4-> 4 with prob < 0.88:897\n",
      "Rescaled probability vector:[0.214286 0.785714]\n",
      "Corresponding phases with order sorted in transition probability: [5, 3]\n",
      "Based on probability, transition from 4 to non-self phase 3 happens!\n",
      "\n",
      "Current index of prediction for trans 4-> 4 with prob < 0.88:898\n",
      "Rescaled probability vector:[0.214286 0.785714]\n",
      "Corresponding phases with order sorted in transition probability: [5, 3]\n",
      "Based on probability, transition from 4 to non-self phase 3 happens!\n",
      "\n",
      "Current index of prediction for trans 4-> 4 with prob < 0.88:899\n",
      "Rescaled probability vector:[0.214286 0.785714]\n",
      "Corresponding phases with order sorted in transition probability: [5, 3]\n",
      "Based on probability, transition from 4 to non-self phase 3 happens!\n",
      "\n",
      "Current index of prediction for trans 4-> 4 with prob < 0.88:900\n",
      "Rescaled probability vector:[0.214286 0.785714]\n",
      "Corresponding phases with order sorted in transition probability: [5, 3]\n",
      "Based on probability, transition from 4 to non-self phase 3 happens!\n",
      "\n",
      "Current index:901\n",
      "Prediction for trans 4-> 3 with prob > 0.002:901\n",
      "Prior updated!\n",
      "\n"
     ]
    },
    {
     "name": "stdout",
     "output_type": "stream",
     "text": [
      "Current index of prediction for trans 5-> 5 with prob < 0.88:1002\n",
      "Current index of prediction for trans 5-> 5 with prob < 0.88:1070\n",
      "Current index of prediction for trans 5-> 5 with prob < 0.88:1138\n",
      "Current index of prediction for trans 5-> 5 with prob < 0.88:1206\n",
      "Current index of prediction for trans 5-> 5 with prob < 0.88:1274\n"
     ]
    }
   ],
   "source": [
    "# Try pki with priors on example data, using trans_prob_mat without zero first (non_generative)\n",
    "pki_w_priors_output = pkiWithPriors(pred_labels, 4, 0.002, 0.88, trans_mat_wo_zero, norm_params_dict, non_zero_init_prob_sorted, init_phases_sorted, True)"
   ]
  },
  {
   "cell_type": "code",
   "execution_count": 122,
   "id": "a167d462",
   "metadata": {},
   "outputs": [
    {
     "name": "stdout",
     "output_type": "stream",
     "text": [
      "Rescaled probability vector:[0.285714 0.714286]\n",
      "Corresponding phases with order sorted in transition probability: [2, 0]\n",
      "Based on probability, transition from 1 to non-self phase 0 happens!\n",
      "\n",
      "Rescaled probability vector:[0.285714 0.714286]\n",
      "Corresponding phases with order sorted in transition probability: [2, 0]\n",
      "Based on probability, transition from 1 to non-self phase 0 happens!\n",
      "\n",
      "Rescaled probability vector:[0.285714 0.714286]\n",
      "Corresponding phases with order sorted in transition probability: [2, 0]\n",
      "Based on probability, transition from 1 to non-self phase 0 happens!\n",
      "\n",
      "Rescaled probability vector:[0.058824 0.941176]\n",
      "Corresponding phases with order sorted in transition probability: [1, 0]\n",
      "Based on probability, transition from 2 to non-self phase 0 happens!\n",
      "\n",
      "Rescaled probability vector:[1.]\n",
      "Corresponding phases with order sorted in transition probability: [0]\n",
      "Based on probability, transition from 4 to non-self phase 0 happens!\n",
      "\n",
      "Rescaled probability vector:[1.]\n",
      "Corresponding phases with order sorted in transition probability: [0]\n",
      "Based on probability, transition from 4 to non-self phase 0 happens!\n",
      "\n"
     ]
    }
   ],
   "source": [
    "pki_w_priors_output_w_zeros = pkiWithPriors(pred_labels, 4, 0.002, 0.88, trans_mat, norm_params_dict, non_zero_init_prob_sorted, init_phases_sorted)"
   ]
  },
  {
   "cell_type": "code",
   "execution_count": 123,
   "id": "778ceb36",
   "metadata": {},
   "outputs": [],
   "source": [
    "pki_output = pki(example_prob_vec, pred_labels, 4, 1)"
   ]
  },
  {
   "cell_type": "code",
   "execution_count": 68,
   "id": "908b13cb",
   "metadata": {},
   "outputs": [
    {
     "name": "stdout",
     "output_type": "stream",
     "text": [
      "Accuracy of using only CNN for prediction is 0.7150537634408602\n",
      "Accuracy of using CNN followed by PKI for prediction is 0.8003072196620584\n",
      "Accuracy of using CNN followed by PKI with priors for prediction is 0.8279569892473119\n",
      "Accuracy of using CNN followed by PKI with priors using TRANSITION MATRIX WITH ZEROS for prediction is 0.8010752688172043\n"
     ]
    }
   ],
   "source": [
    "print(\"Accuracy of using only CNN for prediction is {}\".format(accuracy_score(true_labels, pred_labels)))\n",
    "print(\"Accuracy of using CNN followed by PKI for prediction is {}\".format(accuracy_score(true_labels, pki_output)))\n",
    "print(\"Accuracy of using CNN followed by PKI with priors for prediction is {}\".format(accuracy_score(true_labels, pki_w_priors_output)))\n",
    "print(\"Accuracy of using CNN followed by PKI with priors using TRANSITION MATRIX WITH ZEROS for prediction is {}\".format(accuracy_score(true_labels, pki_w_priors_output_w_zeros)))"
   ]
  },
  {
   "cell_type": "code",
   "execution_count": 69,
   "id": "67b8601c",
   "metadata": {},
   "outputs": [
    {
     "data": {
      "text/plain": [
       "1302"
      ]
     },
     "execution_count": 69,
     "metadata": {},
     "output_type": "execute_result"
    }
   ],
   "source": [
    "len(true_labels)"
   ]
  },
  {
   "cell_type": "code",
   "execution_count": 70,
   "id": "9db1c215",
   "metadata": {},
   "outputs": [
    {
     "data": {
      "text/plain": [
       "1302"
      ]
     },
     "execution_count": 70,
     "metadata": {},
     "output_type": "execute_result"
    }
   ],
   "source": [
    "len(pki_output)"
   ]
  },
  {
   "cell_type": "markdown",
   "id": "44305f9d",
   "metadata": {},
   "source": [
    "# Apply PKI with Priors across all results! (use WITHOUT zeros here)"
   ]
  },
  {
   "cell_type": "markdown",
   "id": "efffb160",
   "metadata": {},
   "source": [
    "### Training (on training set and validation set)"
   ]
  },
  {
   "cell_type": "code",
   "execution_count": 189,
   "id": "a36223a2",
   "metadata": {},
   "outputs": [
    {
     "name": "stdout",
     "output_type": "stream",
     "text": [
      "Average training accuracy of fold 1 with prior_th=3, lower_prob_th=0.0025 and higher_prob_th=0.63 is 0.8020056141789826\n",
      "Average test accuracy of fold 1 is 0.7595381104518485\n",
      "Average training accuracy of fold 2 with prior_th=3, lower_prob_th=0.0025 and higher_prob_th=0.63 is 0.790131148647283\n",
      "Average test accuracy of fold 2 is 0.8307849036420465\n",
      "Average training accuracy of fold 3 with prior_th=3, lower_prob_th=0.0025 and higher_prob_th=0.63 is 0.7978957864627724\n",
      "Average test accuracy of fold 3 is 0.78419707674911\n",
      "Average training accuracy of fold 4 with prior_th=3, lower_prob_th=0.0025 and higher_prob_th=0.63 is 0.8112427236595231\n",
      "Average test accuracy of fold 4 is 0.7041154535686049\n",
      "Average training accuracy of fold 5 with prior_th=3, lower_prob_th=0.0025 and higher_prob_th=0.63 is 0.7959316989757026\n",
      "Average test accuracy of fold 5 is 0.7959816016715286\n",
      "Average training accuracy of fold 6 with prior_th=3, lower_prob_th=0.0025 and higher_prob_th=0.63 is 0.7908351836621\n",
      "Average test accuracy of fold 6 is 0.8265606935531435\n",
      "Average training accuracy of fold 7 with prior_th=3, lower_prob_th=0.0025 and higher_prob_th=0.63 is 0.7835296399393803\n",
      "Average test accuracy of fold 7 is 0.8703939558894618\n",
      "\n",
      "Overall average training accuracy with with prior_th=3, lower_prob_th=0.0025 and higher_prob_th=0.63 is 0.7959388279322491\n"
     ]
    }
   ],
   "source": [
    "# hand tune for each fold. change the parameters here#######\n",
    "train_accs = []\n",
    "test_accs = []\n",
    "# log results\n",
    "true_label_list = []\n",
    "pred_list = []\n",
    "pki_list = []\n",
    "pki_wo_zero_list = []\n",
    "\n",
    "for index in range(7):\n",
    "    lower_prob_th = 0.0025\n",
    "    higher_prob_th = 0.63\n",
    "    ##############################\n",
    "    # ALL PATHS\n",
    "    paramPath = \"/home/yitong/venv_yitong/sacro_wf_analysis/params\"\n",
    "    path_prefix= '/home/yitong/venv_yitong/sacro_wf_analysis/'\n",
    "    whole_path = path_prefix + 'data/sacro_sequence/whole'\n",
    "    videos_path = path_prefix + 'data/sacro_jpg'\n",
    "    output_path = '/home/jenna/jennaCode/model_outputs'\n",
    "    true_label_path = \"/home/jenna/sacro_results/results/\"\n",
    "\n",
    "    # folds for cross vaildation devision\n",
    "    folders = ['folder1', 'folder2', 'folder3', 'folder4', 'folder5', 'folder6', 'folder7']\n",
    "    divs = ['div1', 'div2', 'div3', 'div4', 'div5', 'div6', 'div7']\n",
    "\n",
    "\n",
    "    folder = folders[index]\n",
    "    div = divs[index]\n",
    "\n",
    "    whole_folder_path = os.path.join(whole_path, folder)\n",
    "    with open(os.path.join(videos_path, 'dataset_' + div + '.json'), 'r') as json_data:\n",
    "        temp = json.load(json_data)\n",
    "    # use all training and validation data for training\n",
    "    video_train = temp['train']\n",
    "    video_validation = temp['validation']\n",
    "    # train on both training and validation set to find the highest average\n",
    "    video_train_valid = video_train + video_validation\n",
    "    video_test = temp['test']\n",
    "\n",
    "    # apply pki with the video_train to get an average accuracy\n",
    "    # tune parameters with different prior threshold\n",
    "    for prior_th in [3]:\n",
    "        ave_tr_acc = 0\n",
    "        for video in video_train_valid:\n",
    "            prob_vec = pickle.load(open(output_path + '/' + video + \"/prob_vectors.pickle\", 'rb'))\n",
    "            pred_labels = pickle.load(open(output_path + '/' + video + \"/seq_pred.pickle\", 'rb'))\n",
    "            true_labels = pickle.load(open(true_label_path +  '/' + video + \"/seq_true.pickle\", 'rb'))\n",
    "            #### change here #############\n",
    "            pki_output = pki([], pred_labels, prior_th, 1)\n",
    "            pki_w_priors_output = pkiWithPriors(pred_labels, prior_th, lower_prob_th, higher_prob_th, trans_mat_wo_zero, norm_params_dict, non_zero_init_prob_sorted, init_phases_sorted)\n",
    "            ########################\n",
    "            \n",
    "            acc = accuracy_score(true_labels, pki_w_priors_output)\n",
    "            ave_tr_acc += acc\n",
    "\n",
    "        ave_tr_acc /= len(video_train_valid)\n",
    "        train_accs.append(ave_tr_acc)\n",
    "        print(\"Average training accuracy of fold {} with prior_th={}, lower_prob_th={} and higher_prob_th={} is {}\".format(index+1, prior_th, lower_prob_th, higher_prob_th, ave_tr_acc))    \n",
    "        \n",
    "        \n",
    "    # testing\n",
    "    # finally report evaluation metrics on testing data\n",
    "    ave_test_acc = 0\n",
    "    prior_th = 3\n",
    "    for video in video_test:\n",
    "        prob_vec = pickle.load(open(output_path + '/' + video + \"/prob_vectors.pickle\", 'rb'))\n",
    "        pred_labels = pickle.load(open(output_path + '/' + video + \"/seq_pred.pickle\", 'rb'))\n",
    "        true_labels = pickle.load(open(true_label_path +  '/' + video + \"/seq_true.pickle\", 'rb'))\n",
    "        #### change here #############\n",
    "        pki_output = pki([], pred_labels, prior_th, 1)\n",
    "        pki_w_priors_output = pkiWithPriors(pred_labels, prior_th, lower_prob_th, higher_prob_th, trans_mat_wo_zero, norm_params_dict, non_zero_init_prob_sorted, init_phases_sorted)\n",
    "        #####################\n",
    "        ######log results########\n",
    "        true_label_list.append(true_labels)\n",
    "        pred_list.append(pred_labels)\n",
    "        pki_list.append(pki_output)\n",
    "        pki_wo_zero_list.append(pki_w_priors_output)\n",
    "        #############################\n",
    "        acc = accuracy_score(true_labels, pki_w_priors_output)\n",
    "        ave_test_acc += acc\n",
    "\n",
    "    ave_test_acc /= len(video_test)\n",
    "    print(\"Average test accuracy of fold {} is {}\".format(index+1,ave_test_acc))\n",
    "\n",
    "    # append results\n",
    "    test_accs.append(ave_test_acc)\n",
    "    \n",
    "    \n",
    "# final average training accuracy\n",
    "print()\n",
    "print(\"Overall average training accuracy with with prior_th={}, lower_prob_th={} and higher_prob_th={} is {}\".format(prior_th, lower_prob_th, higher_prob_th, sum(train_accs)/len(train_accs)))\n",
    "    "
   ]
  },
  {
   "cell_type": "markdown",
   "id": "fe28b004",
   "metadata": {},
   "source": [
    "### Documentation of results on training and validation data (only the highest):\n",
    "\n",
    "\n",
    "Overall average training accuracy with prior_th=3, lower_prob_th=0.002 and higher_prob_th=0.885 is 0.7806888870921027\n",
    "\n",
    "\n",
    "**Overall average training accuracy with with prior_th=3, lower_prob_th=0.002 and higher_prob_th=0.887 is 0.7830913778457447**\n",
    "\n",
    "Overall average training accuracy with with prior_th=3, lower_prob_th=0.0018 and higher_prob_th=0.887 is 0.7827048868640352\n",
    "\n",
    "Overall average training accuracy with with prior_th=3, lower_prob_th=0.0022 and higher_prob_th=0.887 is 0.7828119560824199\n",
    "\n",
    "\n",
    "**After modifying the algorithm to refer to transition probability when changing prior as well:**\n",
    "Overall average training accuracy with with prior_th=3, lower_prob_th=0.002 and higher_prob_th=0.5 is 0.7940491483123342\n",
    "\n",
    "Overall average training accuracy with with prior_th=3, lower_prob_th=0.002 and higher_prob_th=0.6 is 0.7955342759182467\n",
    "\n",
    "Overall average training accuracy with with prior_th=3, lower_prob_th=0.002 and higher_prob_th=0.62 is 0.7957617217352831\n",
    "\n",
    "Overall average training accuracy with with prior_th=3, lower_prob_th=0.002 and higher_prob_th=0.63 is 0.7959084665178641\n",
    "\n",
    "Overall average training accuracy with with prior_th=3, lower_prob_th=0.0025 and higher_prob_th=0.63 is 0.7959388279322491\n",
    "\n",
    "Overall average training accuracy with with prior_th=3, lower_prob_th=0.002 and higher_prob_th=0.64 is 0.7954316592557928\n",
    "\n",
    "Overall average training accuracy with with prior_th=3, lower_prob_th=0.002 and higher_prob_th=0.65 is 0.7951140180284268\n",
    "\n",
    "Overall average training accuracy with with prior_th=3, lower_prob_th=0.002 and higher_prob_th=0.7 is 0.7950650861071438\n",
    "\n",
    "Overall average training accuracy with with prior_th=3, lower_prob_th=0.002 and higher_prob_th=0.85 is 0.7925293568420476"
   ]
  },
  {
   "cell_type": "markdown",
   "id": "8fbb1462",
   "metadata": {},
   "source": [
    "### Testing"
   ]
  },
  {
   "cell_type": "code",
   "execution_count": 178,
   "id": "2220ee1b",
   "metadata": {},
   "outputs": [
    {
     "name": "stdout",
     "output_type": "stream",
     "text": [
      "[0.7620940209949795, 0.8240843069414499, 0.7825002426859695, 0.7146012156294403, 0.7959816016715286, 0.8232400201225105, 0.86885785757917]\n"
     ]
    }
   ],
   "source": [
    "print(test_accs)"
   ]
  },
  {
   "cell_type": "code",
   "execution_count": 179,
   "id": "1f47f15b",
   "metadata": {},
   "outputs": [
    {
     "data": {
      "text/plain": [
       "7"
      ]
     },
     "execution_count": 179,
     "metadata": {},
     "output_type": "execute_result"
    }
   ],
   "source": [
    "len(test_accs)"
   ]
  },
  {
   "cell_type": "markdown",
   "id": "aecad174",
   "metadata": {},
   "source": [
    "### Results comparison of vanilla model PKI VS PKI with prior information"
   ]
  },
  {
   "cell_type": "code",
   "execution_count": 180,
   "id": "08e53051",
   "metadata": {},
   "outputs": [
    {
     "name": "stdout",
     "output_type": "stream",
     "text": [
      "average testing accuracy of using vanilla PKI on CNN prediction results: 0.776006796026268\n",
      "Average testing accuracy using PKI with priors on CNN prediction results is:0.7959084665178642\n"
     ]
    }
   ],
   "source": [
    "ave_test_acc = sum(test_accs)/len(test_accs)\n",
    "print(\"average testing accuracy of using vanilla PKI on CNN prediction results: {}\".format(pki_ave_test))\n",
    "print(\"Average testing accuracy using PKI with priors on CNN prediction results is:{}\".format(ave_test_acc))"
   ]
  },
  {
   "cell_type": "markdown",
   "id": "de88f5ac",
   "metadata": {},
   "source": [
    "### Comments on other things other than the accuracy scores:\n",
    "- Resulst across test data are **mostly consistently higher** when using PKI with priors compared to using only the vanilla PKI model"
   ]
  },
  {
   "cell_type": "markdown",
   "id": "b920f7b0",
   "metadata": {},
   "source": [
    "### Plot true labels, pred labels, PKI results and PKI with prior results"
   ]
  },
  {
   "cell_type": "code",
   "execution_count": 181,
   "id": "3b338678",
   "metadata": {},
   "outputs": [
    {
     "name": "stdout",
     "output_type": "stream",
     "text": [
      "Video 1:\n",
      "PKI acc: 0.6857142857142857\n",
      "PKI with priors acc: 0.6845714285714286\n",
      "\n",
      "Video 2:\n",
      "PKI acc: 0.9271565495207668\n",
      "PKI with priors acc: 0.8396166134185303\n",
      "\n",
      "Video 3:\n",
      "PKI acc: 0.8080529509100938\n",
      "PKI with priors acc: 0.8130170987313844\n",
      "\n",
      "Video 4:\n",
      "PKI acc: 0.7733333333333333\n",
      "PKI with priors acc: 0.8351515151515152\n",
      "\n",
      "Video 5:\n",
      "PKI acc: 0.7562776957163959\n",
      "PKI with priors acc: 0.7754800590841949\n",
      "\n",
      "Video 6:\n",
      "PKI acc: 0.7344582593250444\n",
      "PKI with priors acc: 0.7895204262877442\n",
      "\n",
      "Video 7:\n",
      "PKI acc: 0.625866050808314\n",
      "PKI with priors acc: 0.6922632794457275\n",
      "\n",
      "Video 8:\n",
      "PKI acc: 0.7867240319606638\n",
      "PKI with priors acc: 0.7369391518131531\n",
      "\n",
      "Video 9:\n",
      "PKI acc: 0.9405439595192916\n",
      "PKI with priors acc: 0.9538266919671095\n",
      "\n",
      "Video 10:\n",
      "PKI acc: 0.6186348862405201\n",
      "PKI with priors acc: 0.638136511375948\n",
      "\n",
      "Video 11:\n",
      "PKI acc: 0.7858136300417247\n",
      "PKI with priors acc: 0.8379694019471489\n",
      "\n",
      "Video 12:\n",
      "PKI acc: 0.7916360968451944\n",
      "PKI with priors acc: 0.8085106382978723\n",
      "\n",
      "Video 13:\n",
      "PKI acc: 0.8295761947700632\n",
      "PKI with priors acc: 0.8782687105500451\n",
      "\n",
      "Video 14:\n",
      "PKI acc: 0.8003072196620584\n",
      "PKI with priors acc: 0.8594470046082949\n",
      "\n"
     ]
    }
   ],
   "source": [
    "num = len(true_label_list)\n",
    "for i in range(num):\n",
    "    true_labels = true_label_list[i]\n",
    "    pki_acc =  accuracy_score(true_labels, pki_list[i])\n",
    "    pki_wo_zero_acc = accuracy_score(true_labels, pki_wo_zero_list[i])\n",
    "    print(\"Video {}:\".format(i+1))\n",
    "    print(\"PKI acc: {}\".format(pki_acc))\n",
    "    print(\"PKI with priors acc: {}\".format(pki_wo_zero_acc))\n",
    "    print()"
   ]
  },
  {
   "cell_type": "code",
   "execution_count": 168,
   "id": "fd828d17",
   "metadata": {},
   "outputs": [
    {
     "name": "stdout",
     "output_type": "stream",
     "text": [
      "14\n",
      "14\n",
      "14\n",
      "14\n"
     ]
    }
   ],
   "source": [
    "print(len(true_label_list))\n",
    "print(len(pred_list))\n",
    "print(len(pki_list))\n",
    "print(len(pki_wo_zero_list))"
   ]
  },
  {
   "cell_type": "code",
   "execution_count": 169,
   "id": "ac192a3e",
   "metadata": {},
   "outputs": [],
   "source": [
    "import matplotlib.pyplot as plt\n",
    "from matplotlib.pyplot import figure"
   ]
  },
  {
   "cell_type": "code",
   "execution_count": 205,
   "id": "147b2293",
   "metadata": {},
   "outputs": [
    {
     "data": {
      "image/png": "[encoded data removed]",
      "text/plain": [
       "<Figure size 1080x576 with 1 Axes>"
      ]
     },
     "metadata": {
      "needs_background": "light"
     },
     "output_type": "display_data"
    }
   ],
   "source": [
    "i = 9\n",
    "##############\n",
    "num = len(true_label_list)\n",
    "figure(figsize=(15, 8))\n",
    "x = list(range(len(true_label_list[i])))\n",
    "plt.plot(x, true_label_list[i], label=\"true labels\")\n",
    "# plt.plot(x, pred_list[4], label=\"CNN prediction labels\")\n",
    "plt.plot(x, pki_list[i], label=\"PKI results\")\n",
    "plt.plot(x, pki_wo_zero_list[i], label=\"PKI with priors labels\")\n",
    "plt.legend()\n",
    "plt.show()"
   ]
  },
  {
   "cell_type": "code",
   "execution_count": 194,
   "id": "26f97233",
   "metadata": {},
   "outputs": [
    {
     "name": "stdout",
     "output_type": "stream",
     "text": [
      "[2 2 2 2 2 2 2 2 2 2 5 5 5 5 5 5 5 5 5 5 5 5 5 5 5 5 5 5 5 5 5 5 5 5 5 5 5\n",
      " 5 5 5 5 5 5 5 5 5 5 5 5 5 5 5 5 5 5 5 5 5 5 5 5 5 5 5 5 5 5 5 5 5 5 5 5 5\n",
      " 5 5 5 5 5 5 5 5 5 5 5 5 5 5 5 5 5 5 5 5 5 5 5 5 5 5 5 5 5 5 5 5 5 5 5 5 5\n",
      " 5 5 5 5 5 5 5 5 3 3 3 3 3 3 3 3 3 3 3 3 3 3 3 3 3 3 3 3 3 3 3 3 3 3 3 3 3\n",
      " 3 3 3 3 3 3 3 3 3 3 3 3 3 3 3 3 3 3 3 3 3 3 3 3 3 3 3 3 3 3 3 3 3 3 3 3 3\n",
      " 3 3 3 3 3 3 3 3 3 3 3 3 3 3 3]\n"
     ]
    }
   ],
   "source": [
    "print(pki_wo_zero_list[i][300:500])"
   ]
  },
  {
   "cell_type": "code",
   "execution_count": 195,
   "id": "3bef52f6",
   "metadata": {},
   "outputs": [
    {
     "name": "stdout",
     "output_type": "stream",
     "text": [
      "[3, 3, 5, 5, 5, 5, 5, 5, 5, 5, 3, 3, 3, 5, 5, 5, 5, 3, 5, 3, 3, 3, 5, 5, 5, 5, 5, 5, 3, 3, 5, 3, 3, 5, 3, 5, 5, 2, 2, 3, 3, 2, 2, 3, 5, 5, 3, 5, 5, 5, 5, 5, 5, 5, 5, 5, 2, 5, 2, 5, 3, 5, 3, 3, 5, 5, 3, 5, 2, 3, 3, 5, 3, 4, 4, 4, 3, 4, 4, 3, 3, 3, 5, 5, 5, 5, 5, 5, 5, 5, 5, 5, 5, 5, 5, 3, 4, 2, 2, 2, 2, 2, 5, 5, 5, 5, 5, 3, 5, 5, 5, 3, 3, 5, 3, 3, 3, 3, 3, 3, 5, 3, 3, 3, 3, 3, 3, 5, 3, 3, 3, 3, 5, 3, 5, 5, 5, 3, 3, 3, 4, 3, 3, 3, 3, 3, 3, 5, 3, 5, 3, 3, 3, 4, 3, 4, 3, 3, 5, 3, 5, 5, 3, 5, 5, 3, 3, 4, 4, 3, 3, 3, 3, 4, 3, 3, 3, 3, 3, 3, 4, 3, 3, 3, 4, 3, 3, 3, 3, 3, 3, 3, 3, 5, 3, 3, 3, 3, 3, 3]\n"
     ]
    }
   ],
   "source": [
    "print(pred_list[i][300:500])"
   ]
  },
  {
   "cell_type": "code",
   "execution_count": 197,
   "id": "29e9f022",
   "metadata": {},
   "outputs": [
    {
     "name": "stdout",
     "output_type": "stream",
     "text": [
      "[2 2 2 2 2 2 2 5 5 5 5 5 5 5 5 5 5 5 5 5 5 5 5 5 5 5 5 5 5 5 5 5 5 5 5 5 5\n",
      " 5 5 5 5 5 5 5 5 5 5 5 5 5 5 5 5 5 5 5 5 5 5 5 5 5 5 5 5 5 5 5 5 5 5 5 5 5\n",
      " 5 5 5 5 5 5 5 5 5 5 5 5 5 5 5 5 5 5 5 5 5 5 5 5 5 5 5 5 2 2 2 2 2 5 5 5 5\n",
      " 5 5 5 5 5 5 5 5 3 3 3 3 3 3 3 3 3 3 3 3 3 3 3 3 3 3 3 3 3 3 3 3 3 3 3 3 3\n",
      " 3 3 3 3 3 3 3 3 3 3 3 3 3 3 3 3 3 3 3 3 3 3 3 3 3 3 3 3 3 3 3 3 3 3 3 3 3\n",
      " 3 3 3 3 3 3 3 3 3 3 3 3 3 3 3]\n"
     ]
    }
   ],
   "source": [
    "print(pki_list[i][300:500])"
   ]
  },
  {
   "cell_type": "code",
   "execution_count": 199,
   "id": "a2053069",
   "metadata": {},
   "outputs": [
    {
     "name": "stdout",
     "output_type": "stream",
     "text": [
      "[2, 2, 2, 2, 2, 2, 2, 2, 2, 2, 2, 2, 2, 2, 2, 0, 0, 0, 0, 0, 0, 0, 0, 0, 0, 0, 0, 0, 0, 0, 0, 0, 0, 0, 0, 0, 0, 0, 3, 3, 3, 3, 3, 3, 3, 3, 3, 3, 3, 3, 3, 3, 3, 3, 3, 3, 3, 3, 3, 3, 3, 3, 3, 3, 3, 3, 3, 3, 3, 3, 3, 3, 3, 3, 3, 3, 3, 3, 3, 3, 3, 3, 3, 3, 3, 3, 3, 3, 3, 3, 3, 3, 3, 3, 3, 3, 3, 3, 3, 3, 3, 3, 3, 3, 3, 3, 3, 3, 3, 3, 3, 3, 3, 3, 3, 3, 3, 3, 3, 3, 3, 3, 3, 3, 3, 3, 3, 3, 3, 3, 3, 3, 3, 3, 3, 3, 3, 3, 3, 3, 3, 3, 3, 3, 3, 3, 3, 3, 3, 3, 3, 3, 3, 3, 3, 3, 3, 3, 3, 3, 3, 3, 3, 3, 3, 3, 3, 3, 3, 3, 3, 3, 3, 3, 3, 3, 3, 3, 3, 3, 3, 3, 3, 3, 3, 3, 3, 3, 3, 3, 3, 3, 3, 3, 3, 3, 3, 3, 3, 3]\n"
     ]
    }
   ],
   "source": [
    "print(true_label_list[i][300:500])"
   ]
  },
  {
   "cell_type": "code",
   "execution_count": null,
   "id": "470a8b2e",
   "metadata": {},
   "outputs": [],
   "source": []
  }
 ],
 "metadata": {
  "kernelspec": {
   "display_name": "Python 3",
   "language": "python",
   "name": "python3"
  },
  "language_info": {
   "codemirror_mode": {
    "name": "ipython",
    "version": 3
   },
   "file_extension": ".py",
   "mimetype": "text/x-python",
   "name": "python",
   "nbconvert_exporter": "python",
   "pygments_lexer": "ipython3",
   "version": "3.7.10"
  }
 },
 "nbformat": 4,
 "nbformat_minor": 5
}
