{
 "cells": [
  {
   "cell_type": "code",
   "execution_count": 1,
   "id": "1fdf9d13",
   "metadata": {},
   "outputs": [],
   "source": [
    "import pickle\n",
    "import os\n",
    "import glob\n",
    "import numpy as np\n",
    "import json\n",
    "from scipy.stats import norm"
   ]
  },
  {
   "cell_type": "code",
   "execution_count": 2,
   "id": "ee378401",
   "metadata": {},
   "outputs": [],
   "source": [
    "path = \"/home/jenna/sacro_results/results/\""
   ]
  },
  {
   "cell_type": "code",
   "execution_count": 3,
   "id": "29f4ad26",
   "metadata": {},
   "outputs": [
    {
     "data": {
      "text/plain": [
       "['cf7cf863-929a-4b89-962b-7913869167e4',\n",
       " 'a90983a1-2329-4019-96e8-949493c3fc24',\n",
       " '315ac662-9e95-4dec-80f0-48e244f9f8e1',\n",
       " 'b71b28f1-7f63-4593-bdb2-9e60dd1ac71e',\n",
       " '96c75293-2026-48af-ad99-37281cb9bb3e',\n",
       " '436c714b-b588-4894-b68c-1e0f773e5df1',\n",
       " '5238ac7b-ad85-488f-b013-9ee4e2064e60',\n",
       " 'e8d7e0c4-b293-43ce-832f-c37fb8fd3b23',\n",
       " 'e6a9f8f7-8024-42d5-aad5-ef726d353f3b',\n",
       " '26d9e19b-59ed-4bbb-906a-9953b5d2c825',\n",
       " 'a3347182-4364-43f8-8992-2409b1b66d31',\n",
       " 'f63b25f4-8df4-4336-8c02-9456eb3c09b0',\n",
       " 'slinwin_processor.py',\n",
       " 'e8d3eabc-edd1-414f-9d95-277df742655a',\n",
       " 'b6701cb1-3a9b-456e-ad73-c6e06eea03ec']"
      ]
     },
     "execution_count": 3,
     "metadata": {},
     "output_type": "execute_result"
    }
   ],
   "source": [
    "os.listdir(path)"
   ]
  },
  {
   "cell_type": "code",
   "execution_count": 4,
   "id": "a95dd6b5",
   "metadata": {},
   "outputs": [],
   "source": [
    "# Now, you need to loop through every video and document the label list and label freq\n",
    "# Put above code into function\n",
    "def get_label_list_and_freq(full_path):\n",
    "#     pred_labels = pickle.load(open(full_path + \"/seq_pred.pickle\", 'rb'))\n",
    "    true_labels = pickle.load(open(full_path + \"/seq_true.pickle\", 'rb'))\n",
    "    # scan through the true labels to see whether there are early phases repeating in the later stage\n",
    "    labels_list = []\n",
    "    labels_freq = []\n",
    "    for current_label in true_labels:\n",
    "        #if list is empty or current label is not the same as the previous label, \n",
    "        #then append the current label and frequency\n",
    "        if (not labels_list) or (current_label != labels_list[-1]):\n",
    "            labels_list.append(current_label)\n",
    "            labels_freq.append(1)\n",
    "            continue\n",
    "        # for the other cases, simply update frequency\n",
    "        labels_freq[-1] += 1\n",
    "    return (labels_list, labels_freq)"
   ]
  },
  {
   "cell_type": "code",
   "execution_count": 5,
   "id": "5356208e",
   "metadata": {},
   "outputs": [],
   "source": [
    "# Get the list of python files which are no subdirectories\n",
    "py_files = glob.glob(path+\"*.py\")\n",
    "for (i, file) in enumerate(py_files):\n",
    "    file = file.replace(path, \"\")\n",
    "    py_files[i] = file"
   ]
  },
  {
   "cell_type": "code",
   "execution_count": 6,
   "id": "e761981e",
   "metadata": {},
   "outputs": [
    {
     "data": {
      "text/plain": [
       "['cf7cf863-929a-4b89-962b-7913869167e4',\n",
       " 'a90983a1-2329-4019-96e8-949493c3fc24',\n",
       " '315ac662-9e95-4dec-80f0-48e244f9f8e1',\n",
       " 'b71b28f1-7f63-4593-bdb2-9e60dd1ac71e',\n",
       " '96c75293-2026-48af-ad99-37281cb9bb3e',\n",
       " '436c714b-b588-4894-b68c-1e0f773e5df1',\n",
       " '5238ac7b-ad85-488f-b013-9ee4e2064e60',\n",
       " 'e8d7e0c4-b293-43ce-832f-c37fb8fd3b23',\n",
       " 'e6a9f8f7-8024-42d5-aad5-ef726d353f3b',\n",
       " '26d9e19b-59ed-4bbb-906a-9953b5d2c825',\n",
       " 'a3347182-4364-43f8-8992-2409b1b66d31',\n",
       " 'f63b25f4-8df4-4336-8c02-9456eb3c09b0',\n",
       " 'e8d3eabc-edd1-414f-9d95-277df742655a',\n",
       " 'b6701cb1-3a9b-456e-ad73-c6e06eea03ec']"
      ]
     },
     "execution_count": 6,
     "metadata": {},
     "output_type": "execute_result"
    }
   ],
   "source": [
    "# Remove the python file(s)\n",
    "subdir_list = os.listdir(path)\n",
    "for file in py_files:\n",
    "    subdir_list.remove(file)\n",
    "subdir_list"
   ]
  },
  {
   "cell_type": "code",
   "execution_count": 7,
   "id": "932e0377",
   "metadata": {},
   "outputs": [],
   "source": [
    "# Loop through the subdirectory and extract the label lists and frequencies\n",
    "data_dict = {}\n",
    "for subdir in subdir_list:\n",
    "    full_path = path + subdir\n",
    "    labels_list, labels_freq = get_label_list_and_freq(full_path)\n",
    "    # store the list and corresponding frequency into a dictionary\n",
    "    labels_dict = {}\n",
    "    labels_dict[\"label list\"] = labels_list\n",
    "    labels_dict[\"label freq\"] = labels_freq\n",
    "    # store the label dictionary into the data dictionary under the corresponding subdirectory\n",
    "    data_dict[subdir] = labels_dict"
   ]
  },
  {
   "cell_type": "code",
   "execution_count": 8,
   "id": "46cea513",
   "metadata": {},
   "outputs": [
    {
     "name": "stdout",
     "output_type": "stream",
     "text": [
      "{'cf7cf863-929a-4b89-962b-7913869167e4': {'label list': [1, 0, 2, 0, 3, 0, 4, 0, 3, 0, 5], 'label freq': [169, 8, 593, 12, 455, 1, 24, 6, 344, 9, 192]}, 'a90983a1-2329-4019-96e8-949493c3fc24': {'label list': [1, 0, 2, 0, 3, 0, 4, 0, 5], 'label freq': [41, 16, 334, 106, 476, 4, 7, 22, 120]}, '315ac662-9e95-4dec-80f0-48e244f9f8e1': {'label list': [1, 2, 0, 3, 0, 4, 0, 3, 0, 5], 'label freq': [84, 231, 23, 544, 24, 26, 39, 192, 7, 184]}, 'b71b28f1-7f63-4593-bdb2-9e60dd1ac71e': {'label list': [1, 0, 2, 0, 3, 0, 4, 0, 3, 0, 5], 'label freq': [47, 3, 846, 1, 394, 3, 23, 10, 143, 2, 109]}, '96c75293-2026-48af-ad99-37281cb9bb3e': {'label list': [2, 1, 2, 0, 3, 0, 4, 0, 3, 0, 5], 'label freq': [146, 101, 254, 17, 550, 1, 73, 14, 190, 15, 266]}, '436c714b-b588-4894-b68c-1e0f773e5df1': {'label list': [1, 0, 2, 0, 3, 0, 4, 0, 3, 0, 5], 'label freq': [153, 45, 348, 39, 346, 2, 51, 17, 221, 10, 131]}, '5238ac7b-ad85-488f-b013-9ee4e2064e60': {'label list': [1, 0, 2, 0, 3, 0, 4, 0, 5], 'label freq': [54, 1, 728, 28, 379, 14, 21, 62, 151]}, 'e8d7e0c4-b293-43ce-832f-c37fb8fd3b23': {'label list': [1, 0, 2, 0, 3, 0, 4, 0, 3, 0, 5], 'label freq': [125, 1, 257, 22, 247, 2, 32, 3, 48, 5, 133]}, 'e6a9f8f7-8024-42d5-aad5-ef726d353f3b': {'label list': [1, 2, 0, 3, 4, 0, 5], 'label freq': [67, 649, 70, 606, 42, 57, 241]}, '26d9e19b-59ed-4bbb-906a-9953b5d2c825': {'label list': [1, 0, 2, 0, 3, 0, 4, 0, 3, 0, 5], 'label freq': [69, 1, 334, 43, 428, 2, 6, 5, 193, 14, 207]}, 'a3347182-4364-43f8-8992-2409b1b66d31': {'label list': [2, 0, 1, 0, 2, 0, 3, 0, 4, 0, 3, 0, 5], 'label freq': [52, 2, 7, 1, 85, 20, 455, 1, 15, 6, 46, 20, 213]}, 'f63b25f4-8df4-4336-8c02-9456eb3c09b0': {'label list': [1, 0, 2, 0, 3, 0, 4, 0, 3, 0, 5], 'label freq': [202, 4, 450, 23, 434, 8, 23, 3, 301, 10, 107]}, 'e8d3eabc-edd1-414f-9d95-277df742655a': {'label list': [2, 0, 1, 0, 2, 0, 3, 0, 4, 0, 3], 'label freq': [152, 1, 68, 2, 316, 69, 418, 1, 9, 19, 54]}, 'b6701cb1-3a9b-456e-ad73-c6e06eea03ec': {'label list': [1, 2, 0, 3, 4, 0, 3, 0, 5], 'label freq': [137, 741, 30, 218, 93, 9, 253, 50, 119]}}\n"
     ]
    }
   ],
   "source": [
    "print(data_dict)"
   ]
  },
  {
   "cell_type": "markdown",
   "id": "3d445654",
   "metadata": {},
   "source": [
    "# Get other prior statistics from ground truth"
   ]
  },
  {
   "cell_type": "markdown",
   "id": "df320b1a",
   "metadata": {},
   "source": [
    "### Prior Parameters"
   ]
  },
  {
   "cell_type": "code",
   "execution_count": 9,
   "id": "abaaedb1",
   "metadata": {},
   "outputs": [
    {
     "name": "stdout",
     "output_type": "stream",
     "text": [
      "cf7cf863-929a-4b89-962b-7913869167e4:\n",
      "label list:[1, 0, 2, 0, 3, 0, 4, 0, 3, 0, 5]\n",
      "label freq:[169, 8, 593, 12, 455, 1, 24, 6, 344, 9, 192]\n",
      "a90983a1-2329-4019-96e8-949493c3fc24:\n",
      "label list:[1, 0, 2, 0, 3, 0, 4, 0, 5]\n",
      "label freq:[41, 16, 334, 106, 476, 4, 7, 22, 120]\n",
      "315ac662-9e95-4dec-80f0-48e244f9f8e1:\n",
      "label list:[1, 2, 0, 3, 0, 4, 0, 3, 0, 5]\n",
      "label freq:[84, 231, 23, 544, 24, 26, 39, 192, 7, 184]\n",
      "b71b28f1-7f63-4593-bdb2-9e60dd1ac71e:\n",
      "label list:[1, 0, 2, 0, 3, 0, 4, 0, 3, 0, 5]\n",
      "label freq:[47, 3, 846, 1, 394, 3, 23, 10, 143, 2, 109]\n",
      "96c75293-2026-48af-ad99-37281cb9bb3e:\n",
      "label list:[2, 1, 2, 0, 3, 0, 4, 0, 3, 0, 5]\n",
      "label freq:[146, 101, 254, 17, 550, 1, 73, 14, 190, 15, 266]\n",
      "436c714b-b588-4894-b68c-1e0f773e5df1:\n",
      "label list:[1, 0, 2, 0, 3, 0, 4, 0, 3, 0, 5]\n",
      "label freq:[153, 45, 348, 39, 346, 2, 51, 17, 221, 10, 131]\n",
      "5238ac7b-ad85-488f-b013-9ee4e2064e60:\n",
      "label list:[1, 0, 2, 0, 3, 0, 4, 0, 5]\n",
      "label freq:[54, 1, 728, 28, 379, 14, 21, 62, 151]\n",
      "e8d7e0c4-b293-43ce-832f-c37fb8fd3b23:\n",
      "label list:[1, 0, 2, 0, 3, 0, 4, 0, 3, 0, 5]\n",
      "label freq:[125, 1, 257, 22, 247, 2, 32, 3, 48, 5, 133]\n",
      "e6a9f8f7-8024-42d5-aad5-ef726d353f3b:\n",
      "label list:[1, 2, 0, 3, 4, 0, 5]\n",
      "label freq:[67, 649, 70, 606, 42, 57, 241]\n",
      "26d9e19b-59ed-4bbb-906a-9953b5d2c825:\n",
      "label list:[1, 0, 2, 0, 3, 0, 4, 0, 3, 0, 5]\n",
      "label freq:[69, 1, 334, 43, 428, 2, 6, 5, 193, 14, 207]\n",
      "a3347182-4364-43f8-8992-2409b1b66d31:\n",
      "label list:[2, 0, 1, 0, 2, 0, 3, 0, 4, 0, 3, 0, 5]\n",
      "label freq:[52, 2, 7, 1, 85, 20, 455, 1, 15, 6, 46, 20, 213]\n",
      "f63b25f4-8df4-4336-8c02-9456eb3c09b0:\n",
      "label list:[1, 0, 2, 0, 3, 0, 4, 0, 3, 0, 5]\n",
      "label freq:[202, 4, 450, 23, 434, 8, 23, 3, 301, 10, 107]\n",
      "e8d3eabc-edd1-414f-9d95-277df742655a:\n",
      "label list:[2, 0, 1, 0, 2, 0, 3, 0, 4, 0, 3]\n",
      "label freq:[152, 1, 68, 2, 316, 69, 418, 1, 9, 19, 54]\n",
      "b6701cb1-3a9b-456e-ad73-c6e06eea03ec:\n",
      "label list:[1, 2, 0, 3, 4, 0, 3, 0, 5]\n",
      "label freq:[137, 741, 30, 218, 93, 9, 253, 50, 119]\n"
     ]
    }
   ],
   "source": [
    "for vid in data_dict:\n",
    "    print(\"{}:\".format(vid))\n",
    "    print(\"label list:{}\\nlabel freq:{}\".format(data_dict[vid][\"label list\"], data_dict[vid][\"label freq\"]))"
   ]
  },
  {
   "cell_type": "markdown",
   "id": "caa755ab",
   "metadata": {},
   "source": [
    "### Initialisation probability"
   ]
  },
  {
   "cell_type": "code",
   "execution_count": 10,
   "id": "586e87db",
   "metadata": {},
   "outputs": [],
   "source": [
    "# Initialisation probability\n",
    "def getInitProb(data_dict):\n",
    "    # initialise \n",
    "    init_count = np.array([0]*6)\n",
    "    for vid in data_dict:\n",
    "        init_phase = data_dict[vid]['label list'][0]\n",
    "        init_count[init_phase] += 1\n",
    "    print(\"Count of initial phases: {}\".format(init_count))\n",
    "    total = np.sum(init_count)\n",
    "    print(\"Total:{}\".format(total))\n",
    "    \n",
    "    init_prob = np.array([0.0]*6)\n",
    "    for i in range(len(init_prob)):\n",
    "        init_prob[i] = init_count[i]/total\n",
    "    print(\"Initialisation probability vector: {}\".format(init_prob))\n",
    "    return init_prob"
   ]
  },
  {
   "cell_type": "code",
   "execution_count": 11,
   "id": "df126090",
   "metadata": {},
   "outputs": [
    {
     "name": "stdout",
     "output_type": "stream",
     "text": [
      "Count of initial phases: [ 0 11  3  0  0  0]\n",
      "Total:14\n",
      "Initialisation probability vector: [0.         0.78571429 0.21428571 0.         0.         0.        ]\n"
     ]
    }
   ],
   "source": [
    "init_prob = getInitProb(data_dict)"
   ]
  },
  {
   "cell_type": "markdown",
   "id": "54861fa2",
   "metadata": {},
   "source": [
    "### Mean and Standard deviation of percentage length of each phase\n"
   ]
  },
  {
   "cell_type": "code",
   "execution_count": 12,
   "id": "f3c2a81b",
   "metadata": {},
   "outputs": [],
   "source": [
    "# Get phase duration percentage for each video\n",
    "def getPhasePercByVid(data_dict):\n",
    "    # dictionary to store all percentage vectors\n",
    "    phase_perc_mat = np.array([[0,0,0,0,0,0]])\n",
    "    for vid in data_dict:\n",
    "        # init a counter for every video\n",
    "        phase_count = np.array([0]*6)\n",
    "        # get total frame in the end\n",
    "        total = 0\n",
    "        \n",
    "        for index, freq in enumerate(data_dict[vid]['label freq']):\n",
    "            # get the corresponding label and add the counts to the label\n",
    "            phase_count[data_dict[vid]['label list'][index]] += freq\n",
    "            total += freq\n",
    "        \n",
    "        # get the percentage for each phase\n",
    "        phase_perc = np.array([0.0]*6)\n",
    "        for i in range(6):\n",
    "            phase_perc[i] = phase_count[i]/total\n",
    "            \n",
    "        # add the vector to the dictionary\n",
    "        phase_perc_mat = np.append(phase_perc_mat, np.array([phase_perc]), axis=0)\n",
    "    \n",
    "    # remove the first array that gives the shape of the numpy array\n",
    "    return np.delete(phase_perc_mat, 0, axis=0)"
   ]
  },
  {
   "cell_type": "code",
   "execution_count": 13,
   "id": "5e6b47dc",
   "metadata": {},
   "outputs": [
    {
     "name": "stdout",
     "output_type": "stream",
     "text": [
      "Phase percentage matrix by video:\n",
      "[[0.01985659 0.09321566 0.32708218 0.44070601 0.01323773 0.10590182]\n",
      " [0.13143872 0.03641208 0.29662522 0.42273535 0.0062167  0.10657194]\n",
      " [0.06868538 0.0620384  0.17060561 0.54357459 0.01920236 0.13589365]\n",
      " [0.01201771 0.02972802 0.53510436 0.33965844 0.01454775 0.06894371]\n",
      " [0.02888752 0.06207744 0.24585126 0.45482483 0.04486785 0.16349109]\n",
      " [0.08290536 0.11225238 0.25531915 0.41599413 0.03741746 0.09611152]\n",
      " [0.07301808 0.03755216 0.50625869 0.2635605  0.01460362 0.10500695]\n",
      " [0.03771429 0.14285714 0.29371429 0.33714286 0.03657143 0.152     ]\n",
      " [0.07332564 0.0386836  0.37471132 0.34988453 0.02424942 0.1391455 ]\n",
      " [0.0499232  0.05299539 0.25652842 0.47695853 0.00460829 0.15898618]\n",
      " [0.05417118 0.00758397 0.14842904 0.54279523 0.01625135 0.23076923]\n",
      " [0.03067093 0.12907348 0.28753994 0.46964856 0.01469649 0.06837061]\n",
      " [0.08295762 0.0613165  0.4220018  0.42560866 0.00811542 0.        ]\n",
      " [0.05393939 0.0830303  0.44909091 0.28545455 0.05636364 0.07212121]]\n",
      "Shape of matrix:(14, 6)\n",
      "Total number of videos:14\n"
     ]
    }
   ],
   "source": [
    "phase_perc_mat_by_vid = getPhasePercByVid(data_dict)\n",
    "print(\"Phase percentage matrix by video:\")\n",
    "print(phase_perc_mat_by_vid)\n",
    "print(\"Shape of matrix:{}\".format(phase_perc_mat_by_vid.shape))\n",
    "print(\"Total number of videos:{}\".format(len(phase_perc_mat_by_vid)))"
   ]
  },
  {
   "cell_type": "code",
   "execution_count": 14,
   "id": "8dc190c9",
   "metadata": {},
   "outputs": [],
   "source": [
    "# Get phase duration percentage for each phase across all videos\n",
    "# Output is a dictionary indexed by each phase. The value is the length of the key phase across all videos\n",
    "def getPhasePercByPhase(phase_perc_mat_by_vid):\n",
    "    return phase_perc_mat_by_vid.T\n",
    "    "
   ]
  },
  {
   "cell_type": "code",
   "execution_count": 15,
   "id": "09aa6cc8",
   "metadata": {},
   "outputs": [
    {
     "name": "stdout",
     "output_type": "stream",
     "text": [
      "[[0.01985659 0.13143872 0.06868538 0.01201771 0.02888752 0.08290536\n",
      "  0.07301808 0.03771429 0.07332564 0.0499232  0.05417118 0.03067093\n",
      "  0.08295762 0.05393939]\n",
      " [0.09321566 0.03641208 0.0620384  0.02972802 0.06207744 0.11225238\n",
      "  0.03755216 0.14285714 0.0386836  0.05299539 0.00758397 0.12907348\n",
      "  0.0613165  0.0830303 ]\n",
      " [0.32708218 0.29662522 0.17060561 0.53510436 0.24585126 0.25531915\n",
      "  0.50625869 0.29371429 0.37471132 0.25652842 0.14842904 0.28753994\n",
      "  0.4220018  0.44909091]\n",
      " [0.44070601 0.42273535 0.54357459 0.33965844 0.45482483 0.41599413\n",
      "  0.2635605  0.33714286 0.34988453 0.47695853 0.54279523 0.46964856\n",
      "  0.42560866 0.28545455]\n",
      " [0.01323773 0.0062167  0.01920236 0.01454775 0.04486785 0.03741746\n",
      "  0.01460362 0.03657143 0.02424942 0.00460829 0.01625135 0.01469649\n",
      "  0.00811542 0.05636364]\n",
      " [0.10590182 0.10657194 0.13589365 0.06894371 0.16349109 0.09611152\n",
      "  0.10500695 0.152      0.1391455  0.15898618 0.23076923 0.06837061\n",
      "  0.         0.07212121]]\n"
     ]
    }
   ],
   "source": [
    "phase_perc_mat_by_phase = getPhasePercByPhase(phase_perc_mat_by_vid)\n",
    "print(phase_perc_mat_by_phase)"
   ]
  },
  {
   "cell_type": "code",
   "execution_count": 16,
   "id": "f24b2411",
   "metadata": {},
   "outputs": [],
   "source": [
    "# Get mean and std from each phase's length distribution\n",
    "def getMeanAndStd(phase_perc_mat_by_phase):\n",
    "    norm_params_dict = {}\n",
    "    for phase, lengths in enumerate(phase_perc_mat_by_phase):\n",
    "        mu, std = norm.fit(lengths)\n",
    "        norm_params_dict[phase] = (mu, std)\n",
    "    return norm_params_dict"
   ]
  },
  {
   "cell_type": "code",
   "execution_count": 17,
   "id": "5476cfd4",
   "metadata": {},
   "outputs": [
    {
     "name": "stdout",
     "output_type": "stream",
     "text": [
      "Duration percentage of phase 0 has mean and std : (0.05710797112220632, 0.030321443261777936)\n",
      "Duration percentage of phase 1 has mean and std : (0.06777261004314016, 0.03816546406393554)\n",
      "Duration percentage of phase 2 has mean and std : (0.3263472992450161, 0.11284218205253618)\n",
      "Duration percentage of phase 3 has mean and std : (0.4120390546260583, 0.08352923836196571)\n",
      "Duration percentage of phase 4 has mean and std : (0.022210679714868137, 0.015080408295242551)\n",
      "Duration percentage of phase 5 has mean and std : (0.11452238524871104, 0.053481343652044204)\n"
     ]
    }
   ],
   "source": [
    "norm_params_dict = getMeanAndStd(phase_perc_mat_by_phase)\n",
    "for k, v in norm_params_dict.items():\n",
    "    print(\"Duration percentage of phase {} has mean and std : {}\". format(k, v))"
   ]
  },
  {
   "cell_type": "markdown",
   "id": "14c5baec",
   "metadata": {},
   "source": [
    "### Transition probability matrix without zero"
   ]
  },
  {
   "cell_type": "code",
   "execution_count": 18,
   "id": "b43cc4f4",
   "metadata": {},
   "outputs": [],
   "source": [
    "def getTransProbMatWithoutZero(data_dict):\n",
    "    # The transition matrix here excludes phase zero\n",
    "    # count transitions from phase i to all phases and devided by total transitions made from phase i\n",
    "    trans_mat = np.array([[0.0]*5]*5)\n",
    "    for vid in data_dict:\n",
    "        label_list = data_dict[vid][\"label list\"]\n",
    "        label_freq = data_dict[vid][\"label freq\"]\n",
    "        total_trans_label_list = len(label_list)\n",
    "        prev_phase = 0\n",
    "        for index, phase in enumerate(label_list):\n",
    "            # add freq-1 for each phase to the same phase transition\n",
    "            # at the end of current label, add 1 to the transition \n",
    "            if phase == 0:\n",
    "                continue\n",
    "            if prev_phase != 0:\n",
    "                trans_mat[prev_phase-1][phase-1] += 1\n",
    "            trans_mat[phase-1][phase-1] += label_freq[index] - 1\n",
    "            prev_phase = phase\n",
    "#         print(\"Counting of transitions for {} looks like...\".format(vid))\n",
    "#         print(trans_mat)\n",
    "    # calculate the probability of transition for each row\n",
    "    for i in range(len(trans_mat)):\n",
    "        total = np.sum(trans_mat[i])\n",
    "        trans_mat[i] = trans_mat[i]/total\n",
    "        \n",
    "    print(\"Final transition probability matrix without phase zero looks like...\")\n",
    "    print(trans_mat)\n",
    "    return trans_mat"
   ]
  },
  {
   "cell_type": "code",
   "execution_count": 19,
   "id": "dea3ea42",
   "metadata": {},
   "outputs": [
    {
     "name": "stdout",
     "output_type": "stream",
     "text": [
      "Final transition probability matrix without phase zero looks like...\n",
      "[[0.989426 0.010574 0.       0.       0.      ]\n",
      " [0.00046  0.997391 0.002149 0.       0.      ]\n",
      " [0.       0.       0.996975 0.001765 0.00126 ]\n",
      " [0.       0.       0.024719 0.968539 0.006742]\n",
      " [0.       0.       0.       0.       1.      ]]\n"
     ]
    }
   ],
   "source": [
    "np.set_printoptions(suppress=True, precision=6)\n",
    "trans_mat_wo_zero = getTransProbMatWithoutZero(data_dict)"
   ]
  },
  {
   "cell_type": "markdown",
   "id": "942f46cb",
   "metadata": {},
   "source": [
    "## Continuous Time Markov Chain : use exponential decay for staying in the current phase"
   ]
  },
  {
   "cell_type": "code",
   "execution_count": null,
   "id": "a4d41b8d",
   "metadata": {},
   "outputs": [],
   "source": []
  }
 ],
 "metadata": {
  "kernelspec": {
   "display_name": "Python 3",
   "language": "python",
   "name": "python3"
  },
  "language_info": {
   "codemirror_mode": {
    "name": "ipython",
    "version": 3
   },
   "file_extension": ".py",
   "mimetype": "text/x-python",
   "name": "python",
   "nbconvert_exporter": "python",
   "pygments_lexer": "ipython3",
   "version": "3.7.10"
  }
 },
 "nbformat": 4,
 "nbformat_minor": 5
}
